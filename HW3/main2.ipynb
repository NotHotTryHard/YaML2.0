{
 "cells": [
  {
   "cell_type": "code",
   "execution_count": 3,
   "id": "56b1572c-05b0-4eab-8e49-92544404a09c",
   "metadata": {},
   "outputs": [
    {
     "name": "stdout",
     "output_type": "stream",
     "text": [
      "GPU недоступен. Используются CPU-вычисления.\n"
     ]
    },
    {
     "name": "stderr",
     "output_type": "stream",
     "text": [
      "Matching: 100%|████████████████████████████████████████████████████████████| 1000/1000 [15:36<00:00,  1.07row/s]"
     ]
    },
    {
     "name": "stdout",
     "output_type": "stream",
     "text": [
      "Результаты сохранены в ./data/test_with_translations.jsonl.\n"
     ]
    },
    {
     "name": "stderr",
     "output_type": "stream",
     "text": [
      "\n"
     ]
    }
   ],
   "source": [
    "\n",
    "import pandas as pd\n",
    "from sklearn.feature_extraction.text import TfidfVectorizer\n",
    "from sklearn.metrics.pairwise import cosine_similarity\n",
    "from tqdm import tqdm\n",
    "import cupy as cp\n",
    "import json\n",
    "\n",
    "# Открытие файлов\n",
    "train_path = \"./data/train\"  # Замените на путь к вашему train файлу\n",
    "test_no_reference_path = \"./data/test_no_reference\"  # Замените на путь к вашему test файлу\n",
    "\n",
    "# Загрузка данных\n",
    "with open(train_path, 'r', encoding='utf-8') as train_file:\n",
    "    train_data = [json.loads(line) for line in train_file.readlines()]\n",
    "\n",
    "with open(test_no_reference_path, 'r', encoding='utf-8') as test_file:\n",
    "    test_data = [json.loads(line) for line in test_file.readlines()]\n",
    "\n",
    "# Преобразование данных в DataFrame\n",
    "train_df = pd.DataFrame(train_data)\n",
    "test_df = pd.DataFrame(test_data)\n",
    "\n",
    "# Векторизация с использованием TF-IDF\n",
    "vectorizer = TfidfVectorizer(analyzer='char', ngram_range=(2, 4))\n",
    "train_src_vectors = vectorizer.fit_transform(train_df['src'])\n",
    "test_src_vectors = vectorizer.transform(test_df['src'])\n",
    "\n",
    "# Перенос на GPU (если возможно)\n",
    "try:\n",
    "    train_src_vectors = cp.sparse.csr_matrix(train_src_vectors.get())\n",
    "    test_src_vectors = cp.sparse.csr_matrix(test_src_vectors.get())\n",
    "    use_gpu = True\n",
    "    print(\"GPU будет использоваться для расчетов.\")\n",
    "except:\n",
    "    use_gpu = False\n",
    "    print(\"GPU недоступен. Используются CPU-вычисления.\")\n",
    "\n",
    "# Расчет косинусного сходства и получение лучших совпадений\n",
    "results = []\n",
    "for i in tqdm(range(test_src_vectors.shape[0]), desc=\"Matching\", unit=\"row\"):\n",
    "    if use_gpu:\n",
    "        similarities = train_src_vectors.dot(test_src_vectors[i].T).toarray()\n",
    "        best_match_index = cp.argmax(similarities).get()\n",
    "    else:\n",
    "        similarities = cosine_similarity(test_src_vectors[i], train_src_vectors)\n",
    "        best_match_index = similarities.argmax()\n",
    "    results.append(train_df.iloc[best_match_index]['dst'])\n",
    "\n",
    "# Добавление результатов в тестовый DataFrame\n",
    "test_df['dst'] = results\n",
    "\n",
    "# Сохранение в формате JSON Lines\n",
    "output_path = \"./data/test_with_translations.jsonl\"  # Укажите путь для сохранения результата\n",
    "with open(output_path, 'w', encoding='utf-8') as output_file:\n",
    "    for _, row in test_df.iterrows():\n",
    "        json.dump(row.to_dict(), output_file, ensure_ascii=False)\n",
    "        output_file.write('\\n')\n",
    "\n",
    "print(f\"Результаты сохранены в {output_path}.\")\n"
   ]
  },
  {
   "cell_type": "code",
   "execution_count": null,
   "id": "d3b64e66-ad66-40c6-80a4-78c33cb807d2",
   "metadata": {},
   "outputs": [],
   "source": [
    "0.85"
   ]
  }
 ],
 "metadata": {
  "kernelspec": {
   "display_name": "nlp_env",
   "language": "python",
   "name": "nlp_env"
  },
  "language_info": {
   "codemirror_mode": {
    "name": "ipython",
    "version": 3
   },
   "file_extension": ".py",
   "mimetype": "text/x-python",
   "name": "python",
   "nbconvert_exporter": "python",
   "pygments_lexer": "ipython3",
   "version": "3.12.2"
  }
 },
 "nbformat": 4,
 "nbformat_minor": 5
}
