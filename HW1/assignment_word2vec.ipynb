{
 "cells": [
  {
   "cell_type": "markdown",
   "metadata": {
    "id": "nTSf4ro-qU0d"
   },
   "source": [
    "## Бонусное задание: word2vec на PyTorch\n",
    "\n",
    "Как вы уже могли заметить, идея, лежащая в основе [word2vec](https://arxiv.org/pdf/1310.4546), достаточно общая. В данном задании вы реализуете его самостоятельно.\n",
    "\n",
    "Дисклеймер: не стоит удивляться тому, что реализация от `gensim` (или аналоги) обучается быстрее и работает точнее. Она использует множество доработок и ускорений, а также достаточно эффективный код. Ваша задача добиться промежуточных результатов за разумное время.\n",
    "\n",
    "P.s. Как ни странно, GPU в этом задании нам не потребуется."
   ]
  },
  {
   "cell_type": "markdown",
   "metadata": {},
   "source": [
    "__Requirements:__ if you're running locally, in the selected environment run the following command:\n",
    "\n",
    "```pip install --upgrade nltk bokeh umap-learn```\n"
   ]
  },
  {
   "cell_type": "code",
   "execution_count": null,
   "metadata": {
    "id": "Oipe2DU8qfm7"
   },
   "outputs": [],
   "source": [
    "#!pip install --upgrade nltk bokeh umap-learn"
   ]
  },
  {
   "cell_type": "code",
   "execution_count": 8,
   "metadata": {
    "id": "pqPU4Lu2qU0h"
   },
   "outputs": [
    {
     "name": "stderr",
     "output_type": "stream",
     "text": [
      "/Users/user/Documents/programing/Python/YaML2.0/nlp_env/lib/python3.12/site-packages/tqdm/auto.py:21: TqdmWarning: IProgress not found. Please update jupyter and ipywidgets. See https://ipywidgets.readthedocs.io/en/stable/user_install.html\n",
      "  from .autonotebook import tqdm as notebook_tqdm\n"
     ]
    }
   ],
   "source": [
    "import itertools\n",
    "import random\n",
    "import string\n",
    "from collections import Counter\n",
    "from itertools import chain\n",
    "\n",
    "import matplotlib.pyplot as plt\n",
    "import numpy as np\n",
    "import torch\n",
    "import torch.autograd as autograd\n",
    "import torch.nn as nn\n",
    "import torch.nn.functional as F\n",
    "import torch.optim as optim\n",
    "import umap\n",
    "from IPython.display import clear_output\n",
    "from matplotlib import pyplot as plt\n",
    "from nltk.tokenize import WordPunctTokenizer\n",
    "from torch.optim.lr_scheduler import ReduceLROnPlateau, StepLR\n",
    "from tqdm.auto import tqdm as tqdma"
   ]
  },
  {
   "cell_type": "code",
   "execution_count": 1,
   "metadata": {
    "colab": {
     "base_uri": "https://localhost:8080/"
    },
    "id": "8Fbx57z3qU0i",
    "outputId": "699ab6a7-41b9-402f-b842-039142bea06a"
   },
   "outputs": [
    {
     "name": "stdout",
     "output_type": "stream",
     "text": [
      "--2024-10-26 12:57:26--  https://www.dropbox.com/s/obaitrix9jyu84r/quora.txt?dl=1\n",
      "Распознаётся www.dropbox.com (www.dropbox.com)… 162.125.70.18\n",
      "Подключение к www.dropbox.com (www.dropbox.com)|162.125.70.18|:443... соединение установлено.\n",
      "HTTP-запрос отправлен. Ожидание ответа… 302 Found\n",
      "Адрес: https://www.dropbox.com/scl/fi/p0t2dw6oqs6oxpd6zz534/quora.txt?rlkey=bjupppwua4zmd4elz8octecy9&dl=1 [переход]\n",
      "--2024-10-26 12:57:26--  https://www.dropbox.com/scl/fi/p0t2dw6oqs6oxpd6zz534/quora.txt?rlkey=bjupppwua4zmd4elz8octecy9&dl=1\n",
      "Повторное использование соединения с www.dropbox.com:443.\n",
      "HTTP-запрос отправлен. Ожидание ответа… 302 Found\n",
      "Адрес: https://ucaaf252ce01bf6e26ad86cf13fb.dl.dropboxusercontent.com/cd/0/inline/CdINnIX6mPxHjeRAiaHndh2QRto7xgF0Dvdj5TApKp9NMu6miUj6Z5ShOWqcM9ugmNAB_TjFQpNuhfhuteQ3l2kBP6wgjP3RUBvVsw8B4Op2U5g3Ayo1jxqySrDvOsBNz9M/file?dl=1# [переход]\n",
      "--2024-10-26 12:57:27--  https://ucaaf252ce01bf6e26ad86cf13fb.dl.dropboxusercontent.com/cd/0/inline/CdINnIX6mPxHjeRAiaHndh2QRto7xgF0Dvdj5TApKp9NMu6miUj6Z5ShOWqcM9ugmNAB_TjFQpNuhfhuteQ3l2kBP6wgjP3RUBvVsw8B4Op2U5g3Ayo1jxqySrDvOsBNz9M/file?dl=1\n",
      "Распознаётся ucaaf252ce01bf6e26ad86cf13fb.dl.dropboxusercontent.com (ucaaf252ce01bf6e26ad86cf13fb.dl.dropboxusercontent.com)… 162.125.70.15\n",
      "Подключение к ucaaf252ce01bf6e26ad86cf13fb.dl.dropboxusercontent.com (ucaaf252ce01bf6e26ad86cf13fb.dl.dropboxusercontent.com)|162.125.70.15|:443... соединение установлено.\n",
      "HTTP-запрос отправлен. Ожидание ответа… 200 OK\n",
      "Длина: 33813903 (32M) [application/binary]\n",
      "Сохранение в: «./quora.txt»\n",
      "\n",
      "./quora.txt         100%[===================>]  32,25M  9,07MB/s    за 4,3s    \n",
      "\n",
      "2024-10-26 12:57:32 (7,43 MB/s) - «./quora.txt» сохранён [33813903/33813903]\n",
      "\n"
     ]
    }
   ],
   "source": [
    "# download the data:\n",
    "#!wget \"https://www.dropbox.com/s/obaitrix9jyu84r/quora.txt?dl=1\" -O ./quora.txt -nc\n",
    "#!curl -L https://www.dropbox.com/s/obaitrix9jyu84r/quora.txt?dl=1 > ./quora.txt\n",
    "# alternative download link: https://yadi.sk/i/BPQrUu1NaTduEw"
   ]
  },
  {
   "cell_type": "code",
   "execution_count": 9,
   "metadata": {
    "colab": {
     "base_uri": "https://localhost:8080/",
     "height": 37
    },
    "id": "8EYy5dQpqU0i",
    "outputId": "57a393d2-d5f5-4fa9-f46d-1b268d7798ae",
    "scrolled": false
   },
   "outputs": [
    {
     "data": {
      "text/plain": [
       "\"What TV shows or books help you read people's body language?\\n\""
      ]
     },
     "execution_count": 9,
     "metadata": {},
     "output_type": "execute_result"
    }
   ],
   "source": [
    "data = list(open(\"./quora.txt\", encoding=\"utf-8\"))\n",
    "data[50]"
   ]
  },
  {
   "cell_type": "markdown",
   "metadata": {
    "id": "feBEGI2eqU0j"
   },
   "source": [
    "Токенизация – первый шаг.\n",
    "Тексты, с которыми мы работаем, включают в себя пунктуацию, смайлики и прочие нестандартные токены, так что простой `str.split` не подойдет.\n",
    "\n",
    "Обратимся к `nltk` - библиотеку, нашла широкое применеие в области NLP."
   ]
  },
  {
   "cell_type": "code",
   "execution_count": 10,
   "metadata": {
    "colab": {
     "base_uri": "https://localhost:8080/"
    },
    "id": "7mWTvm50qU0j",
    "outputId": "18272985-9762-4288-8457-76fa78a44d52"
   },
   "outputs": [
    {
     "name": "stdout",
     "output_type": "stream",
     "text": [
      "['What', 'TV', 'shows', 'or', 'books', 'help', 'you', 'read', 'people', \"'\", 's', 'body', 'language', '?']\n"
     ]
    }
   ],
   "source": [
    "tokenizer = WordPunctTokenizer()\n",
    "\n",
    "print(tokenizer.tokenize(data[50]))"
   ]
  },
  {
   "cell_type": "code",
   "execution_count": 11,
   "metadata": {
    "id": "HzC05EHWqU0j"
   },
   "outputs": [],
   "source": [
    "data_tok = [\n",
    "    tokenizer.tokenize(\n",
    "        line.translate(str.maketrans(\"\", \"\", string.punctuation)).lower()\n",
    "    )\n",
    "    for line in data\n",
    "]\n",
    "data_tok = [x for x in data_tok if len(x) >= 3]"
   ]
  },
  {
   "cell_type": "markdown",
   "metadata": {
    "id": "6azRAgHIqU0k"
   },
   "source": [
    "Несколько проверок:"
   ]
  },
  {
   "cell_type": "code",
   "execution_count": 12,
   "metadata": {
    "id": "Cp8UpxdWqU0k"
   },
   "outputs": [],
   "source": [
    "assert all(\n",
    "    isinstance(row, (list, tuple)) for row in data_tok\n",
    "), \"please convert each line into a list of tokens (strings)\"\n",
    "assert all(\n",
    "    all(isinstance(tok, str) for tok in row) for row in data_tok\n",
    "), \"please convert each line into a list of tokens (strings)\"\n",
    "is_latin = lambda tok: all(\"a\" <= x.lower() <= \"z\" for x in tok)\n",
    "assert all(\n",
    "    map(lambda l: not is_latin(l) or l.islower(), map(\" \".join, data_tok))\n",
    "), \"please make sure to lowercase the data\""
   ]
  },
  {
   "cell_type": "markdown",
   "metadata": {
    "id": "37e7-MIhqU0x"
   },
   "source": [
    "Ниже заданы константы ширины окна контекста и проведена предобработка для построения skip-gram модели."
   ]
  },
  {
   "cell_type": "code",
   "execution_count": 13,
   "metadata": {
    "id": "fugc1IomqU0x"
   },
   "outputs": [],
   "source": [
    "min_count = 5\n",
    "window_radius = 5"
   ]
  },
  {
   "cell_type": "code",
   "execution_count": 14,
   "metadata": {},
   "outputs": [],
   "source": [
    "vocabulary_with_counter = Counter(chain.from_iterable(data_tok))\n",
    "\n",
    "word_count_dict = dict()\n",
    "for word, counter in vocabulary_with_counter.items():\n",
    "    if counter >= min_count:\n",
    "        word_count_dict[word] = counter\n",
    "\n",
    "vocabulary = set(word_count_dict.keys())\n",
    "del vocabulary_with_counter"
   ]
  },
  {
   "cell_type": "code",
   "execution_count": 15,
   "metadata": {},
   "outputs": [],
   "source": [
    "word_to_index = {word: index for index, word in enumerate(vocabulary)}\n",
    "index_to_word = {index: word for word, index in word_to_index.items()}"
   ]
  },
  {
   "cell_type": "markdown",
   "metadata": {
    "id": "4Y8rlBfqqU0x"
   },
   "source": [
    "Пары `(слово, контекст)` на основе доступного датасета сгенерированы ниже."
   ]
  },
  {
   "cell_type": "code",
   "execution_count": 16,
   "metadata": {
    "id": "h2-aqyyaqU0x"
   },
   "outputs": [
    {
     "name": "stdout",
     "output_type": "stream",
     "text": [
      "Generated 40220313 pairs of target and context words.\n"
     ]
    }
   ],
   "source": [
    "context_pairs = []\n",
    "\n",
    "for text in data_tok:\n",
    "    for i, central_word in enumerate(text):\n",
    "        context_indices = range(\n",
    "            max(0, i - window_radius), min(i + window_radius, len(text))\n",
    "        )\n",
    "        for j in context_indices:\n",
    "            if j == i:\n",
    "                continue\n",
    "            context_word = text[j]\n",
    "            if central_word in vocabulary and context_word in vocabulary:\n",
    "                context_pairs.append(\n",
    "                    (word_to_index[central_word], word_to_index[context_word])\n",
    "                )\n",
    "\n",
    "print(f\"Generated {len(context_pairs)} pairs of target and context words.\")"
   ]
  },
  {
   "cell_type": "markdown",
   "metadata": {},
   "source": [
    "#### Подзадача №1: subsampling\n",
    "Для того, чтобы сгладить разницу в частоте встречаемсости слов, необходимо реализовать механизм subsampling'а.\n",
    "Для этого вам необходимо реализовать функцию ниже.\n",
    "\n",
    "Вероятность **исключить** слово из обучения (на фиксированном шаге) вычисляется как\n",
    "$$\n",
    "P_\\text{drop}(w_i)=1 - \\sqrt{\\frac{t}{f(w_i)}},\n",
    "$$\n",
    "где $f(w_i)$ – нормированная частота встречаемости слова, а $t$ – заданный порог (threshold)."
   ]
  },
  {
   "cell_type": "code",
   "execution_count": 86,
   "metadata": {},
   "outputs": [],
   "source": [
    "def subsample_frequent_words(word_count_dict, threshold=1e-5):\n",
    "    \"\"\"\n",
    "    Calculates the subsampling probabilities for words based on their frequencies.\n",
    "\n",
    "    This function is used to determine the probability of keeping a word in the dataset\n",
    "    when subsampling frequent words. The method used is inspired by the subsampling approach\n",
    "    in Word2Vec, where each word's frequency affects its probability of being kept.\n",
    "\n",
    "    Parameters:\n",
    "    - word_count_dict (dict): A dictionary where keys are words and values are the counts of those words.\n",
    "    - threshold (float, optional): A threshold parameter used to adjust the frequency of word subsampling.\n",
    "                                   Defaults to 1e-5.\n",
    "\n",
    "    Returns:\n",
    "    - dict: A dictionary where keys are words and values are the probabilities of keeping each word.\n",
    "\n",
    "    Example:\n",
    "    >>> word_counts = {'the': 5000, 'is': 1000, 'apple': 50}\n",
    "    >>> subsample_frequent_words(word_counts)\n",
    "    {'the': 0.028, 'is': 0.223, 'apple': 1.0}\n",
    "    \"\"\"\n",
    "    N = sum(word_count_dict.values())\n",
    "    keep_prob_dict = {\n",
    "        word: (threshold / (count / N)) ** 0.5 for word, count in word_count_dict.items()\n",
    "    }\n",
    "    return keep_prob_dict"
   ]
  },
  {
   "cell_type": "code",
   "execution_count": 87,
   "metadata": {},
   "outputs": [
    {
     "data": {
      "text/plain": [
       "{'the': 0.0034785054261852176,\n",
       " 'is': 0.007778174593052023,\n",
       " 'apple': 0.034785054261852175}"
      ]
     },
     "execution_count": 87,
     "metadata": {},
     "output_type": "execute_result"
    }
   ],
   "source": [
    "word_counts = {'the': 5000, 'is': 1000, 'apple': 50}\n",
    "subsample_frequent_words(word_counts)"
   ]
  },
  {
   "cell_type": "markdown",
   "metadata": {},
   "source": [
    "#### Подзадача №2: negative sampling\n",
    "Для более эффективного обучения необходимо не только предсказывать высокие вероятности для слов из контекста, но и предсказывать низкие для слов, не встреченных в контексте. Для этого вам необходимо вычислить вероятность использовать слово в качестве negative sample, реализовав функцию ниже.\n",
    "\n",
    "В оригинальной статье предлагается оценивать вероятность слов выступать в качестве negative sample согласно распределению $P_n(w)$\n",
    "$$\n",
    "P_n(w) = \\frac{U(w)^{3/4}}{Z},\n",
    "$$\n",
    "\n",
    "где $U(w)$ распределение слов по частоте (или, как его еще называют, по униграммам), а $Z$ – нормировочная константа, чтобы общая мера была равна $1$."
   ]
  },
  {
   "cell_type": "code",
   "execution_count": 88,
   "metadata": {},
   "outputs": [],
   "source": [
    "def get_negative_sampling_prob(word_count_dict):\n",
    "    \"\"\"\n",
    "    Calculates the negative sampling probabilities for words based on their frequencies.\n",
    "\n",
    "    This function adjusts the frequency of each word raised to the power of 0.75, which is\n",
    "    commonly used in algorithms like Word2Vec to moderate the influence of very frequent words.\n",
    "    It then normalizes these adjusted frequencies to ensure they sum to 1, forming a probability\n",
    "    distribution used for negative sampling.\n",
    "\n",
    "    Parameters:\n",
    "    - word_count_dict (dict): A dictionary where keys are words and values are the counts of those words.\n",
    "\n",
    "    Returns:\n",
    "    - dict: A dictionary where keys are words and values are the probabilities of selecting each word\n",
    "            for negative sampling.\n",
    "\n",
    "    Example:\n",
    "    >>> word_counts = {'the': 5000, 'is': 1000, 'apple': 50}\n",
    "    >>> get_negative_sampling_prob(word_counts)\n",
    "    {'the': 0.298, 'is': 0.160, 'apple': 0.042}\n",
    "    \"\"\"\n",
    "\n",
    "    N = sum([k ** (3/4) for k in list(word_count_dict.values())])\n",
    "    negative_sampling_prob_dict = {\n",
    "        word: count ** (3/4) / N for word, count in word_count_dict.items()\n",
    "    } \n",
    "    return negative_sampling_prob_dict"
   ]
  },
  {
   "cell_type": "code",
   "execution_count": 89,
   "metadata": {},
   "outputs": [
    {
     "data": {
      "text/plain": [
       "{'the': 0.751488398196177,\n",
       " 'is': 0.2247474520689081,\n",
       " 'apple': 0.023764149734914898}"
      ]
     },
     "execution_count": 89,
     "metadata": {},
     "output_type": "execute_result"
    }
   ],
   "source": [
    "word_counts = {'the': 5000, 'is': 1000, 'apple': 50}\n",
    "get_negative_sampling_prob(word_counts)"
   ]
  },
  {
   "cell_type": "markdown",
   "metadata": {},
   "source": [
    "Для удобства, преобразуем полученные словари в массивы (т.к. все слова все равно уже пронумерованы)."
   ]
  },
  {
   "cell_type": "code",
   "execution_count": 90,
   "metadata": {},
   "outputs": [],
   "source": [
    "keep_prob_dict = subsample_frequent_words(word_count_dict)\n",
    "assert keep_prob_dict.keys() == word_count_dict.keys()"
   ]
  },
  {
   "cell_type": "code",
   "execution_count": 91,
   "metadata": {},
   "outputs": [],
   "source": [
    "negative_sampling_prob_dict = get_negative_sampling_prob(word_count_dict)\n",
    "assert negative_sampling_prob_dict.keys() == negative_sampling_prob_dict.keys()\n",
    "assert np.allclose(sum(negative_sampling_prob_dict.values()), 1)"
   ]
  },
  {
   "cell_type": "code",
   "execution_count": 92,
   "metadata": {},
   "outputs": [],
   "source": [
    "keep_prob_array = np.array(\n",
    "    [keep_prob_dict[index_to_word[idx]] for idx in range(len(word_to_index))]\n",
    ")\n",
    "negative_sampling_prob_array = np.array(\n",
    "    [\n",
    "        negative_sampling_prob_dict[index_to_word[idx]]\n",
    "        for idx in range(len(word_to_index))\n",
    "    ]\n",
    ")"
   ]
  },
  {
   "cell_type": "markdown",
   "metadata": {},
   "source": [
    "Если все прошло успешно, функция ниже поможет вам с генерацией подвыборок (батчей)."
   ]
  },
  {
   "cell_type": "code",
   "execution_count": 93,
   "metadata": {},
   "outputs": [],
   "source": [
    "def generate_batch_with_neg_samples(\n",
    "    context_pairs,\n",
    "    batch_size,\n",
    "    keep_prob_array,\n",
    "    word_to_index,\n",
    "    num_negatives,\n",
    "    negative_sampling_prob_array,\n",
    "):\n",
    "    batch = []\n",
    "    neg_samples = []\n",
    "\n",
    "    while len(batch) < batch_size:\n",
    "        center, context = random.choice(context_pairs)\n",
    "        if random.random() < keep_prob_array[center]:\n",
    "            batch.append((center, context))\n",
    "            neg_sample = np.random.choice(\n",
    "                range(len(negative_sampling_prob_array)),\n",
    "                size=num_negatives,\n",
    "                p=negative_sampling_prob_array,\n",
    "            )\n",
    "            neg_samples.append(neg_sample)\n",
    "    batch = np.array(batch)\n",
    "    neg_samples = np.vstack(neg_samples)\n",
    "    return batch, neg_samples"
   ]
  },
  {
   "cell_type": "code",
   "execution_count": 94,
   "metadata": {},
   "outputs": [],
   "source": [
    "batch_size = 4\n",
    "num_negatives = 15\n",
    "batch, neg_samples = generate_batch_with_neg_samples(\n",
    "    context_pairs,\n",
    "    batch_size,\n",
    "    keep_prob_array,\n",
    "    word_to_index,\n",
    "    num_negatives,\n",
    "    negative_sampling_prob_array,\n",
    ")"
   ]
  },
  {
   "cell_type": "markdown",
   "metadata": {},
   "source": [
    "Наконец, время реализовать модель. Обращаем ваше внимание, использование линейных слоев (`nn.Linear`) далеко не всегда оправданно!\n",
    "\n",
    "Напомним, что в случае negative sampling решается задача максимизации следующего функционала:\n",
    "\n",
    "$$\n",
    "\\mathcal{L} = \\log \\sigma({\\mathbf{v}'_{w_O}}^\\top \\mathbf{v}_{w_I}) + \\sum_{i=1}^{k} \\mathbb{E}_{w_i \\sim P_n(w)} \\left[ \\log \\sigma({-\\mathbf{v}'_{w_i}}^\\top \\mathbf{v}_{w_I}) \\right],\n",
    "$$\n",
    "\n",
    "где:\n",
    "- $\\mathbf{v}_{w_I}$ – вектор центрального слова $w_I$,\n",
    "- $\\mathbf{v}'_{w_O}$ – вектор слова из контекста $w_O$,\n",
    "- $k$ – число negative samplesЮ,\n",
    "- $P_n(w)$ – распределение negative samples, заданное выше,\n",
    "- $\\sigma$ – сигмоида."
   ]
  },
  {
   "cell_type": "code",
   "execution_count": 114,
   "metadata": {},
   "outputs": [],
   "source": [
    "class SkipGramModelWithNegSampling(nn.Module):\n",
    "    def __init__(self, vocab_size, embedding_dim):\n",
    "        super().__init__()\n",
    "        self.center_embeddings = nn.Embedding(vocab_size, embedding_dim)\n",
    "        self.context_embeddings = nn.Embedding(vocab_size, embedding_dim)\n",
    "\n",
    "        self.center_embeddings.weight.data.uniform_(-0.55 / embedding_dim, 0.55 / embedding_dim)\n",
    "        self.context_embeddings.weight.data.uniform_(-0.55 / embedding_dim, 0.55 / embedding_dim)\n",
    "\n",
    "    def forward(self, center_words, pos_context_words, neg_context_words):\n",
    "        center_words_embeddings = self.center_embeddings(center_words)\n",
    "        pos_context_words_embeddings = self.context_embeddings(pos_context_words)\n",
    "        neg_context_words_embeddings = self.context_embeddings(neg_context_words)\n",
    "\n",
    "        pos_logits = torch.sum(center_words_embeddings * pos_context_words_embeddings, dim=1)\n",
    "        neg_logits = torch.bmm(neg_context_words_embeddings, center_words_embeddings.unsqueeze(2)).squeeze()\n",
    "\n",
    "        return pos_logits, neg_logits"
   ]
  },
  {
   "cell_type": "code",
   "execution_count": 115,
   "metadata": {},
   "outputs": [],
   "source": [
    "device = torch.device(\"cpu\")"
   ]
  },
  {
   "cell_type": "code",
   "execution_count": 116,
   "metadata": {},
   "outputs": [],
   "source": [
    "vocab_size = len(word_to_index)\n",
    "embedding_dim = 32\n",
    "num_negatives = 15\n",
    "\n",
    "model = SkipGramModelWithNegSampling(vocab_size, embedding_dim).to(device)\n",
    "optimizer = optim.Adam(model.parameters(), lr=0.05)\n",
    "lr_scheduler = ReduceLROnPlateau(optimizer, factor=0.5, patience=150)\n",
    "criterion = nn.BCEWithLogitsLoss()"
   ]
  },
  {
   "cell_type": "code",
   "execution_count": 117,
   "metadata": {},
   "outputs": [],
   "source": [
    "params_counter = 0\n",
    "for weights in model.parameters():\n",
    "    params_counter += weights.shape.numel()\n",
    "assert params_counter == len(word_to_index) * embedding_dim * 2"
   ]
  },
  {
   "cell_type": "code",
   "execution_count": 118,
   "metadata": {},
   "outputs": [],
   "source": [
    "def train_skipgram_with_neg_sampling(\n",
    "    model,\n",
    "    context_pairs,\n",
    "    keep_prob_array,\n",
    "    word_to_index,\n",
    "    batch_size,\n",
    "    num_negatives,\n",
    "    negative_sampling_prob_array,\n",
    "    steps,\n",
    "    optimizer=optimizer,\n",
    "    lr_scheduler=lr_scheduler,\n",
    "    device=device,\n",
    "):\n",
    "    pos_labels = torch.ones(batch_size).to(device)\n",
    "    neg_labels = torch.zeros(batch_size, num_negatives).to(device)\n",
    "    loss_history = []\n",
    "    for step in tqdm(range(steps)):\n",
    "        batch, neg_samples = generate_batch_with_neg_samples(\n",
    "            context_pairs,\n",
    "            batch_size,\n",
    "            keep_prob_array,\n",
    "            word_to_index,\n",
    "            num_negatives,\n",
    "            negative_sampling_prob_array,\n",
    "        )\n",
    "        center_words = torch.tensor([pair[0] for pair in batch], dtype=torch.long).to(\n",
    "            device\n",
    "        )\n",
    "        pos_context_words = torch.tensor(\n",
    "            [pair[1] for pair in batch], dtype=torch.long\n",
    "        ).to(device)\n",
    "        neg_context_words = torch.tensor(neg_samples, dtype=torch.long).to(device)\n",
    "\n",
    "        optimizer.zero_grad()\n",
    "        pos_scores, neg_scores = model(\n",
    "            center_words, pos_context_words, neg_context_words\n",
    "        )\n",
    "\n",
    "        loss_pos = criterion(pos_scores, pos_labels)\n",
    "        loss_neg = criterion(neg_scores, neg_labels)\n",
    "\n",
    "        loss = loss_pos + loss_neg\n",
    "        loss.backward()\n",
    "        optimizer.step()\n",
    "\n",
    "        loss_history.append(loss.item())\n",
    "        lr_scheduler.step(loss_history[-1])\n",
    "\n",
    "        if step % 100 == 0:\n",
    "            print(\n",
    "                f\"Step {step}, Loss: {np.mean(loss_history[-100:])}, learning rate: {lr_scheduler._last_lr}\"\n",
    "            )"
   ]
  },
  {
   "cell_type": "code",
   "execution_count": 119,
   "metadata": {},
   "outputs": [
    {
     "name": "stderr",
     "output_type": "stream",
     "text": [
      "  0%|          | 1/2500 [00:02<1:30:40,  2.18s/it]"
     ]
    },
    {
     "name": "stdout",
     "output_type": "stream",
     "text": [
      "Step 0, Loss: 1.38628351688385, learning rate: [0.05]\n"
     ]
    },
    {
     "name": "stderr",
     "output_type": "stream",
     "text": [
      "  4%|▍         | 101/2500 [03:25<1:17:21,  1.93s/it]"
     ]
    },
    {
     "name": "stdout",
     "output_type": "stream",
     "text": [
      "Step 100, Loss: 1.4362928414344787, learning rate: [0.05]\n"
     ]
    },
    {
     "name": "stderr",
     "output_type": "stream",
     "text": [
      "  8%|▊         | 201/2500 [06:41<1:11:58,  1.88s/it]"
     ]
    },
    {
     "name": "stdout",
     "output_type": "stream",
     "text": [
      "Step 200, Loss: 1.6294823133945464, learning rate: [0.025]\n"
     ]
    },
    {
     "name": "stderr",
     "output_type": "stream",
     "text": [
      " 12%|█▏        | 301/2500 [09:53<1:08:38,  1.87s/it]"
     ]
    },
    {
     "name": "stdout",
     "output_type": "stream",
     "text": [
      "Step 300, Loss: 1.6223215866088867, learning rate: [0.025]\n"
     ]
    },
    {
     "name": "stderr",
     "output_type": "stream",
     "text": [
      " 16%|█▌        | 401/2500 [13:05<1:05:26,  1.87s/it]"
     ]
    },
    {
     "name": "stdout",
     "output_type": "stream",
     "text": [
      "Step 400, Loss: 1.5685003519058227, learning rate: [0.0125]\n"
     ]
    },
    {
     "name": "stderr",
     "output_type": "stream",
     "text": [
      " 20%|██        | 501/2500 [16:20<1:02:58,  1.89s/it]"
     ]
    },
    {
     "name": "stdout",
     "output_type": "stream",
     "text": [
      "Step 500, Loss: 1.5236441552639008, learning rate: [0.00625]\n"
     ]
    },
    {
     "name": "stderr",
     "output_type": "stream",
     "text": [
      " 24%|██▍       | 601/2500 [20:05<40:31,  1.28s/it]  "
     ]
    },
    {
     "name": "stdout",
     "output_type": "stream",
     "text": [
      "Step 600, Loss: 1.4913502037525177, learning rate: [0.00625]\n"
     ]
    },
    {
     "name": "stderr",
     "output_type": "stream",
     "text": [
      " 28%|██▊       | 701/2500 [23:13<57:16,  1.91s/it]  "
     ]
    },
    {
     "name": "stdout",
     "output_type": "stream",
     "text": [
      "Step 700, Loss: 1.4699097025394439, learning rate: [0.003125]\n"
     ]
    },
    {
     "name": "stderr",
     "output_type": "stream",
     "text": [
      " 32%|███▏      | 801/2500 [26:24<53:48,  1.90s/it]"
     ]
    },
    {
     "name": "stdout",
     "output_type": "stream",
     "text": [
      "Step 800, Loss: 1.4570590877532958, learning rate: [0.0015625]\n"
     ]
    },
    {
     "name": "stderr",
     "output_type": "stream",
     "text": [
      " 36%|███▌      | 901/2500 [29:34<51:03,  1.92s/it]"
     ]
    },
    {
     "name": "stdout",
     "output_type": "stream",
     "text": [
      "Step 900, Loss: 1.44957461476326, learning rate: [0.0015625]\n"
     ]
    },
    {
     "name": "stderr",
     "output_type": "stream",
     "text": [
      " 40%|████      | 1001/2500 [32:46<47:08,  1.89s/it]"
     ]
    },
    {
     "name": "stdout",
     "output_type": "stream",
     "text": [
      "Step 1000, Loss: 1.4329864585399628, learning rate: [0.0015625]\n"
     ]
    },
    {
     "name": "stderr",
     "output_type": "stream",
     "text": [
      " 44%|████▍     | 1101/2500 [35:57<44:12,  1.90s/it]"
     ]
    },
    {
     "name": "stdout",
     "output_type": "stream",
     "text": [
      "Step 1100, Loss: 1.4320326626300812, learning rate: [0.00078125]\n"
     ]
    },
    {
     "name": "stderr",
     "output_type": "stream",
     "text": [
      " 48%|████▊     | 1201/2500 [39:22<38:47,  1.79s/it]  "
     ]
    },
    {
     "name": "stdout",
     "output_type": "stream",
     "text": [
      "Step 1200, Loss: 1.4287202954292297, learning rate: [0.00078125]\n"
     ]
    },
    {
     "name": "stderr",
     "output_type": "stream",
     "text": [
      " 52%|█████▏    | 1301/2500 [42:28<39:20,  1.97s/it]"
     ]
    },
    {
     "name": "stdout",
     "output_type": "stream",
     "text": [
      "Step 1300, Loss: 1.4284593725204469, learning rate: [0.000390625]\n"
     ]
    },
    {
     "name": "stderr",
     "output_type": "stream",
     "text": [
      " 56%|█████▌    | 1401/2500 [45:54<35:56,  1.96s/it]"
     ]
    },
    {
     "name": "stdout",
     "output_type": "stream",
     "text": [
      "Step 1400, Loss: 1.4208042109012604, learning rate: [0.000390625]\n"
     ]
    },
    {
     "name": "stderr",
     "output_type": "stream",
     "text": [
      " 60%|██████    | 1501/2500 [49:18<35:42,  2.14s/it]"
     ]
    },
    {
     "name": "stdout",
     "output_type": "stream",
     "text": [
      "Step 1500, Loss: 1.4290050423145295, learning rate: [0.000390625]\n"
     ]
    },
    {
     "name": "stderr",
     "output_type": "stream",
     "text": [
      " 64%|██████▍   | 1601/2500 [52:48<35:42,  2.38s/it]"
     ]
    },
    {
     "name": "stdout",
     "output_type": "stream",
     "text": [
      "Step 1600, Loss: 1.4192509746551514, learning rate: [0.0001953125]\n"
     ]
    },
    {
     "name": "stderr",
     "output_type": "stream",
     "text": [
      " 68%|██████▊   | 1701/2500 [56:08<26:14,  1.97s/it]"
     ]
    },
    {
     "name": "stdout",
     "output_type": "stream",
     "text": [
      "Step 1700, Loss: 1.418570314645767, learning rate: [0.0001953125]\n"
     ]
    },
    {
     "name": "stderr",
     "output_type": "stream",
     "text": [
      " 72%|███████▏  | 1801/2500 [59:25<20:53,  1.79s/it]"
     ]
    },
    {
     "name": "stdout",
     "output_type": "stream",
     "text": [
      "Step 1800, Loss: 1.4133487498760224, learning rate: [9.765625e-05]\n"
     ]
    },
    {
     "name": "stderr",
     "output_type": "stream",
     "text": [
      " 76%|███████▌  | 1901/2500 [1:02:34<19:44,  1.98s/it]"
     ]
    },
    {
     "name": "stdout",
     "output_type": "stream",
     "text": [
      "Step 1900, Loss: 1.4183171570301056, learning rate: [4.8828125e-05]\n"
     ]
    },
    {
     "name": "stderr",
     "output_type": "stream",
     "text": [
      " 80%|████████  | 2001/2500 [1:05:04<10:40,  1.28s/it]"
     ]
    },
    {
     "name": "stdout",
     "output_type": "stream",
     "text": [
      "Step 2000, Loss: 1.4187979006767273, learning rate: [4.8828125e-05]\n"
     ]
    },
    {
     "name": "stderr",
     "output_type": "stream",
     "text": [
      " 84%|████████▍ | 2101/2500 [1:07:10<08:14,  1.24s/it]"
     ]
    },
    {
     "name": "stdout",
     "output_type": "stream",
     "text": [
      "Step 2100, Loss: 1.4179942989349366, learning rate: [2.44140625e-05]\n"
     ]
    },
    {
     "name": "stderr",
     "output_type": "stream",
     "text": [
      " 88%|████████▊ | 2201/2500 [1:09:15<06:14,  1.25s/it]"
     ]
    },
    {
     "name": "stdout",
     "output_type": "stream",
     "text": [
      "Step 2200, Loss: 1.4170745837688445, learning rate: [1.220703125e-05]\n"
     ]
    },
    {
     "name": "stderr",
     "output_type": "stream",
     "text": [
      " 92%|█████████▏| 2301/2500 [1:11:20<04:18,  1.30s/it]"
     ]
    },
    {
     "name": "stdout",
     "output_type": "stream",
     "text": [
      "Step 2300, Loss: 1.416105443239212, learning rate: [1.220703125e-05]\n"
     ]
    },
    {
     "name": "stderr",
     "output_type": "stream",
     "text": [
      " 96%|█████████▌| 2401/2500 [1:13:33<02:06,  1.28s/it]"
     ]
    },
    {
     "name": "stdout",
     "output_type": "stream",
     "text": [
      "Step 2400, Loss: 1.4146030461788177, learning rate: [6.103515625e-06]\n"
     ]
    },
    {
     "name": "stderr",
     "output_type": "stream",
     "text": [
      "100%|██████████| 2500/2500 [1:15:42<00:00,  1.82s/it]\n"
     ]
    }
   ],
   "source": [
    "steps = 2500\n",
    "batch_size = 512\n",
    "train_skipgram_with_neg_sampling(\n",
    "    model,\n",
    "    context_pairs,\n",
    "    keep_prob_array,\n",
    "    word_to_index,\n",
    "    batch_size,\n",
    "    num_negatives,\n",
    "    negative_sampling_prob_array,\n",
    "    steps,\n",
    ")"
   ]
  },
  {
   "cell_type": "markdown",
   "metadata": {},
   "source": [
    "Наконец, используйте полученную матрицу весов в качестве матрицы в векторными представлениями слов. Рекомендуем использовать для сдачи матрицу, которая отвечала за слова из контекста (т.е. декодера)."
   ]
  },
  {
   "cell_type": "code",
   "execution_count": 120,
   "metadata": {},
   "outputs": [],
   "source": [
    "_model_parameters = model.parameters()\n",
    "embedding_matrix_center = next(\n",
    "    _model_parameters\n",
    ").detach()  # Assuming that first matrix was for central word\n",
    "embedding_matrix_context = next(\n",
    "    _model_parameters\n",
    ").detach()  # Assuming that second matrix was for context word"
   ]
  },
  {
   "cell_type": "code",
   "execution_count": 121,
   "metadata": {},
   "outputs": [],
   "source": [
    "def get_word_vector(word, embedding_matrix, word_to_index=word_to_index):\n",
    "    return embedding_matrix[word_to_index[word]]"
   ]
  },
  {
   "cell_type": "markdown",
   "metadata": {},
   "source": [
    "Простые проверки:"
   ]
  },
  {
   "cell_type": "code",
   "execution_count": 122,
   "metadata": {},
   "outputs": [
    {
     "name": "stdout",
     "output_type": "stream",
     "text": [
      "tensor([0.4951])\n",
      "tensor([-0.0583])\n"
     ]
    }
   ],
   "source": [
    "similarity_1 = F.cosine_similarity(\n",
    "    get_word_vector(\"iphone\", embedding_matrix_context)[None, :],\n",
    "    get_word_vector(\"apple\", embedding_matrix_context)[None, :],\n",
    ")\n",
    "similarity_2 = F.cosine_similarity(\n",
    "    get_word_vector(\"iphone\", embedding_matrix_context)[None, :],\n",
    "    get_word_vector(\"dell\", embedding_matrix_context)[None, :],\n",
    ")\n",
    "print(similarity_1)\n",
    "print(similarity_2)\n",
    "assert similarity_1 > similarity_2"
   ]
  },
  {
   "cell_type": "code",
   "execution_count": 123,
   "metadata": {},
   "outputs": [
    {
     "ename": "AssertionError",
     "evalue": "",
     "output_type": "error",
     "traceback": [
      "\u001b[0;31m---------------------------------------------------------------------------\u001b[0m",
      "\u001b[0;31mAssertionError\u001b[0m                            Traceback (most recent call last)",
      "Cell \u001b[0;32mIn[123], line 9\u001b[0m\n\u001b[1;32m      1\u001b[0m similarity_1 \u001b[38;5;241m=\u001b[39m F\u001b[38;5;241m.\u001b[39mcosine_similarity(\n\u001b[1;32m      2\u001b[0m     get_word_vector(\u001b[38;5;124m\"\u001b[39m\u001b[38;5;124mwindows\u001b[39m\u001b[38;5;124m\"\u001b[39m, embedding_matrix_context)[\u001b[38;5;28;01mNone\u001b[39;00m, :],\n\u001b[1;32m      3\u001b[0m     get_word_vector(\u001b[38;5;124m\"\u001b[39m\u001b[38;5;124mlaptop\u001b[39m\u001b[38;5;124m\"\u001b[39m, embedding_matrix_context)[\u001b[38;5;28;01mNone\u001b[39;00m, :],\n\u001b[1;32m      4\u001b[0m )\n\u001b[1;32m      5\u001b[0m similarity_2 \u001b[38;5;241m=\u001b[39m F\u001b[38;5;241m.\u001b[39mcosine_similarity(\n\u001b[1;32m      6\u001b[0m     get_word_vector(\u001b[38;5;124m\"\u001b[39m\u001b[38;5;124mwindows\u001b[39m\u001b[38;5;124m\"\u001b[39m, embedding_matrix_context)[\u001b[38;5;28;01mNone\u001b[39;00m, :],\n\u001b[1;32m      7\u001b[0m     get_word_vector(\u001b[38;5;124m\"\u001b[39m\u001b[38;5;124mmacbook\u001b[39m\u001b[38;5;124m\"\u001b[39m, embedding_matrix_context)[\u001b[38;5;28;01mNone\u001b[39;00m, :],\n\u001b[1;32m      8\u001b[0m )\n\u001b[0;32m----> 9\u001b[0m \u001b[38;5;28;01massert\u001b[39;00m similarity_1 \u001b[38;5;241m>\u001b[39m similarity_2\n",
      "\u001b[0;31mAssertionError\u001b[0m: "
     ]
    }
   ],
   "source": [
    "similarity_1 = F.cosine_similarity(\n",
    "    get_word_vector(\"windows\", embedding_matrix_context)[None, :],\n",
    "    get_word_vector(\"laptop\", embedding_matrix_context)[None, :],\n",
    ")\n",
    "similarity_2 = F.cosine_similarity(\n",
    "    get_word_vector(\"windows\", embedding_matrix_context)[None, :],\n",
    "    get_word_vector(\"macbook\", embedding_matrix_context)[None, :],\n",
    ")\n",
    "assert similarity_1 > similarity_2"
   ]
  },
  {
   "cell_type": "markdown",
   "metadata": {},
   "source": [
    "Наконец, взглянем на ближайшие по косинусной мере слова. Функция реализована ниже."
   ]
  },
  {
   "cell_type": "code",
   "execution_count": 124,
   "metadata": {
    "id": "dA0V6rOYtsLk"
   },
   "outputs": [],
   "source": [
    "def find_nearest(word, embedding_matrix, word_to_index=word_to_index, k=10):\n",
    "    word_vector = get_word_vector(word, embedding_matrix)[None, :]\n",
    "    dists = F.cosine_similarity(embedding_matrix, word_vector)\n",
    "    index_sorted = torch.argsort(dists)\n",
    "    top_k = index_sorted[-k:]\n",
    "    return [(index_to_word[x], dists[x].item()) for x in top_k.numpy()]"
   ]
  },
  {
   "cell_type": "code",
   "execution_count": 125,
   "metadata": {},
   "outputs": [
    {
     "data": {
      "text/plain": [
       "[('meeruts', 0.5985406041145325),\n",
       " ('stereo', 0.5994013547897339),\n",
       " ('squash', 0.6103525757789612),\n",
       " ('ா', 0.6157495975494385),\n",
       " ('ramen', 0.6165726184844971),\n",
       " ('footer', 0.6219021081924438),\n",
       " ('175', 0.6837136149406433),\n",
       " ('polygamy', 0.6846103072166443),\n",
       " ('extradition', 0.6887291073799133),\n",
       " ('python', 1.0000001192092896)]"
      ]
     },
     "execution_count": 125,
     "metadata": {},
     "output_type": "execute_result"
    }
   ],
   "source": [
    "find_nearest(\"python\", embedding_matrix_context, k=10)"
   ]
  },
  {
   "cell_type": "markdown",
   "metadata": {},
   "source": [
    "Также вы можете визуально проверить, как представлены в латентном пространстве часто встречающиеся слова."
   ]
  },
  {
   "cell_type": "code",
   "execution_count": 126,
   "metadata": {},
   "outputs": [],
   "source": [
    "top_k = 5000\n",
    "_top_words = sorted([x for x in word_count_dict.items()], key=lambda x: x[1])[\n",
    "    -top_k - 100 : -100\n",
    "]  # ignoring 100 most frequent words\n",
    "top_words = [x[0] for x in _top_words]\n",
    "del _top_words"
   ]
  },
  {
   "cell_type": "code",
   "execution_count": 127,
   "metadata": {},
   "outputs": [],
   "source": [
    "word_embeddings = torch.cat(\n",
    "    [embedding_matrix_context[word_to_index[x]][None, :] for x in top_words], dim=0\n",
    ").numpy()"
   ]
  },
  {
   "cell_type": "code",
   "execution_count": 128,
   "metadata": {},
   "outputs": [
    {
     "data": {
      "text/html": [
       "    <style>\n",
       "        .bk-notebook-logo {\n",
       "            display: block;\n",
       "            width: 20px;\n",
       "            height: 20px;\n",
       "            background-image: url(data:image/png;base64,iVBORw0KGgoAAAANSUhEUgAAABQAAAAUCAYAAACNiR0NAAAABHNCSVQICAgIfAhkiAAAAAlwSFlzAAALEgAACxIB0t1+/AAAABx0RVh0U29mdHdhcmUAQWRvYmUgRmlyZXdvcmtzIENTNui8sowAAAOkSURBVDiNjZRtaJVlGMd/1/08zzln5zjP1LWcU9N0NkN8m2CYjpgQYQXqSs0I84OLIC0hkEKoPtiH3gmKoiJDU7QpLgoLjLIQCpEsNJ1vqUOdO7ppbuec5+V+rj4ctwzd8IIbbi6u+8f1539dt3A78eXC7QizUF7gyV1fD1Yqg4JWz84yffhm0qkFqBogB9rM8tZdtwVsPUhWhGcFJngGeWrPzHm5oaMmkfEg1usvLFyc8jLRqDOMru7AyC8saQr7GG7f5fvDeH7Ej8CM66nIF+8yngt6HWaKh7k49Soy9nXurCi1o3qUbS3zWfrYeQDTB/Qj6kX6Ybhw4B+bOYoLKCC9H3Nu/leUTZ1JdRWkkn2ldcCamzrcf47KKXdAJllSlxAOkRgyHsGC/zRday5Qld9DyoM4/q/rUoy/CXh3jzOu3bHUVZeU+DEn8FInkPBFlu3+nW3Nw0mk6vCDiWg8CeJaxEwuHS3+z5RgY+YBR6V1Z1nxSOfoaPa4LASWxxdNp+VWTk7+4vzaou8v8PN+xo+KY2xsw6une2frhw05CTYOmQvsEhjhWjn0bmXPjpE1+kplmmkP3suftwTubK9Vq22qKmrBhpY4jvd5afdRA3wGjFAgcnTK2s4hY0/GPNIb0nErGMCRxWOOX64Z8RAC4oCXdklmEvcL8o0BfkNK4lUg9HTl+oPlQxdNo3Mg4Nv175e/1LDGzZen30MEjRUtmXSfiTVu1kK8W4txyV6BMKlbgk3lMwYCiusNy9fVfvvwMxv8Ynl6vxoByANLTWplvuj/nF9m2+PDtt1eiHPBr1oIfhCChQMBw6Aw0UulqTKZdfVvfG7VcfIqLG9bcldL/+pdWTLxLUy8Qq38heUIjh4XlzZxzQm19lLFlr8vdQ97rjZVOLf8nclzckbcD4wxXMidpX30sFd37Fv/GtwwhzhxGVAprjbg0gCAEeIgwCZyTV2Z1REEW8O4py0wsjeloKoMr6iCY6dP92H6Vw/oTyICIthibxjm/DfN9lVz8IqtqKYLUXfoKVMVQVVJOElGjrnnUt9T9wbgp8AyYKaGlqingHZU/uG2NTZSVqwHQTWkx9hxjkpWDaCg6Ckj5qebgBVbT3V3NNXMSiWSDdGV3hrtzla7J+duwPOToIg42ChPQOQjspnSlp1V+Gjdged7+8UN5CRAV7a5EdFNwCjEaBR27b3W890TE7g24NAP/mMDXRWrGoFPQI9ls/MWO2dWFAar/xcOIImbbpA3zgAAAABJRU5ErkJggg==);\n",
       "        }\n",
       "    </style>\n",
       "    <div>\n",
       "        <a href=\"https://bokeh.org\" target=\"_blank\" class=\"bk-notebook-logo\"></a>\n",
       "        <span id=\"d88eb0df-265b-4d44-bd5e-e97e1873047b\">Loading BokehJS ...</span>\n",
       "    </div>\n"
      ]
     },
     "metadata": {},
     "output_type": "display_data"
    },
    {
     "data": {
      "application/javascript": "'use strict';\n(function(root) {\n  function now() {\n    return new Date();\n  }\n\n  const force = true;\n\n  if (typeof root._bokeh_onload_callbacks === \"undefined\" || force === true) {\n    root._bokeh_onload_callbacks = [];\n    root._bokeh_is_loading = undefined;\n  }\n\nconst JS_MIME_TYPE = 'application/javascript';\n  const HTML_MIME_TYPE = 'text/html';\n  const EXEC_MIME_TYPE = 'application/vnd.bokehjs_exec.v0+json';\n  const CLASS_NAME = 'output_bokeh rendered_html';\n\n  /**\n   * Render data to the DOM node\n   */\n  function render(props, node) {\n    const script = document.createElement(\"script\");\n    node.appendChild(script);\n  }\n\n  /**\n   * Handle when an output is cleared or removed\n   */\n  function handleClearOutput(event, handle) {\n    function drop(id) {\n      const view = Bokeh.index.get_by_id(id)\n      if (view != null) {\n        view.model.document.clear()\n        Bokeh.index.delete(view)\n      }\n    }\n\n    const cell = handle.cell;\n\n    const id = cell.output_area._bokeh_element_id;\n    const server_id = cell.output_area._bokeh_server_id;\n\n    // Clean up Bokeh references\n    if (id != null) {\n      drop(id)\n    }\n\n    if (server_id !== undefined) {\n      // Clean up Bokeh references\n      const cmd_clean = \"from bokeh.io.state import curstate; print(curstate().uuid_to_server['\" + server_id + \"'].get_sessions()[0].document.roots[0]._id)\";\n      cell.notebook.kernel.execute(cmd_clean, {\n        iopub: {\n          output: function(msg) {\n            const id = msg.content.text.trim()\n            drop(id)\n          }\n        }\n      });\n      // Destroy server and session\n      const cmd_destroy = \"import bokeh.io.notebook as ion; ion.destroy_server('\" + server_id + \"')\";\n      cell.notebook.kernel.execute(cmd_destroy);\n    }\n  }\n\n  /**\n   * Handle when a new output is added\n   */\n  function handleAddOutput(event, handle) {\n    const output_area = handle.output_area;\n    const output = handle.output;\n\n    // limit handleAddOutput to display_data with EXEC_MIME_TYPE content only\n    if ((output.output_type != \"display_data\") || (!Object.prototype.hasOwnProperty.call(output.data, EXEC_MIME_TYPE))) {\n      return\n    }\n\n    const toinsert = output_area.element.find(\".\" + CLASS_NAME.split(' ')[0]);\n\n    if (output.metadata[EXEC_MIME_TYPE][\"id\"] !== undefined) {\n      toinsert[toinsert.length - 1].firstChild.textContent = output.data[JS_MIME_TYPE];\n      // store reference to embed id on output_area\n      output_area._bokeh_element_id = output.metadata[EXEC_MIME_TYPE][\"id\"];\n    }\n    if (output.metadata[EXEC_MIME_TYPE][\"server_id\"] !== undefined) {\n      const bk_div = document.createElement(\"div\");\n      bk_div.innerHTML = output.data[HTML_MIME_TYPE];\n      const script_attrs = bk_div.children[0].attributes;\n      for (let i = 0; i < script_attrs.length; i++) {\n        toinsert[toinsert.length - 1].firstChild.setAttribute(script_attrs[i].name, script_attrs[i].value);\n        toinsert[toinsert.length - 1].firstChild.textContent = bk_div.children[0].textContent\n      }\n      // store reference to server id on output_area\n      output_area._bokeh_server_id = output.metadata[EXEC_MIME_TYPE][\"server_id\"];\n    }\n  }\n\n  function register_renderer(events, OutputArea) {\n\n    function append_mime(data, metadata, element) {\n      // create a DOM node to render to\n      const toinsert = this.create_output_subarea(\n        metadata,\n        CLASS_NAME,\n        EXEC_MIME_TYPE\n      );\n      this.keyboard_manager.register_events(toinsert);\n      // Render to node\n      const props = {data: data, metadata: metadata[EXEC_MIME_TYPE]};\n      render(props, toinsert[toinsert.length - 1]);\n      element.append(toinsert);\n      return toinsert\n    }\n\n    /* Handle when an output is cleared or removed */\n    events.on('clear_output.CodeCell', handleClearOutput);\n    events.on('delete.Cell', handleClearOutput);\n\n    /* Handle when a new output is added */\n    events.on('output_added.OutputArea', handleAddOutput);\n\n    /**\n     * Register the mime type and append_mime function with output_area\n     */\n    OutputArea.prototype.register_mime_type(EXEC_MIME_TYPE, append_mime, {\n      /* Is output safe? */\n      safe: true,\n      /* Index of renderer in `output_area.display_order` */\n      index: 0\n    });\n  }\n\n  // register the mime type if in Jupyter Notebook environment and previously unregistered\n  if (root.Jupyter !== undefined) {\n    const events = require('base/js/events');\n    const OutputArea = require('notebook/js/outputarea').OutputArea;\n\n    if (OutputArea.prototype.mime_types().indexOf(EXEC_MIME_TYPE) == -1) {\n      register_renderer(events, OutputArea);\n    }\n  }\n  if (typeof (root._bokeh_timeout) === \"undefined\" || force === true) {\n    root._bokeh_timeout = Date.now() + 5000;\n    root._bokeh_failed_load = false;\n  }\n\n  const NB_LOAD_WARNING = {'data': {'text/html':\n     \"<div style='background-color: #fdd'>\\n\"+\n     \"<p>\\n\"+\n     \"BokehJS does not appear to have successfully loaded. If loading BokehJS from CDN, this \\n\"+\n     \"may be due to a slow or bad network connection. Possible fixes:\\n\"+\n     \"</p>\\n\"+\n     \"<ul>\\n\"+\n     \"<li>re-rerun `output_notebook()` to attempt to load from CDN again, or</li>\\n\"+\n     \"<li>use INLINE resources instead, as so:</li>\\n\"+\n     \"</ul>\\n\"+\n     \"<code>\\n\"+\n     \"from bokeh.resources import INLINE\\n\"+\n     \"output_notebook(resources=INLINE)\\n\"+\n     \"</code>\\n\"+\n     \"</div>\"}};\n\n  function display_loaded(error = null) {\n    const el = document.getElementById(\"d88eb0df-265b-4d44-bd5e-e97e1873047b\");\n    if (el != null) {\n      const html = (() => {\n        if (typeof root.Bokeh === \"undefined\") {\n          if (error == null) {\n            return \"BokehJS is loading ...\";\n          } else {\n            return \"BokehJS failed to load.\";\n          }\n        } else {\n          const prefix = `BokehJS ${root.Bokeh.version}`;\n          if (error == null) {\n            return `${prefix} successfully loaded.`;\n          } else {\n            return `${prefix} <b>encountered errors</b> while loading and may not function as expected.`;\n          }\n        }\n      })();\n      el.innerHTML = html;\n\n      if (error != null) {\n        const wrapper = document.createElement(\"div\");\n        wrapper.style.overflow = \"auto\";\n        wrapper.style.height = \"5em\";\n        wrapper.style.resize = \"vertical\";\n        const content = document.createElement(\"div\");\n        content.style.fontFamily = \"monospace\";\n        content.style.whiteSpace = \"pre-wrap\";\n        content.style.backgroundColor = \"rgb(255, 221, 221)\";\n        content.textContent = error.stack ?? error.toString();\n        wrapper.append(content);\n        el.append(wrapper);\n      }\n    } else if (Date.now() < root._bokeh_timeout) {\n      setTimeout(() => display_loaded(error), 100);\n    }\n  }\n\n  function run_callbacks() {\n    try {\n      root._bokeh_onload_callbacks.forEach(function(callback) {\n        if (callback != null)\n          callback();\n      });\n    } finally {\n      delete root._bokeh_onload_callbacks\n    }\n    console.debug(\"Bokeh: all callbacks have finished\");\n  }\n\n  function load_libs(css_urls, js_urls, callback) {\n    if (css_urls == null) css_urls = [];\n    if (js_urls == null) js_urls = [];\n\n    root._bokeh_onload_callbacks.push(callback);\n    if (root._bokeh_is_loading > 0) {\n      console.debug(\"Bokeh: BokehJS is being loaded, scheduling callback at\", now());\n      return null;\n    }\n    if (js_urls == null || js_urls.length === 0) {\n      run_callbacks();\n      return null;\n    }\n    console.debug(\"Bokeh: BokehJS not loaded, scheduling load and callback at\", now());\n    root._bokeh_is_loading = css_urls.length + js_urls.length;\n\n    function on_load() {\n      root._bokeh_is_loading--;\n      if (root._bokeh_is_loading === 0) {\n        console.debug(\"Bokeh: all BokehJS libraries/stylesheets loaded\");\n        run_callbacks()\n      }\n    }\n\n    function on_error(url) {\n      console.error(\"failed to load \" + url);\n    }\n\n    for (let i = 0; i < css_urls.length; i++) {\n      const url = css_urls[i];\n      const element = document.createElement(\"link\");\n      element.onload = on_load;\n      element.onerror = on_error.bind(null, url);\n      element.rel = \"stylesheet\";\n      element.type = \"text/css\";\n      element.href = url;\n      console.debug(\"Bokeh: injecting link tag for BokehJS stylesheet: \", url);\n      document.body.appendChild(element);\n    }\n\n    for (let i = 0; i < js_urls.length; i++) {\n      const url = js_urls[i];\n      const element = document.createElement('script');\n      element.onload = on_load;\n      element.onerror = on_error.bind(null, url);\n      element.async = false;\n      element.src = url;\n      console.debug(\"Bokeh: injecting script tag for BokehJS library: \", url);\n      document.head.appendChild(element);\n    }\n  };\n\n  function inject_raw_css(css) {\n    const element = document.createElement(\"style\");\n    element.appendChild(document.createTextNode(css));\n    document.body.appendChild(element);\n  }\n\n  const js_urls = [\"https://cdn.bokeh.org/bokeh/release/bokeh-3.6.0.min.js\", \"https://cdn.bokeh.org/bokeh/release/bokeh-gl-3.6.0.min.js\", \"https://cdn.bokeh.org/bokeh/release/bokeh-widgets-3.6.0.min.js\", \"https://cdn.bokeh.org/bokeh/release/bokeh-tables-3.6.0.min.js\", \"https://cdn.bokeh.org/bokeh/release/bokeh-mathjax-3.6.0.min.js\"];\n  const css_urls = [];\n\n  const inline_js = [    function(Bokeh) {\n      Bokeh.set_log_level(\"info\");\n    },\nfunction(Bokeh) {\n    }\n  ];\n\n  function run_inline_js() {\n    if (root.Bokeh !== undefined || force === true) {\n      try {\n            for (let i = 0; i < inline_js.length; i++) {\n      inline_js[i].call(root, root.Bokeh);\n    }\n\n      } catch (error) {display_loaded(error);throw error;\n      }if (force === true) {\n        display_loaded();\n      }} else if (Date.now() < root._bokeh_timeout) {\n      setTimeout(run_inline_js, 100);\n    } else if (!root._bokeh_failed_load) {\n      console.log(\"Bokeh: BokehJS failed to load within specified timeout.\");\n      root._bokeh_failed_load = true;\n    } else if (force !== true) {\n      const cell = $(document.getElementById(\"d88eb0df-265b-4d44-bd5e-e97e1873047b\")).parents('.cell').data().cell;\n      cell.output_area.append_execute_result(NB_LOAD_WARNING)\n    }\n  }\n\n  if (root._bokeh_is_loading === 0) {\n    console.debug(\"Bokeh: BokehJS loaded, going straight to plotting\");\n    run_inline_js();\n  } else {\n    load_libs(css_urls, js_urls, function() {\n      console.debug(\"Bokeh: BokehJS plotting callback run at\", now());\n      run_inline_js();\n    });\n  }\n}(window));",
      "application/vnd.bokehjs_load.v0+json": ""
     },
     "metadata": {},
     "output_type": "display_data"
    }
   ],
   "source": [
    "import bokeh.models as bm\n",
    "import bokeh.plotting as pl\n",
    "from bokeh.io import output_notebook\n",
    "\n",
    "output_notebook()\n",
    "\n",
    "\n",
    "def draw_vectors(\n",
    "    x,\n",
    "    y,\n",
    "    radius=10,\n",
    "    alpha=0.25,\n",
    "    color=\"blue\",\n",
    "    width=600,\n",
    "    height=400,\n",
    "    show=True,\n",
    "    **kwargs,\n",
    "):\n",
    "    \"\"\"draws an interactive plot for data points with auxilirary info on hover\"\"\"\n",
    "    if isinstance(color, str):\n",
    "        color = [color] * len(x)\n",
    "    data_source = bm.ColumnDataSource({\"x\": x, \"y\": y, \"color\": color, **kwargs})\n",
    "\n",
    "    fig = pl.figure(active_scroll=\"wheel_zoom\", width=width, height=height)\n",
    "    fig.scatter(\"x\", \"y\", size=radius, color=\"color\", alpha=alpha, source=data_source)\n",
    "\n",
    "    fig.add_tools(bm.HoverTool(tooltips=[(key, \"@\" + key) for key in kwargs.keys()]))\n",
    "    if show:\n",
    "        pl.show(fig)\n",
    "    return fig"
   ]
  },
  {
   "cell_type": "code",
   "execution_count": 129,
   "metadata": {},
   "outputs": [],
   "source": [
    "embedding = umap.UMAP(n_neighbors=5).fit_transform(word_embeddings)"
   ]
  },
  {
   "cell_type": "code",
   "execution_count": 130,
   "metadata": {},
   "outputs": [
    {
     "data": {
      "text/html": [
       "\n",
       "  <div id=\"e68a5e7d-2765-4b72-bf61-4f96253a1a79\" data-root-id=\"p1157\" style=\"display: contents;\"></div>\n"
      ]
     },
     "metadata": {},
     "output_type": "display_data"
    },
    {
     "data": {
      "application/javascript": "(function(root) {\n  function embed_document(root) {\n  const docs_json = {\"21a96a6a-9131-42fc-bf25-b44595334bea\":{\"version\":\"3.6.0\",\"title\":\"Bokeh Application\",\"roots\":[{\"type\":\"object\",\"name\":\"Figure\",\"id\":\"p1157\",\"attributes\":{\"height\":400,\"x_range\":{\"type\":\"object\",\"name\":\"DataRange1d\",\"id\":\"p1158\"},\"y_range\":{\"type\":\"object\",\"name\":\"DataRange1d\",\"id\":\"p1159\"},\"x_scale\":{\"type\":\"object\",\"name\":\"LinearScale\",\"id\":\"p1166\"},\"y_scale\":{\"type\":\"object\",\"name\":\"LinearScale\",\"id\":\"p1167\"},\"title\":{\"type\":\"object\",\"name\":\"Title\",\"id\":\"p1164\"},\"renderers\":[{\"type\":\"object\",\"name\":\"GlyphRenderer\",\"id\":\"p1197\",\"attributes\":{\"data_source\":{\"type\":\"object\",\"name\":\"ColumnDataSource\",\"id\":\"p1154\",\"attributes\":{\"selected\":{\"type\":\"object\",\"name\":\"Selection\",\"id\":\"p1155\",\"attributes\":{\"indices\":[],\"line_indices\":[]}},\"selection_policy\":{\"type\":\"object\",\"name\":\"UnionRenderers\",\"id\":\"p1156\"},\"data\":{\"type\":\"map\",\"entries\":[[\"x\",{\"type\":\"ndarray\",\"array\":{\"type\":\"bytes\",\"data\":\"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\"},\"shape\":[5000],\"dtype\":\"float32\",\"order\":\"little\"}],[\"y\",{\"type\":\"ndarray\",\"array\":{\"type\":\"bytes\",\"data\":\"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\"},\"shape\":[5000],\"dtype\":\"float32\",\"order\":\"little\"}],[\"color\",[\"blue\",\"blue\",\"blue\",\"blue\",\"blue\",\"blue\",\"blue\",\"blue\",\"blue\",\"blue\",\"blue\",\"blue\",\"blue\",\"blue\",\"blue\",\"blue\",\"blue\",\"blue\",\"blue\",\"blue\",\"blue\",\"blue\",\"blue\",\"blue\",\"blue\",\"blue\",\"blue\",\"blue\",\"blue\",\"blue\",\"blue\",\"blue\",\"blue\",\"blue\",\"blue\",\"blue\",\"blue\",\"blue\",\"blue\",\"blue\",\"blue\",\"blue\",\"blue\",\"blue\",\"blue\",\"blue\",\"blue\",\"blue\",\"blue\",\"blue\",\"blue\",\"blue\",\"blue\",\"blue\",\"blue\",\"blue\",\"blue\",\"blue\",\"blue\",\"blue\",\"blue\",\"blue\",\"blue\",\"blue\",\"blue\",\"blue\",\"blue\",\"blue\",\"blue\",\"blue\",\"blue\",\"blue\",\"blue\",\"blue\",\"blue\",\"blue\",\"blue\",\"blue\",\"blue\",\"blue\",\"blue\",\"blue\",\"blue\",\"blue\",\"blue\",\"blue\",\"blue\",\"blue\",\"blue\",\"blue\",\"blue\",\"blue\",\"blue\",\"blue\",\"blue\",\"blue\",\"blue\",\"blue\",\"blue\",\"blue\",\"blue\",\"blue\",\"blue\",\"blue\",\"blue\",\"blue\",\"blue\",\"blue\",\"blue\",\"blue\",\"blue\",\"blue\",\"blue\",\"blue\",\"blue\",\"blue\",\"blue\",\"blue\",\"blue\",\"blue\",\"blue\",\"blue\",\"blue\",\"blue\",\"blue\",\"blue\",\"blue\",\"blue\",\"blue\",\"blue\",\"blue\",\"blue\",\"blue\",\"blue\",\"blue\",\"blue\",\"blue\",\"blue\",\"blue\",\"blue\",\"blue\",\"blue\",\"blue\",\"blue\",\"blue\",\"blue\",\"blue\",\"blue\",\"blue\",\"blue\",\"blue\",\"blue\",\"blue\",\"blue\",\"blue\",\"blue\",\"blue\",\"blue\",\"blue\",\"blue\",\"blue\",\"blue\",\"blue\",\"blue\",\"blue\",\"blue\",\"blue\",\"blue\",\"blue\",\"blue\",\"blue\",\"blue\",\"blue\",\"blue\",\"blue\",\"blue\",\"blue\",\"blue\",\"blue\",\"blue\",\"blue\",\"blue\",\"blue\",\"blue\",\"blue\",\"blue\",\"blue\",\"blue\",\"blue\",\"blue\",\"blue\",\"blue\",\"blue\",\"blue\",\"blue\",\"blue\",\"blue\",\"blue\",\"blue\",\"blue\",\"blue\",\"blue\",\"blue\",\"blue\",\"blue\",\"blue\",\"blue\",\"blue\",\"blue\",\"blue\",\"blue\",\"blue\",\"blue\",\"blue\",\"blue\",\"blue\",\"blue\",\"blue\",\"blue\",\"blue\",\"blue\",\"blue\",\"blue\",\"blue\",\"blue\",\"blue\",\"blue\",\"blue\",\"blue\",\"blue\",\"blue\",\"blue\",\"blue\",\"blue\",\"blue\",\"blue\",\"blue\",\"blue\",\"blue\",\"blue\",\"blue\",\"blue\",\"blue\",\"blue\",\"blue\",\"blue\",\"blue\",\"blue\",\"blue\",\"blue\",\"blue\",\"blue\",\"blue\",\"blue\",\"blue\",\"blue\",\"blue\",\"blue\",\"blue\",\"blue\",\"blue\",\"blue\",\"blue\",\"blue\",\"blue\",\"blue\",\"blue\",\"blue\",\"blue\",\"blue\",\"blue\",\"blue\",\"blue\",\"blue\",\"blue\",\"blue\",\"blue\",\"blue\",\"blue\",\"blue\",\"blue\",\"blue\",\"blue\",\"blue\",\"blue\",\"blue\",\"blue\",\"blue\",\"blue\",\"blue\",\"blue\",\"blue\",\"blue\",\"blue\",\"blue\",\"blue\",\"blue\",\"blue\",\"blue\",\"blue\",\"blue\",\"blue\",\"blue\",\"blue\",\"blue\",\"blue\",\"blue\",\"blue\",\"blue\",\"blue\",\"blue\",\"blue\",\"blue\",\"blue\",\"blue\",\"blue\",\"blue\",\"blue\",\"blue\",\"blue\",\"blue\",\"blue\",\"blue\",\"blue\",\"blue\",\"blue\",\"blue\",\"blue\",\"blue\",\"blue\",\"blue\",\"blue\",\"blue\",\"blue\",\"blue\",\"blue\",\"blue\",\"blue\",\"blue\",\"blue\",\"blue\",\"blue\",\"blue\",\"blue\",\"blue\",\"blue\",\"blue\",\"blue\",\"blue\",\"blue\",\"blue\",\"blue\",\"blue\",\"blue\",\"blue\",\"blue\",\"blue\",\"blue\",\"blue\",\"blue\",\"blue\",\"blue\",\"blue\",\"blue\",\"blue\",\"blue\",\"blue\",\"blue\",\"blue\",\"blue\",\"blue\",\"blue\",\"blue\",\"blue\",\"blue\",\"blue\",\"blue\",\"blue\",\"blue\",\"blue\",\"blue\",\"blue\",\"blue\",\"blue\",\"blue\",\"blue\",\"blue\",\"blue\",\"blue\",\"blue\",\"blue\",\"blue\",\"blue\",\"blue\",\"blue\",\"blue\",\"blue\",\"blue\",\"blue\",\"blue\",\"blue\",\"blue\",\"blue\",\"blue\",\"blue\",\"blue\",\"blue\",\"blue\",\"blue\",\"blue\",\"blue\",\"blue\",\"blue\",\"blue\",\"blue\",\"blue\",\"blue\",\"blue\",\"blue\",\"blue\",\"blue\",\"blue\",\"blue\",\"blue\",\"blue\",\"blue\",\"blue\",\"blue\",\"blue\",\"blue\",\"blue\",\"blue\",\"blue\",\"blue\",\"blue\",\"blue\",\"blue\",\"blue\",\"blue\",\"blue\",\"blue\",\"blue\",\"blue\",\"blue\",\"blue\",\"blue\",\"blue\",\"blue\",\"blue\",\"blue\",\"blue\",\"blue\",\"blue\",\"blue\",\"blue\",\"blue\",\"blue\",\"blue\",\"blue\",\"blue\",\"blue\",\"blue\",\"blue\",\"blue\",\"blue\",\"blue\",\"blue\",\"blue\",\"blue\",\"blue\",\"blue\",\"blue\",\"blue\",\"blue\",\"blue\",\"blue\",\"blue\",\"blue\",\"blue\",\"blue\",\"blue\",\"blue\",\"blue\",\"blue\",\"blue\",\"blue\",\"blue\",\"blue\",\"blue\",\"blue\",\"blue\",\"blue\",\"blue\",\"blue\",\"blue\",\"blue\",\"blue\",\"blue\",\"blue\",\"blue\",\"blue\",\"blue\",\"blue\",\"blue\",\"blue\",\"blue\",\"blue\",\"blue\",\"blue\",\"blue\",\"blue\",\"blue\",\"blue\",\"blue\",\"blue\",\"blue\",\"blue\",\"blue\",\"blue\",\"blue\",\"blue\",\"blue\",\"blue\",\"blue\",\"blue\",\"blue\",\"blue\",\"blue\",\"blue\",\"blue\",\"blue\",\"blue\",\"blue\",\"blue\",\"blue\",\"blue\",\"blue\",\"blue\",\"blue\",\"blue\",\"blue\",\"blue\",\"blue\",\"blue\",\"blue\",\"blue\",\"blue\",\"blue\",\"blue\",\"blue\",\"blue\",\"blue\",\"blue\",\"blue\",\"blue\",\"blue\",\"blue\",\"blue\",\"blue\",\"blue\",\"blue\",\"blue\",\"blue\",\"blue\",\"blue\",\"blue\",\"blue\",\"blue\",\"blue\",\"blue\",\"blue\",\"blue\",\"blue\",\"blue\",\"blue\",\"blue\",\"blue\",\"blue\",\"blue\",\"blue\",\"blue\",\"blue\",\"blue\",\"blue\",\"blue\",\"blue\",\"blue\",\"blue\",\"blue\",\"blue\",\"blue\",\"blue\",\"blue\",\"blue\",\"blue\",\"blue\",\"blue\",\"blue\",\"blue\",\"blue\",\"blue\",\"blue\",\"blue\",\"blue\",\"blue\",\"blue\",\"blue\",\"blue\",\"blue\",\"blue\",\"blue\",\"blue\",\"blue\",\"blue\",\"blue\",\"blue\",\"blue\",\"blue\",\"blue\",\"blue\",\"blue\",\"blue\",\"blue\",\"blue\",\"blue\",\"blue\",\"blue\",\"blue\",\"blue\",\"blue\",\"blue\",\"blue\",\"blue\",\"blue\",\"blue\",\"blue\",\"blue\",\"blue\",\"blue\",\"blue\",\"blue\",\"blue\",\"blue\",\"blue\",\"blue\",\"blue\",\"blue\",\"blue\",\"blue\",\"blue\",\"blue\",\"blue\",\"blue\",\"blue\",\"blue\",\"blue\",\"blue\",\"blue\",\"blue\",\"blue\",\"blue\",\"blue\",\"blue\",\"blue\",\"blue\",\"blue\",\"blue\",\"blue\",\"blue\",\"blue\",\"blue\",\"blue\",\"blue\",\"blue\",\"blue\",\"blue\",\"blue\",\"blue\",\"blue\",\"blue\",\"blue\",\"blue\",\"blue\",\"blue\",\"blue\",\"blue\",\"blue\",\"blue\",\"blue\",\"blue\",\"blue\",\"blue\",\"blue\",\"blue\",\"blue\",\"blue\",\"blue\",\"blue\",\"blue\",\"blue\",\"blue\",\"blue\",\"blue\",\"blue\",\"blue\",\"blue\",\"blue\",\"blue\",\"blue\",\"blue\",\"blue\",\"blue\",\"blue\",\"blue\",\"blue\",\"blue\",\"blue\",\"blue\",\"blue\",\"blue\",\"blue\",\"blue\",\"blue\",\"blue\",\"blue\",\"blue\",\"blue\",\"blue\",\"blue\",\"blue\",\"blue\",\"blue\",\"blue\",\"blue\",\"blue\",\"blue\",\"blue\",\"blue\",\"blue\",\"blue\",\"blue\",\"blue\",\"blue\",\"blue\",\"blue\",\"blue\",\"blue\",\"blue\",\"blue\",\"blue\",\"blue\",\"blue\",\"blue\",\"blue\",\"blue\",\"blue\",\"blue\",\"blue\",\"blue\",\"blue\",\"blue\",\"blue\",\"blue\",\"blue\",\"blue\",\"blue\",\"blue\",\"blue\",\"blue\",\"blue\",\"blue\",\"blue\",\"blue\",\"blue\",\"blue\",\"blue\",\"blue\",\"blue\",\"blue\",\"blue\",\"blue\",\"blue\",\"blue\",\"blue\",\"blue\",\"blue\",\"blue\",\"blue\",\"blue\",\"blue\",\"blue\",\"blue\",\"blue\",\"blue\",\"blue\",\"blue\",\"blue\",\"blue\",\"blue\",\"blue\",\"blue\",\"blue\",\"blue\",\"blue\",\"blue\",\"blue\",\"blue\",\"blue\",\"blue\",\"blue\",\"blue\",\"blue\",\"blue\",\"blue\",\"blue\",\"blue\",\"blue\",\"blue\",\"blue\",\"blue\",\"blue\",\"blue\",\"blue\",\"blue\",\"blue\",\"blue\",\"blue\",\"blue\",\"blue\",\"blue\",\"blue\",\"blue\",\"blue\",\"blue\",\"blue\",\"blue\",\"blue\",\"blue\",\"blue\",\"blue\",\"blue\",\"blue\",\"blue\",\"blue\",\"blue\",\"blue\",\"blue\",\"blue\",\"blue\",\"blue\",\"blue\",\"blue\",\"blue\",\"blue\",\"blue\",\"blue\",\"blue\",\"blue\",\"blue\",\"blue\",\"blue\",\"blue\",\"blue\",\"blue\",\"blue\",\"blue\",\"blue\",\"blue\",\"blue\",\"blue\",\"blue\",\"blue\",\"blue\",\"blue\",\"blue\",\"blue\",\"blue\",\"blue\",\"blue\",\"blue\",\"blue\",\"blue\",\"blue\",\"blue\",\"blue\",\"blue\",\"blue\",\"blue\",\"blue\",\"blue\",\"blue\",\"blue\",\"blue\",\"blue\",\"blue\",\"blue\",\"blue\",\"blue\",\"blue\",\"blue\",\"blue\",\"blue\",\"blue\",\"blue\",\"blue\",\"blue\",\"blue\",\"blue\",\"blue\",\"blue\",\"blue\",\"blue\",\"blue\",\"blue\",\"blue\",\"blue\",\"blue\",\"blue\",\"blue\",\"blue\",\"blue\",\"blue\",\"blue\",\"blue\",\"blue\",\"blue\",\"blue\",\"blue\",\"blue\",\"blue\",\"blue\",\"blue\",\"blue\",\"blue\",\"blue\",\"blue\",\"blue\",\"blue\",\"blue\",\"blue\",\"blue\",\"blue\",\"blue\",\"blue\",\"blue\",\"blue\",\"blue\",\"blue\",\"blue\",\"blue\",\"blue\",\"blue\",\"blue\",\"blue\",\"blue\",\"blue\",\"blue\",\"blue\",\"blue\",\"blue\",\"blue\",\"blue\",\"blue\",\"blue\",\"blue\",\"blue\",\"blue\",\"blue\",\"blue\",\"blue\",\"blue\",\"blue\",\"blue\",\"blue\",\"blue\",\"blue\",\"blue\",\"blue\",\"blue\",\"blue\",\"blue\",\"blue\",\"blue\",\"blue\",\"blue\",\"blue\",\"blue\",\"blue\",\"blue\",\"blue\",\"blue\",\"blue\",\"blue\",\"blue\",\"blue\",\"blue\",\"blue\",\"blue\",\"blue\",\"blue\",\"blue\",\"blue\",\"blue\",\"blue\",\"blue\",\"blue\",\"blue\",\"blue\",\"blue\",\"blue\",\"blue\",\"blue\",\"blue\",\"blue\",\"blue\",\"blue\",\"blue\",\"blue\",\"blue\",\"blue\",\"blue\",\"blue\",\"blue\",\"blue\",\"blue\",\"blue\",\"blue\",\"blue\",\"blue\",\"blue\",\"blue\",\"blue\",\"blue\",\"blue\",\"blue\",\"blue\",\"blue\",\"blue\",\"blue\",\"blue\",\"blue\",\"blue\",\"blue\",\"blue\",\"blue\",\"blue\",\"blue\",\"blue\",\"blue\",\"blue\",\"blue\",\"blue\",\"blue\",\"blue\",\"blue\",\"blue\",\"blue\",\"blue\",\"blue\",\"blue\",\"blue\",\"blue\",\"blue\",\"blue\",\"blue\",\"blue\",\"blue\",\"blue\",\"blue\",\"blue\",\"blue\",\"blue\",\"blue\",\"blue\",\"blue\",\"blue\",\"blue\",\"blue\",\"blue\",\"blue\",\"blue\",\"blue\",\"blue\",\"blue\",\"blue\",\"blue\",\"blue\",\"blue\",\"blue\",\"blue\",\"blue\",\"blue\",\"blue\",\"blue\",\"blue\",\"blue\",\"blue\",\"blue\",\"blue\",\"blue\",\"blue\",\"blue\",\"blue\",\"blue\",\"blue\",\"blue\",\"blue\",\"blue\",\"blue\",\"blue\",\"blue\",\"blue\",\"blue\",\"blue\",\"blue\",\"blue\",\"blue\",\"blue\",\"blue\",\"blue\",\"blue\",\"blue\",\"blue\",\"blue\",\"blue\",\"blue\",\"blue\",\"blue\",\"blue\",\"blue\",\"blue\",\"blue\",\"blue\",\"blue\",\"blue\",\"blue\",\"blue\",\"blue\",\"blue\",\"blue\",\"blue\",\"blue\",\"blue\",\"blue\",\"blue\",\"blue\",\"blue\",\"blue\",\"blue\",\"blue\",\"blue\",\"blue\",\"blue\",\"blue\",\"blue\",\"blue\",\"blue\",\"blue\",\"blue\",\"blue\",\"blue\",\"blue\",\"blue\",\"blue\",\"blue\",\"blue\",\"blue\",\"blue\",\"blue\",\"blue\",\"blue\",\"blue\",\"blue\",\"blue\",\"blue\",\"blue\",\"blue\",\"blue\",\"blue\",\"blue\",\"blue\",\"blue\",\"blue\",\"blue\",\"blue\",\"blue\",\"blue\",\"blue\",\"blue\",\"blue\",\"blue\",\"blue\",\"blue\",\"blue\",\"blue\",\"blue\",\"blue\",\"blue\",\"blue\",\"blue\",\"blue\",\"blue\",\"blue\",\"blue\",\"blue\",\"blue\",\"blue\",\"blue\",\"blue\",\"blue\",\"blue\",\"blue\",\"blue\",\"blue\",\"blue\",\"blue\",\"blue\",\"blue\",\"blue\",\"blue\",\"blue\",\"blue\",\"blue\",\"blue\",\"blue\",\"blue\",\"blue\",\"blue\",\"blue\",\"blue\",\"blue\",\"blue\",\"blue\",\"blue\",\"blue\",\"blue\",\"blue\",\"blue\",\"blue\",\"blue\",\"blue\",\"blue\",\"blue\",\"blue\",\"blue\",\"blue\",\"blue\",\"blue\",\"blue\",\"blue\",\"blue\",\"blue\",\"blue\",\"blue\",\"blue\",\"blue\",\"blue\",\"blue\",\"blue\",\"blue\",\"blue\",\"blue\",\"blue\",\"blue\",\"blue\",\"blue\",\"blue\",\"blue\",\"blue\",\"blue\",\"blue\",\"blue\",\"blue\",\"blue\",\"blue\",\"blue\",\"blue\",\"blue\",\"blue\",\"blue\",\"blue\",\"blue\",\"blue\",\"blue\",\"blue\",\"blue\",\"blue\",\"blue\",\"blue\",\"blue\",\"blue\",\"blue\",\"blue\",\"blue\",\"blue\",\"blue\",\"blue\",\"blue\",\"blue\",\"blue\",\"blue\",\"blue\",\"blue\",\"blue\",\"blue\",\"blue\",\"blue\",\"blue\",\"blue\",\"blue\",\"blue\",\"blue\",\"blue\",\"blue\",\"blue\",\"blue\",\"blue\",\"blue\",\"blue\",\"blue\",\"blue\",\"blue\",\"blue\",\"blue\",\"blue\",\"blue\",\"blue\",\"blue\",\"blue\",\"blue\",\"blue\",\"blue\",\"blue\",\"blue\",\"blue\",\"blue\",\"blue\",\"blue\",\"blue\",\"blue\",\"blue\",\"blue\",\"blue\",\"blue\",\"blue\",\"blue\",\"blue\",\"blue\",\"blue\",\"blue\",\"blue\",\"blue\",\"blue\",\"blue\",\"blue\",\"blue\",\"blue\",\"blue\",\"blue\",\"blue\",\"blue\",\"blue\",\"blue\",\"blue\",\"blue\",\"blue\",\"blue\",\"blue\",\"blue\",\"blue\",\"blue\",\"blue\",\"blue\",\"blue\",\"blue\",\"blue\",\"blue\",\"blue\",\"blue\",\"blue\",\"blue\",\"blue\",\"blue\",\"blue\",\"blue\",\"blue\",\"blue\",\"blue\",\"blue\",\"blue\",\"blue\",\"blue\",\"blue\",\"blue\",\"blue\",\"blue\",\"blue\",\"blue\",\"blue\",\"blue\",\"blue\",\"blue\",\"blue\",\"blue\",\"blue\",\"blue\",\"blue\",\"blue\",\"blue\",\"blue\",\"blue\",\"blue\",\"blue\",\"blue\",\"blue\",\"blue\",\"blue\",\"blue\",\"blue\",\"blue\",\"blue\",\"blue\",\"blue\",\"blue\",\"blue\",\"blue\",\"blue\",\"blue\",\"blue\",\"blue\",\"blue\",\"blue\",\"blue\",\"blue\",\"blue\",\"blue\",\"blue\",\"blue\",\"blue\",\"blue\",\"blue\",\"blue\",\"blue\",\"blue\",\"blue\",\"blue\",\"blue\",\"blue\",\"blue\",\"blue\",\"blue\",\"blue\",\"blue\",\"blue\",\"blue\",\"blue\",\"blue\",\"blue\",\"blue\",\"blue\",\"blue\",\"blue\",\"blue\",\"blue\",\"blue\",\"blue\",\"blue\",\"blue\",\"blue\",\"blue\",\"blue\",\"blue\",\"blue\",\"blue\",\"blue\",\"blue\",\"blue\",\"blue\",\"blue\",\"blue\",\"blue\",\"blue\",\"blue\",\"blue\",\"blue\",\"blue\",\"blue\",\"blue\",\"blue\",\"blue\",\"blue\",\"blue\",\"blue\",\"blue\",\"blue\",\"blue\",\"blue\",\"blue\",\"blue\",\"blue\",\"blue\",\"blue\",\"blue\",\"blue\",\"blue\",\"blue\",\"blue\",\"blue\",\"blue\",\"blue\",\"blue\",\"blue\",\"blue\",\"blue\",\"blue\",\"blue\",\"blue\",\"blue\",\"blue\",\"blue\",\"blue\",\"blue\",\"blue\",\"blue\",\"blue\",\"blue\",\"blue\",\"blue\",\"blue\",\"blue\",\"blue\",\"blue\",\"blue\",\"blue\",\"blue\",\"blue\",\"blue\",\"blue\",\"blue\",\"blue\",\"blue\",\"blue\",\"blue\",\"blue\",\"blue\",\"blue\",\"blue\",\"blue\",\"blue\",\"blue\",\"blue\",\"blue\",\"blue\",\"blue\",\"blue\",\"blue\",\"blue\",\"blue\",\"blue\",\"blue\",\"blue\",\"blue\",\"blue\",\"blue\",\"blue\",\"blue\",\"blue\",\"blue\",\"blue\",\"blue\",\"blue\",\"blue\",\"blue\",\"blue\",\"blue\",\"blue\",\"blue\",\"blue\",\"blue\",\"blue\",\"blue\",\"blue\",\"blue\",\"blue\",\"blue\",\"blue\",\"blue\",\"blue\",\"blue\",\"blue\",\"blue\",\"blue\",\"blue\",\"blue\",\"blue\",\"blue\",\"blue\",\"blue\",\"blue\",\"blue\",\"blue\",\"blue\",\"blue\",\"blue\",\"blue\",\"blue\",\"blue\",\"blue\",\"blue\",\"blue\",\"blue\",\"blue\",\"blue\",\"blue\",\"blue\",\"blue\",\"blue\",\"blue\",\"blue\",\"blue\",\"blue\",\"blue\",\"blue\",\"blue\",\"blue\",\"blue\",\"blue\",\"blue\",\"blue\",\"blue\",\"blue\",\"blue\",\"blue\",\"blue\",\"blue\",\"blue\",\"blue\",\"blue\",\"blue\",\"blue\",\"blue\",\"blue\",\"blue\",\"blue\",\"blue\",\"blue\",\"blue\",\"blue\",\"blue\",\"blue\",\"blue\",\"blue\",\"blue\",\"blue\",\"blue\",\"blue\",\"blue\",\"blue\",\"blue\",\"blue\",\"blue\",\"blue\",\"blue\",\"blue\",\"blue\",\"blue\",\"blue\",\"blue\",\"blue\",\"blue\",\"blue\",\"blue\",\"blue\",\"blue\",\"blue\",\"blue\",\"blue\",\"blue\",\"blue\",\"blue\",\"blue\",\"blue\",\"blue\",\"blue\",\"blue\",\"blue\",\"blue\",\"blue\",\"blue\",\"blue\",\"blue\",\"blue\",\"blue\",\"blue\",\"blue\",\"blue\",\"blue\",\"blue\",\"blue\",\"blue\",\"blue\",\"blue\",\"blue\",\"blue\",\"blue\",\"blue\",\"blue\",\"blue\",\"blue\",\"blue\",\"blue\",\"blue\",\"blue\",\"blue\",\"blue\",\"blue\",\"blue\",\"blue\",\"blue\",\"blue\",\"blue\",\"blue\",\"blue\",\"blue\",\"blue\",\"blue\",\"blue\",\"blue\",\"blue\",\"blue\",\"blue\",\"blue\",\"blue\",\"blue\",\"blue\",\"blue\",\"blue\",\"blue\",\"blue\",\"blue\",\"blue\",\"blue\",\"blue\",\"blue\",\"blue\",\"blue\",\"blue\",\"blue\",\"blue\",\"blue\",\"blue\",\"blue\",\"blue\",\"blue\",\"blue\",\"blue\",\"blue\",\"blue\",\"blue\",\"blue\",\"blue\",\"blue\",\"blue\",\"blue\",\"blue\",\"blue\",\"blue\",\"blue\",\"blue\",\"blue\",\"blue\",\"blue\",\"blue\",\"blue\",\"blue\",\"blue\",\"blue\",\"blue\",\"blue\",\"blue\",\"blue\",\"blue\",\"blue\",\"blue\",\"blue\",\"blue\",\"blue\",\"blue\",\"blue\",\"blue\",\"blue\",\"blue\",\"blue\",\"blue\",\"blue\",\"blue\",\"blue\",\"blue\",\"blue\",\"blue\",\"blue\",\"blue\",\"blue\",\"blue\",\"blue\",\"blue\",\"blue\",\"blue\",\"blue\",\"blue\",\"blue\",\"blue\",\"blue\",\"blue\",\"blue\",\"blue\",\"blue\",\"blue\",\"blue\",\"blue\",\"blue\",\"blue\",\"blue\",\"blue\",\"blue\",\"blue\",\"blue\",\"blue\",\"blue\",\"blue\",\"blue\",\"blue\",\"blue\",\"blue\",\"blue\",\"blue\",\"blue\",\"blue\",\"blue\",\"blue\",\"blue\",\"blue\",\"blue\",\"blue\",\"blue\",\"blue\",\"blue\",\"blue\",\"blue\",\"blue\",\"blue\",\"blue\",\"blue\",\"blue\",\"blue\",\"blue\",\"blue\",\"blue\",\"blue\",\"blue\",\"blue\",\"blue\",\"blue\",\"blue\",\"blue\",\"blue\",\"blue\",\"blue\",\"blue\",\"blue\",\"blue\",\"blue\",\"blue\",\"blue\",\"blue\",\"blue\",\"blue\",\"blue\",\"blue\",\"blue\",\"blue\",\"blue\",\"blue\",\"blue\",\"blue\",\"blue\",\"blue\",\"blue\",\"blue\",\"blue\",\"blue\",\"blue\",\"blue\",\"blue\",\"blue\",\"blue\",\"blue\",\"blue\",\"blue\",\"blue\",\"blue\",\"blue\",\"blue\",\"blue\",\"blue\",\"blue\",\"blue\",\"blue\",\"blue\",\"blue\",\"blue\",\"blue\",\"blue\",\"blue\",\"blue\",\"blue\",\"blue\",\"blue\",\"blue\",\"blue\",\"blue\",\"blue\",\"blue\",\"blue\",\"blue\",\"blue\",\"blue\",\"blue\",\"blue\",\"blue\",\"blue\",\"blue\",\"blue\",\"blue\",\"blue\",\"blue\",\"blue\",\"blue\",\"blue\",\"blue\",\"blue\",\"blue\",\"blue\",\"blue\",\"blue\",\"blue\",\"blue\",\"blue\",\"blue\",\"blue\",\"blue\",\"blue\",\"blue\",\"blue\",\"blue\",\"blue\",\"blue\",\"blue\",\"blue\",\"blue\",\"blue\",\"blue\",\"blue\",\"blue\",\"blue\",\"blue\",\"blue\",\"blue\",\"blue\",\"blue\",\"blue\",\"blue\",\"blue\",\"blue\",\"blue\",\"blue\",\"blue\",\"blue\",\"blue\",\"blue\",\"blue\",\"blue\",\"blue\",\"blue\",\"blue\",\"blue\",\"blue\",\"blue\",\"blue\",\"blue\",\"blue\",\"blue\",\"blue\",\"blue\",\"blue\",\"blue\",\"blue\",\"blue\",\"blue\",\"blue\",\"blue\",\"blue\",\"blue\",\"blue\",\"blue\",\"blue\",\"blue\",\"blue\",\"blue\",\"blue\",\"blue\",\"blue\",\"blue\",\"blue\",\"blue\",\"blue\",\"blue\",\"blue\",\"blue\",\"blue\",\"blue\",\"blue\",\"blue\",\"blue\",\"blue\",\"blue\",\"blue\",\"blue\",\"blue\",\"blue\",\"blue\",\"blue\",\"blue\",\"blue\",\"blue\",\"blue\",\"blue\",\"blue\",\"blue\",\"blue\",\"blue\",\"blue\",\"blue\",\"blue\",\"blue\",\"blue\",\"blue\",\"blue\",\"blue\",\"blue\",\"blue\",\"blue\",\"blue\",\"blue\",\"blue\",\"blue\",\"blue\",\"blue\",\"blue\",\"blue\",\"blue\",\"blue\",\"blue\",\"blue\",\"blue\",\"blue\",\"blue\",\"blue\",\"blue\",\"blue\",\"blue\",\"blue\",\"blue\",\"blue\",\"blue\",\"blue\",\"blue\",\"blue\",\"blue\",\"blue\",\"blue\",\"blue\",\"blue\",\"blue\",\"blue\",\"blue\",\"blue\",\"blue\",\"blue\",\"blue\",\"blue\",\"blue\",\"blue\",\"blue\",\"blue\",\"blue\",\"blue\",\"blue\",\"blue\",\"blue\",\"blue\",\"blue\",\"blue\",\"blue\",\"blue\",\"blue\",\"blue\",\"blue\",\"blue\",\"blue\",\"blue\",\"blue\",\"blue\",\"blue\",\"blue\",\"blue\",\"blue\",\"blue\",\"blue\",\"blue\",\"blue\",\"blue\",\"blue\",\"blue\",\"blue\",\"blue\",\"blue\",\"blue\",\"blue\",\"blue\",\"blue\",\"blue\",\"blue\",\"blue\",\"blue\",\"blue\",\"blue\",\"blue\",\"blue\",\"blue\",\"blue\",\"blue\",\"blue\",\"blue\",\"blue\",\"blue\",\"blue\",\"blue\",\"blue\",\"blue\",\"blue\",\"blue\",\"blue\",\"blue\",\"blue\",\"blue\",\"blue\",\"blue\",\"blue\",\"blue\",\"blue\",\"blue\",\"blue\",\"blue\",\"blue\",\"blue\",\"blue\",\"blue\",\"blue\",\"blue\",\"blue\",\"blue\",\"blue\",\"blue\",\"blue\",\"blue\",\"blue\",\"blue\",\"blue\",\"blue\",\"blue\",\"blue\",\"blue\",\"blue\",\"blue\",\"blue\",\"blue\",\"blue\",\"blue\",\"blue\",\"blue\",\"blue\",\"blue\",\"blue\",\"blue\",\"blue\",\"blue\",\"blue\",\"blue\",\"blue\",\"blue\",\"blue\",\"blue\",\"blue\",\"blue\",\"blue\",\"blue\",\"blue\",\"blue\",\"blue\",\"blue\",\"blue\",\"blue\",\"blue\",\"blue\",\"blue\",\"blue\",\"blue\",\"blue\",\"blue\",\"blue\",\"blue\",\"blue\",\"blue\",\"blue\",\"blue\",\"blue\",\"blue\",\"blue\",\"blue\",\"blue\",\"blue\",\"blue\",\"blue\",\"blue\",\"blue\",\"blue\",\"blue\",\"blue\",\"blue\",\"blue\",\"blue\",\"blue\",\"blue\",\"blue\",\"blue\",\"blue\",\"blue\",\"blue\",\"blue\",\"blue\",\"blue\",\"blue\",\"blue\",\"blue\",\"blue\",\"blue\",\"blue\",\"blue\",\"blue\",\"blue\",\"blue\",\"blue\",\"blue\",\"blue\",\"blue\",\"blue\",\"blue\",\"blue\",\"blue\",\"blue\",\"blue\",\"blue\",\"blue\",\"blue\",\"blue\",\"blue\",\"blue\",\"blue\",\"blue\",\"blue\",\"blue\",\"blue\",\"blue\",\"blue\",\"blue\",\"blue\",\"blue\",\"blue\",\"blue\",\"blue\",\"blue\",\"blue\",\"blue\",\"blue\",\"blue\",\"blue\",\"blue\",\"blue\",\"blue\",\"blue\",\"blue\",\"blue\",\"blue\",\"blue\",\"blue\",\"blue\",\"blue\",\"blue\",\"blue\",\"blue\",\"blue\",\"blue\",\"blue\",\"blue\",\"blue\",\"blue\",\"blue\",\"blue\",\"blue\",\"blue\",\"blue\",\"blue\",\"blue\",\"blue\",\"blue\",\"blue\",\"blue\",\"blue\",\"blue\",\"blue\",\"blue\",\"blue\",\"blue\",\"blue\",\"blue\",\"blue\",\"blue\",\"blue\",\"blue\",\"blue\",\"blue\",\"blue\",\"blue\",\"blue\",\"blue\",\"blue\",\"blue\",\"blue\",\"blue\",\"blue\",\"blue\",\"blue\",\"blue\",\"blue\",\"blue\",\"blue\",\"blue\",\"blue\",\"blue\",\"blue\",\"blue\",\"blue\",\"blue\",\"blue\",\"blue\",\"blue\",\"blue\",\"blue\",\"blue\",\"blue\",\"blue\",\"blue\",\"blue\",\"blue\",\"blue\",\"blue\",\"blue\",\"blue\",\"blue\",\"blue\",\"blue\",\"blue\",\"blue\",\"blue\",\"blue\",\"blue\",\"blue\",\"blue\",\"blue\",\"blue\",\"blue\",\"blue\",\"blue\",\"blue\",\"blue\",\"blue\",\"blue\",\"blue\",\"blue\",\"blue\",\"blue\",\"blue\",\"blue\",\"blue\",\"blue\",\"blue\",\"blue\",\"blue\",\"blue\",\"blue\",\"blue\",\"blue\",\"blue\",\"blue\",\"blue\",\"blue\",\"blue\",\"blue\",\"blue\",\"blue\",\"blue\",\"blue\",\"blue\",\"blue\",\"blue\",\"blue\",\"blue\",\"blue\",\"blue\",\"blue\",\"blue\",\"blue\",\"blue\",\"blue\",\"blue\",\"blue\",\"blue\",\"blue\",\"blue\",\"blue\",\"blue\",\"blue\",\"blue\",\"blue\",\"blue\",\"blue\",\"blue\",\"blue\",\"blue\",\"blue\",\"blue\",\"blue\",\"blue\",\"blue\",\"blue\",\"blue\",\"blue\",\"blue\",\"blue\",\"blue\",\"blue\",\"blue\",\"blue\",\"blue\",\"blue\",\"blue\",\"blue\",\"blue\",\"blue\",\"blue\",\"blue\",\"blue\",\"blue\",\"blue\",\"blue\",\"blue\",\"blue\",\"blue\",\"blue\",\"blue\",\"blue\",\"blue\",\"blue\",\"blue\",\"blue\",\"blue\",\"blue\",\"blue\",\"blue\",\"blue\",\"blue\",\"blue\",\"blue\",\"blue\",\"blue\",\"blue\",\"blue\",\"blue\",\"blue\",\"blue\",\"blue\",\"blue\",\"blue\",\"blue\",\"blue\",\"blue\",\"blue\",\"blue\",\"blue\",\"blue\",\"blue\",\"blue\",\"blue\",\"blue\",\"blue\",\"blue\",\"blue\",\"blue\",\"blue\",\"blue\",\"blue\",\"blue\",\"blue\",\"blue\",\"blue\",\"blue\",\"blue\",\"blue\",\"blue\",\"blue\",\"blue\",\"blue\",\"blue\",\"blue\",\"blue\",\"blue\",\"blue\",\"blue\",\"blue\",\"blue\",\"blue\",\"blue\",\"blue\",\"blue\",\"blue\",\"blue\",\"blue\",\"blue\",\"blue\",\"blue\",\"blue\",\"blue\",\"blue\",\"blue\",\"blue\",\"blue\",\"blue\",\"blue\",\"blue\",\"blue\",\"blue\",\"blue\",\"blue\",\"blue\",\"blue\",\"blue\",\"blue\",\"blue\",\"blue\",\"blue\",\"blue\",\"blue\",\"blue\",\"blue\",\"blue\",\"blue\",\"blue\",\"blue\",\"blue\",\"blue\",\"blue\",\"blue\",\"blue\",\"blue\",\"blue\",\"blue\",\"blue\",\"blue\",\"blue\",\"blue\",\"blue\",\"blue\",\"blue\",\"blue\",\"blue\",\"blue\",\"blue\",\"blue\",\"blue\",\"blue\",\"blue\",\"blue\",\"blue\",\"blue\",\"blue\",\"blue\",\"blue\",\"blue\",\"blue\",\"blue\",\"blue\",\"blue\",\"blue\",\"blue\",\"blue\",\"blue\",\"blue\",\"blue\",\"blue\",\"blue\",\"blue\",\"blue\",\"blue\",\"blue\",\"blue\",\"blue\",\"blue\",\"blue\",\"blue\",\"blue\",\"blue\",\"blue\",\"blue\",\"blue\",\"blue\",\"blue\",\"blue\",\"blue\",\"blue\",\"blue\",\"blue\",\"blue\",\"blue\",\"blue\",\"blue\",\"blue\",\"blue\",\"blue\",\"blue\",\"blue\",\"blue\",\"blue\",\"blue\",\"blue\",\"blue\",\"blue\",\"blue\",\"blue\",\"blue\",\"blue\",\"blue\",\"blue\",\"blue\",\"blue\",\"blue\",\"blue\",\"blue\",\"blue\",\"blue\",\"blue\",\"blue\",\"blue\",\"blue\",\"blue\",\"blue\",\"blue\",\"blue\",\"blue\",\"blue\",\"blue\",\"blue\",\"blue\",\"blue\",\"blue\",\"blue\",\"blue\",\"blue\",\"blue\",\"blue\",\"blue\",\"blue\",\"blue\",\"blue\",\"blue\",\"blue\",\"blue\",\"blue\",\"blue\",\"blue\",\"blue\",\"blue\",\"blue\",\"blue\",\"blue\",\"blue\",\"blue\",\"blue\",\"blue\",\"blue\",\"blue\",\"blue\",\"blue\",\"blue\",\"blue\",\"blue\",\"blue\",\"blue\",\"blue\",\"blue\",\"blue\",\"blue\",\"blue\",\"blue\",\"blue\",\"blue\",\"blue\",\"blue\",\"blue\",\"blue\",\"blue\",\"blue\",\"blue\",\"blue\",\"blue\",\"blue\",\"blue\",\"blue\",\"blue\",\"blue\",\"blue\",\"blue\",\"blue\",\"blue\",\"blue\",\"blue\",\"blue\",\"blue\",\"blue\",\"blue\",\"blue\",\"blue\",\"blue\",\"blue\",\"blue\",\"blue\",\"blue\",\"blue\",\"blue\",\"blue\",\"blue\",\"blue\",\"blue\",\"blue\",\"blue\",\"blue\",\"blue\",\"blue\",\"blue\",\"blue\",\"blue\",\"blue\",\"blue\",\"blue\",\"blue\",\"blue\",\"blue\",\"blue\",\"blue\",\"blue\",\"blue\",\"blue\",\"blue\",\"blue\",\"blue\",\"blue\",\"blue\",\"blue\",\"blue\",\"blue\",\"blue\",\"blue\",\"blue\",\"blue\",\"blue\",\"blue\",\"blue\",\"blue\",\"blue\",\"blue\",\"blue\",\"blue\",\"blue\",\"blue\",\"blue\",\"blue\",\"blue\",\"blue\",\"blue\",\"blue\",\"blue\",\"blue\",\"blue\",\"blue\",\"blue\",\"blue\",\"blue\",\"blue\",\"blue\",\"blue\",\"blue\",\"blue\",\"blue\",\"blue\",\"blue\",\"blue\",\"blue\",\"blue\",\"blue\",\"blue\",\"blue\",\"blue\",\"blue\",\"blue\",\"blue\",\"blue\",\"blue\",\"blue\",\"blue\",\"blue\",\"blue\",\"blue\",\"blue\",\"blue\",\"blue\",\"blue\",\"blue\",\"blue\",\"blue\",\"blue\",\"blue\",\"blue\",\"blue\",\"blue\",\"blue\",\"blue\",\"blue\",\"blue\",\"blue\",\"blue\",\"blue\",\"blue\",\"blue\",\"blue\",\"blue\",\"blue\",\"blue\",\"blue\",\"blue\",\"blue\",\"blue\",\"blue\",\"blue\",\"blue\",\"blue\",\"blue\",\"blue\",\"blue\",\"blue\",\"blue\",\"blue\",\"blue\",\"blue\",\"blue\",\"blue\",\"blue\",\"blue\",\"blue\",\"blue\",\"blue\",\"blue\",\"blue\",\"blue\",\"blue\",\"blue\",\"blue\",\"blue\",\"blue\",\"blue\",\"blue\",\"blue\",\"blue\",\"blue\",\"blue\",\"blue\",\"blue\",\"blue\",\"blue\",\"blue\",\"blue\",\"blue\",\"blue\",\"blue\",\"blue\",\"blue\",\"blue\",\"blue\",\"blue\",\"blue\",\"blue\",\"blue\",\"blue\",\"blue\",\"blue\",\"blue\",\"blue\",\"blue\",\"blue\",\"blue\",\"blue\",\"blue\",\"blue\",\"blue\",\"blue\",\"blue\",\"blue\",\"blue\",\"blue\",\"blue\",\"blue\",\"blue\",\"blue\",\"blue\",\"blue\",\"blue\",\"blue\",\"blue\",\"blue\",\"blue\",\"blue\",\"blue\",\"blue\",\"blue\",\"blue\",\"blue\",\"blue\",\"blue\",\"blue\",\"blue\",\"blue\",\"blue\",\"blue\",\"blue\",\"blue\",\"blue\",\"blue\",\"blue\",\"blue\",\"blue\",\"blue\",\"blue\",\"blue\",\"blue\",\"blue\",\"blue\",\"blue\",\"blue\",\"blue\",\"blue\",\"blue\",\"blue\",\"blue\",\"blue\",\"blue\",\"blue\",\"blue\",\"blue\",\"blue\",\"blue\",\"blue\",\"blue\",\"blue\",\"blue\",\"blue\",\"blue\",\"blue\",\"blue\",\"blue\",\"blue\",\"blue\",\"blue\",\"blue\",\"blue\",\"blue\",\"blue\",\"blue\",\"blue\",\"blue\",\"blue\",\"blue\",\"blue\",\"blue\",\"blue\",\"blue\",\"blue\",\"blue\",\"blue\",\"blue\",\"blue\",\"blue\",\"blue\",\"blue\",\"blue\",\"blue\",\"blue\",\"blue\",\"blue\",\"blue\",\"blue\",\"blue\",\"blue\",\"blue\",\"blue\",\"blue\",\"blue\",\"blue\",\"blue\",\"blue\",\"blue\",\"blue\",\"blue\",\"blue\",\"blue\",\"blue\",\"blue\",\"blue\",\"blue\",\"blue\",\"blue\",\"blue\",\"blue\",\"blue\",\"blue\",\"blue\",\"blue\",\"blue\",\"blue\",\"blue\",\"blue\",\"blue\",\"blue\",\"blue\",\"blue\",\"blue\",\"blue\",\"blue\",\"blue\",\"blue\",\"blue\",\"blue\",\"blue\",\"blue\",\"blue\",\"blue\",\"blue\",\"blue\",\"blue\",\"blue\",\"blue\",\"blue\",\"blue\",\"blue\",\"blue\",\"blue\",\"blue\",\"blue\",\"blue\",\"blue\",\"blue\",\"blue\",\"blue\",\"blue\",\"blue\",\"blue\",\"blue\",\"blue\",\"blue\",\"blue\",\"blue\",\"blue\",\"blue\",\"blue\",\"blue\",\"blue\",\"blue\",\"blue\",\"blue\",\"blue\",\"blue\",\"blue\",\"blue\",\"blue\",\"blue\",\"blue\",\"blue\",\"blue\",\"blue\",\"blue\",\"blue\",\"blue\",\"blue\",\"blue\",\"blue\",\"blue\",\"blue\",\"blue\",\"blue\",\"blue\",\"blue\",\"blue\",\"blue\",\"blue\",\"blue\",\"blue\",\"blue\",\"blue\",\"blue\",\"blue\",\"blue\",\"blue\",\"blue\",\"blue\",\"blue\",\"blue\",\"blue\",\"blue\",\"blue\",\"blue\",\"blue\",\"blue\",\"blue\",\"blue\",\"blue\",\"blue\",\"blue\",\"blue\",\"blue\",\"blue\",\"blue\",\"blue\",\"blue\",\"blue\",\"blue\",\"blue\",\"blue\",\"blue\",\"blue\",\"blue\",\"blue\",\"blue\",\"blue\",\"blue\",\"blue\",\"blue\",\"blue\",\"blue\",\"blue\",\"blue\",\"blue\",\"blue\",\"blue\",\"blue\",\"blue\",\"blue\",\"blue\",\"blue\",\"blue\",\"blue\",\"blue\",\"blue\",\"blue\",\"blue\",\"blue\",\"blue\",\"blue\",\"blue\",\"blue\",\"blue\",\"blue\",\"blue\",\"blue\",\"blue\",\"blue\",\"blue\",\"blue\",\"blue\",\"blue\",\"blue\",\"blue\",\"blue\",\"blue\",\"blue\",\"blue\",\"blue\",\"blue\",\"blue\",\"blue\",\"blue\",\"blue\",\"blue\",\"blue\",\"blue\",\"blue\",\"blue\",\"blue\",\"blue\",\"blue\",\"blue\",\"blue\",\"blue\",\"blue\",\"blue\",\"blue\",\"blue\",\"blue\",\"blue\",\"blue\",\"blue\",\"blue\",\"blue\",\"blue\",\"blue\",\"blue\",\"blue\",\"blue\",\"blue\",\"blue\",\"blue\",\"blue\",\"blue\",\"blue\",\"blue\",\"blue\",\"blue\",\"blue\",\"blue\",\"blue\",\"blue\",\"blue\",\"blue\",\"blue\",\"blue\",\"blue\",\"blue\",\"blue\",\"blue\",\"blue\",\"blue\",\"blue\",\"blue\",\"blue\",\"blue\",\"blue\",\"blue\",\"blue\",\"blue\",\"blue\",\"blue\",\"blue\",\"blue\",\"blue\",\"blue\",\"blue\",\"blue\",\"blue\",\"blue\",\"blue\",\"blue\",\"blue\",\"blue\",\"blue\",\"blue\",\"blue\",\"blue\",\"blue\",\"blue\",\"blue\",\"blue\",\"blue\",\"blue\",\"blue\",\"blue\",\"blue\",\"blue\",\"blue\",\"blue\",\"blue\",\"blue\",\"blue\",\"blue\",\"blue\",\"blue\",\"blue\",\"blue\",\"blue\",\"blue\",\"blue\",\"blue\",\"blue\",\"blue\",\"blue\",\"blue\",\"blue\",\"blue\",\"blue\",\"blue\",\"blue\",\"blue\",\"blue\",\"blue\",\"blue\",\"blue\",\"blue\",\"blue\",\"blue\",\"blue\",\"blue\",\"blue\",\"blue\",\"blue\",\"blue\",\"blue\",\"blue\",\"blue\",\"blue\",\"blue\",\"blue\",\"blue\",\"blue\",\"blue\",\"blue\",\"blue\",\"blue\",\"blue\",\"blue\",\"blue\",\"blue\",\"blue\",\"blue\",\"blue\",\"blue\",\"blue\",\"blue\",\"blue\",\"blue\",\"blue\",\"blue\",\"blue\",\"blue\",\"blue\",\"blue\",\"blue\",\"blue\",\"blue\",\"blue\",\"blue\",\"blue\",\"blue\",\"blue\",\"blue\",\"blue\",\"blue\",\"blue\",\"blue\",\"blue\",\"blue\",\"blue\",\"blue\",\"blue\",\"blue\",\"blue\",\"blue\",\"blue\",\"blue\",\"blue\",\"blue\",\"blue\",\"blue\",\"blue\",\"blue\",\"blue\",\"blue\",\"blue\",\"blue\",\"blue\",\"blue\",\"blue\",\"blue\",\"blue\",\"blue\",\"blue\",\"blue\",\"blue\",\"blue\",\"blue\",\"blue\",\"blue\",\"blue\",\"blue\",\"blue\",\"blue\",\"blue\",\"blue\",\"blue\",\"blue\",\"blue\",\"blue\",\"blue\",\"blue\",\"blue\",\"blue\",\"blue\",\"blue\",\"blue\",\"blue\",\"blue\",\"blue\",\"blue\",\"blue\",\"blue\",\"blue\",\"blue\",\"blue\",\"blue\",\"blue\",\"blue\",\"blue\",\"blue\",\"blue\",\"blue\",\"blue\",\"blue\",\"blue\",\"blue\",\"blue\",\"blue\",\"blue\",\"blue\",\"blue\",\"blue\",\"blue\",\"blue\",\"blue\",\"blue\",\"blue\",\"blue\",\"blue\",\"blue\",\"blue\",\"blue\",\"blue\",\"blue\",\"blue\",\"blue\",\"blue\",\"blue\",\"blue\",\"blue\",\"blue\",\"blue\",\"blue\",\"blue\",\"blue\",\"blue\",\"blue\",\"blue\",\"blue\",\"blue\",\"blue\",\"blue\",\"blue\",\"blue\",\"blue\",\"blue\",\"blue\",\"blue\",\"blue\",\"blue\",\"blue\",\"blue\",\"blue\",\"blue\",\"blue\",\"blue\",\"blue\",\"blue\",\"blue\",\"blue\",\"blue\",\"blue\",\"blue\",\"blue\",\"blue\",\"blue\",\"blue\",\"blue\",\"blue\",\"blue\",\"blue\",\"blue\",\"blue\",\"blue\",\"blue\",\"blue\",\"blue\",\"blue\",\"blue\",\"blue\",\"blue\",\"blue\",\"blue\",\"blue\",\"blue\",\"blue\",\"blue\",\"blue\",\"blue\",\"blue\",\"blue\",\"blue\",\"blue\",\"blue\",\"blue\",\"blue\",\"blue\",\"blue\",\"blue\",\"blue\",\"blue\",\"blue\",\"blue\",\"blue\",\"blue\",\"blue\",\"blue\",\"blue\",\"blue\",\"blue\",\"blue\",\"blue\",\"blue\",\"blue\",\"blue\",\"blue\",\"blue\",\"blue\",\"blue\",\"blue\",\"blue\",\"blue\",\"blue\",\"blue\",\"blue\",\"blue\",\"blue\",\"blue\",\"blue\",\"blue\",\"blue\",\"blue\",\"blue\",\"blue\",\"blue\",\"blue\",\"blue\",\"blue\",\"blue\",\"blue\",\"blue\",\"blue\",\"blue\",\"blue\",\"blue\",\"blue\",\"blue\",\"blue\",\"blue\",\"blue\",\"blue\",\"blue\",\"blue\",\"blue\",\"blue\",\"blue\",\"blue\",\"blue\",\"blue\",\"blue\",\"blue\",\"blue\",\"blue\",\"blue\",\"blue\",\"blue\",\"blue\",\"blue\",\"blue\",\"blue\",\"blue\",\"blue\",\"blue\",\"blue\",\"blue\",\"blue\",\"blue\",\"blue\",\"blue\",\"blue\",\"blue\",\"blue\",\"blue\",\"blue\",\"blue\",\"blue\",\"blue\",\"blue\",\"blue\",\"blue\",\"blue\",\"blue\",\"blue\",\"blue\",\"blue\",\"blue\",\"blue\",\"blue\",\"blue\",\"blue\",\"blue\",\"blue\",\"blue\",\"blue\",\"blue\",\"blue\",\"blue\",\"blue\",\"blue\",\"blue\",\"blue\",\"blue\",\"blue\",\"blue\",\"blue\",\"blue\",\"blue\",\"blue\",\"blue\",\"blue\",\"blue\",\"blue\",\"blue\",\"blue\",\"blue\",\"blue\",\"blue\",\"blue\",\"blue\",\"blue\",\"blue\",\"blue\",\"blue\",\"blue\",\"blue\",\"blue\",\"blue\",\"blue\",\"blue\",\"blue\",\"blue\",\"blue\",\"blue\",\"blue\",\"blue\",\"blue\",\"blue\",\"blue\",\"blue\",\"blue\",\"blue\",\"blue\",\"blue\",\"blue\",\"blue\",\"blue\",\"blue\",\"blue\",\"blue\",\"blue\",\"blue\",\"blue\",\"blue\",\"blue\",\"blue\",\"blue\",\"blue\",\"blue\",\"blue\",\"blue\",\"blue\",\"blue\",\"blue\",\"blue\",\"blue\",\"blue\",\"blue\",\"blue\",\"blue\",\"blue\",\"blue\",\"blue\",\"blue\",\"blue\",\"blue\",\"blue\",\"blue\",\"blue\",\"blue\",\"blue\",\"blue\",\"blue\",\"blue\",\"blue\",\"blue\",\"blue\",\"blue\",\"blue\",\"blue\",\"blue\",\"blue\",\"blue\",\"blue\",\"blue\",\"blue\",\"blue\",\"blue\",\"blue\",\"blue\",\"blue\",\"blue\",\"blue\",\"blue\",\"blue\",\"blue\",\"blue\",\"blue\",\"blue\",\"blue\",\"blue\",\"blue\",\"blue\",\"blue\",\"blue\",\"blue\",\"blue\",\"blue\",\"blue\",\"blue\",\"blue\",\"blue\",\"blue\",\"blue\",\"blue\",\"blue\",\"blue\",\"blue\",\"blue\",\"blue\",\"blue\",\"blue\",\"blue\",\"blue\",\"blue\",\"blue\",\"blue\",\"blue\",\"blue\",\"blue\",\"blue\",\"blue\",\"blue\",\"blue\",\"blue\",\"blue\",\"blue\",\"blue\",\"blue\",\"blue\",\"blue\",\"blue\",\"blue\",\"blue\",\"blue\",\"blue\",\"blue\",\"blue\",\"blue\",\"blue\",\"blue\",\"blue\",\"blue\",\"blue\",\"blue\",\"blue\",\"blue\",\"blue\",\"blue\",\"blue\",\"blue\",\"blue\",\"blue\",\"blue\",\"blue\",\"blue\",\"blue\",\"blue\",\"blue\",\"blue\",\"blue\",\"blue\",\"blue\",\"blue\",\"blue\",\"blue\",\"blue\",\"blue\",\"blue\",\"blue\",\"blue\",\"blue\",\"blue\",\"blue\",\"blue\",\"blue\",\"blue\",\"blue\",\"blue\",\"blue\",\"blue\",\"blue\",\"blue\",\"blue\",\"blue\",\"blue\",\"blue\",\"blue\",\"blue\",\"blue\",\"blue\",\"blue\",\"blue\",\"blue\",\"blue\",\"blue\",\"blue\",\"blue\",\"blue\",\"blue\",\"blue\",\"blue\",\"blue\",\"blue\",\"blue\",\"blue\",\"blue\",\"blue\",\"blue\",\"blue\",\"blue\",\"blue\",\"blue\",\"blue\",\"blue\",\"blue\",\"blue\",\"blue\",\"blue\",\"blue\",\"blue\",\"blue\",\"blue\",\"blue\",\"blue\",\"blue\",\"blue\",\"blue\",\"blue\",\"blue\",\"blue\",\"blue\",\"blue\",\"blue\",\"blue\",\"blue\",\"blue\",\"blue\",\"blue\",\"blue\",\"blue\",\"blue\",\"blue\",\"blue\",\"blue\",\"blue\",\"blue\",\"blue\",\"blue\",\"blue\",\"blue\",\"blue\",\"blue\",\"blue\",\"blue\",\"blue\",\"blue\",\"blue\",\"blue\",\"blue\",\"blue\",\"blue\",\"blue\",\"blue\",\"blue\",\"blue\",\"blue\",\"blue\",\"blue\",\"blue\",\"blue\",\"blue\",\"blue\",\"blue\",\"blue\",\"blue\",\"blue\",\"blue\",\"blue\",\"blue\",\"blue\",\"blue\",\"blue\",\"blue\",\"blue\",\"blue\",\"blue\",\"blue\",\"blue\",\"blue\",\"blue\",\"blue\",\"blue\",\"blue\",\"blue\",\"blue\",\"blue\",\"blue\",\"blue\",\"blue\",\"blue\",\"blue\",\"blue\",\"blue\",\"blue\",\"blue\",\"blue\",\"blue\",\"blue\",\"blue\",\"blue\",\"blue\",\"blue\",\"blue\",\"blue\",\"blue\",\"blue\",\"blue\",\"blue\",\"blue\",\"blue\",\"blue\",\"blue\",\"blue\",\"blue\",\"blue\",\"blue\",\"blue\",\"blue\",\"blue\",\"blue\",\"blue\",\"blue\",\"blue\",\"blue\",\"blue\",\"blue\",\"blue\",\"blue\",\"blue\",\"blue\",\"blue\",\"blue\",\"blue\",\"blue\",\"blue\",\"blue\",\"blue\",\"blue\",\"blue\",\"blue\",\"blue\",\"blue\",\"blue\",\"blue\",\"blue\",\"blue\",\"blue\",\"blue\",\"blue\",\"blue\",\"blue\",\"blue\",\"blue\",\"blue\",\"blue\",\"blue\",\"blue\",\"blue\",\"blue\",\"blue\",\"blue\",\"blue\",\"blue\",\"blue\",\"blue\",\"blue\",\"blue\",\"blue\",\"blue\",\"blue\",\"blue\",\"blue\",\"blue\",\"blue\",\"blue\",\"blue\",\"blue\",\"blue\",\"blue\",\"blue\",\"blue\",\"blue\",\"blue\",\"blue\",\"blue\",\"blue\",\"blue\",\"blue\",\"blue\",\"blue\",\"blue\",\"blue\",\"blue\",\"blue\",\"blue\",\"blue\",\"blue\",\"blue\",\"blue\",\"blue\",\"blue\",\"blue\",\"blue\",\"blue\",\"blue\",\"blue\",\"blue\",\"blue\",\"blue\",\"blue\",\"blue\",\"blue\",\"blue\",\"blue\",\"blue\",\"blue\",\"blue\",\"blue\",\"blue\",\"blue\",\"blue\",\"blue\",\"blue\",\"blue\",\"blue\",\"blue\",\"blue\",\"blue\",\"blue\",\"blue\",\"blue\",\"blue\",\"blue\",\"blue\",\"blue\",\"blue\",\"blue\",\"blue\",\"blue\",\"blue\",\"blue\",\"blue\",\"blue\",\"blue\",\"blue\",\"blue\",\"blue\",\"blue\",\"blue\",\"blue\",\"blue\",\"blue\",\"blue\",\"blue\",\"blue\",\"blue\",\"blue\",\"blue\",\"blue\",\"blue\",\"blue\",\"blue\",\"blue\",\"blue\",\"blue\",\"blue\",\"blue\",\"blue\",\"blue\",\"blue\",\"blue\",\"blue\",\"blue\",\"blue\",\"blue\",\"blue\",\"blue\",\"blue\",\"blue\",\"blue\",\"blue\",\"blue\",\"blue\",\"blue\",\"blue\",\"blue\",\"blue\",\"blue\",\"blue\",\"blue\",\"blue\",\"blue\",\"blue\",\"blue\",\"blue\",\"blue\",\"blue\",\"blue\",\"blue\",\"blue\",\"blue\",\"blue\",\"blue\",\"blue\",\"blue\",\"blue\",\"blue\",\"blue\",\"blue\",\"blue\",\"blue\",\"blue\",\"blue\",\"blue\",\"blue\",\"blue\",\"blue\",\"blue\",\"blue\",\"blue\",\"blue\",\"blue\",\"blue\",\"blue\",\"blue\",\"blue\",\"blue\",\"blue\",\"blue\",\"blue\",\"blue\",\"blue\",\"blue\",\"blue\",\"blue\",\"blue\",\"blue\",\"blue\",\"blue\",\"blue\",\"blue\",\"blue\",\"blue\",\"blue\",\"blue\",\"blue\",\"blue\",\"blue\",\"blue\",\"blue\",\"blue\",\"blue\",\"blue\",\"blue\",\"blue\",\"blue\",\"blue\",\"blue\",\"blue\",\"blue\",\"blue\",\"blue\",\"blue\",\"blue\",\"blue\",\"blue\",\"blue\",\"blue\",\"blue\",\"blue\",\"blue\",\"blue\",\"blue\",\"blue\",\"blue\",\"blue\",\"blue\",\"blue\",\"blue\",\"blue\",\"blue\",\"blue\",\"blue\",\"blue\",\"blue\",\"blue\",\"blue\",\"blue\",\"blue\",\"blue\",\"blue\",\"blue\",\"blue\",\"blue\",\"blue\",\"blue\",\"blue\",\"blue\",\"blue\",\"blue\",\"blue\",\"blue\",\"blue\",\"blue\",\"blue\",\"blue\",\"blue\",\"blue\",\"blue\",\"blue\",\"blue\",\"blue\",\"blue\",\"blue\",\"blue\",\"blue\",\"blue\",\"blue\",\"blue\",\"blue\",\"blue\",\"blue\",\"blue\",\"blue\",\"blue\",\"blue\",\"blue\",\"blue\",\"blue\",\"blue\",\"blue\",\"blue\",\"blue\",\"blue\",\"blue\",\"blue\",\"blue\",\"blue\",\"blue\",\"blue\",\"blue\",\"blue\",\"blue\",\"blue\",\"blue\",\"blue\",\"blue\",\"blue\",\"blue\",\"blue\",\"blue\",\"blue\",\"blue\",\"blue\",\"blue\",\"blue\",\"blue\",\"blue\",\"blue\",\"blue\",\"blue\",\"blue\",\"blue\",\"blue\",\"blue\",\"blue\",\"blue\",\"blue\",\"blue\",\"blue\",\"blue\",\"blue\",\"blue\",\"blue\",\"blue\",\"blue\",\"blue\",\"blue\",\"blue\",\"blue\",\"blue\",\"blue\",\"blue\",\"blue\",\"blue\",\"blue\",\"blue\",\"blue\",\"blue\",\"blue\",\"blue\",\"blue\",\"blue\",\"blue\",\"blue\",\"blue\",\"blue\",\"blue\",\"blue\",\"blue\",\"blue\",\"blue\",\"blue\",\"blue\",\"blue\",\"blue\",\"blue\",\"blue\",\"blue\",\"blue\",\"blue\",\"blue\",\"blue\",\"blue\",\"blue\",\"blue\",\"blue\",\"blue\",\"blue\",\"blue\",\"blue\",\"blue\",\"blue\",\"blue\",\"blue\",\"blue\",\"blue\",\"blue\",\"blue\",\"blue\",\"blue\",\"blue\",\"blue\",\"blue\",\"blue\",\"blue\",\"blue\",\"blue\",\"blue\",\"blue\",\"blue\",\"blue\",\"blue\",\"blue\",\"blue\",\"blue\",\"blue\",\"blue\",\"blue\",\"blue\",\"blue\",\"blue\",\"blue\",\"blue\",\"blue\",\"blue\",\"blue\",\"blue\",\"blue\",\"blue\",\"blue\",\"blue\",\"blue\",\"blue\",\"blue\",\"blue\",\"blue\",\"blue\",\"blue\",\"blue\",\"blue\",\"blue\",\"blue\",\"blue\",\"blue\",\"blue\",\"blue\",\"blue\",\"blue\",\"blue\",\"blue\",\"blue\",\"blue\",\"blue\",\"blue\",\"blue\",\"blue\",\"blue\",\"blue\",\"blue\",\"blue\",\"blue\",\"blue\",\"blue\",\"blue\",\"blue\",\"blue\",\"blue\",\"blue\",\"blue\",\"blue\",\"blue\",\"blue\",\"blue\",\"blue\",\"blue\",\"blue\",\"blue\",\"blue\",\"blue\",\"blue\",\"blue\",\"blue\",\"blue\",\"blue\",\"blue\",\"blue\",\"blue\",\"blue\",\"blue\",\"blue\",\"blue\",\"blue\",\"blue\",\"blue\",\"blue\",\"blue\",\"blue\",\"blue\",\"blue\",\"blue\",\"blue\",\"blue\",\"blue\",\"blue\",\"blue\",\"blue\",\"blue\",\"blue\",\"blue\",\"blue\",\"blue\",\"blue\",\"blue\",\"blue\",\"blue\",\"blue\",\"blue\",\"blue\",\"blue\",\"blue\",\"blue\",\"blue\",\"blue\",\"blue\",\"blue\",\"blue\",\"blue\",\"blue\",\"blue\",\"blue\",\"blue\",\"blue\",\"blue\",\"blue\",\"blue\",\"blue\",\"blue\",\"blue\",\"blue\",\"blue\",\"blue\",\"blue\",\"blue\",\"blue\",\"blue\",\"blue\",\"blue\",\"blue\",\"blue\",\"blue\",\"blue\",\"blue\",\"blue\",\"blue\",\"blue\",\"blue\",\"blue\",\"blue\",\"blue\",\"blue\",\"blue\",\"blue\",\"blue\",\"blue\",\"blue\",\"blue\",\"blue\",\"blue\",\"blue\",\"blue\",\"blue\",\"blue\",\"blue\",\"blue\",\"blue\",\"blue\",\"blue\",\"blue\",\"blue\",\"blue\",\"blue\",\"blue\",\"blue\",\"blue\",\"blue\",\"blue\",\"blue\",\"blue\",\"blue\",\"blue\",\"blue\",\"blue\",\"blue\",\"blue\",\"blue\",\"blue\",\"blue\",\"blue\",\"blue\",\"blue\",\"blue\",\"blue\",\"blue\",\"blue\",\"blue\",\"blue\",\"blue\",\"blue\",\"blue\",\"blue\",\"blue\",\"blue\",\"blue\",\"blue\",\"blue\",\"blue\",\"blue\",\"blue\",\"blue\",\"blue\",\"blue\",\"blue\",\"blue\",\"blue\",\"blue\",\"blue\",\"blue\",\"blue\",\"blue\",\"blue\",\"blue\",\"blue\",\"blue\",\"blue\",\"blue\",\"blue\",\"blue\",\"blue\",\"blue\",\"blue\",\"blue\",\"blue\",\"blue\",\"blue\",\"blue\",\"blue\",\"blue\",\"blue\",\"blue\",\"blue\",\"blue\",\"blue\",\"blue\",\"blue\",\"blue\",\"blue\",\"blue\",\"blue\",\"blue\",\"blue\",\"blue\",\"blue\",\"blue\",\"blue\",\"blue\",\"blue\",\"blue\",\"blue\",\"blue\",\"blue\",\"blue\",\"blue\",\"blue\",\"blue\",\"blue\",\"blue\",\"blue\",\"blue\",\"blue\",\"blue\",\"blue\",\"blue\",\"blue\",\"blue\",\"blue\",\"blue\",\"blue\",\"blue\",\"blue\",\"blue\",\"blue\",\"blue\",\"blue\",\"blue\",\"blue\",\"blue\",\"blue\",\"blue\",\"blue\",\"blue\",\"blue\",\"blue\",\"blue\",\"blue\",\"blue\",\"blue\",\"blue\",\"blue\",\"blue\",\"blue\",\"blue\",\"blue\",\"blue\",\"blue\",\"blue\",\"blue\",\"blue\",\"blue\",\"blue\",\"blue\",\"blue\",\"blue\",\"blue\",\"blue\",\"blue\",\"blue\",\"blue\",\"blue\",\"blue\",\"blue\",\"blue\",\"blue\",\"blue\",\"blue\",\"blue\",\"blue\",\"blue\",\"blue\",\"blue\",\"blue\",\"blue\",\"blue\",\"blue\",\"blue\",\"blue\",\"blue\",\"blue\",\"blue\",\"blue\",\"blue\",\"blue\",\"blue\",\"blue\",\"blue\",\"blue\",\"blue\",\"blue\",\"blue\",\"blue\",\"blue\",\"blue\",\"blue\",\"blue\",\"blue\",\"blue\",\"blue\",\"blue\",\"blue\",\"blue\",\"blue\",\"blue\",\"blue\",\"blue\",\"blue\",\"blue\",\"blue\",\"blue\",\"blue\",\"blue\",\"blue\",\"blue\",\"blue\",\"blue\",\"blue\",\"blue\",\"blue\",\"blue\",\"blue\",\"blue\",\"blue\",\"blue\",\"blue\",\"blue\",\"blue\",\"blue\",\"blue\",\"blue\",\"blue\",\"blue\",\"blue\",\"blue\",\"blue\",\"blue\",\"blue\",\"blue\",\"blue\",\"blue\",\"blue\",\"blue\",\"blue\",\"blue\",\"blue\",\"blue\",\"blue\",\"blue\",\"blue\",\"blue\",\"blue\",\"blue\",\"blue\",\"blue\",\"blue\",\"blue\",\"blue\",\"blue\",\"blue\",\"blue\",\"blue\",\"blue\",\"blue\",\"blue\",\"blue\",\"blue\",\"blue\",\"blue\",\"blue\",\"blue\",\"blue\",\"blue\",\"blue\",\"blue\",\"blue\",\"blue\",\"blue\",\"blue\",\"blue\",\"blue\",\"blue\",\"blue\",\"blue\",\"blue\",\"blue\",\"blue\",\"blue\",\"blue\",\"blue\",\"blue\",\"blue\",\"blue\",\"blue\",\"blue\",\"blue\",\"blue\",\"blue\",\"blue\",\"blue\",\"blue\",\"blue\",\"blue\",\"blue\",\"blue\",\"blue\",\"blue\",\"blue\",\"blue\",\"blue\",\"blue\",\"blue\",\"blue\",\"blue\",\"blue\",\"blue\",\"blue\",\"blue\",\"blue\",\"blue\",\"blue\",\"blue\",\"blue\",\"blue\",\"blue\",\"blue\",\"blue\",\"blue\",\"blue\",\"blue\",\"blue\",\"blue\",\"blue\",\"blue\",\"blue\",\"blue\",\"blue\",\"blue\",\"blue\",\"blue\",\"blue\",\"blue\",\"blue\",\"blue\",\"blue\",\"blue\",\"blue\",\"blue\",\"blue\",\"blue\",\"blue\",\"blue\",\"blue\",\"blue\",\"blue\",\"blue\",\"blue\",\"blue\",\"blue\",\"blue\",\"blue\",\"blue\",\"blue\",\"blue\",\"blue\",\"blue\",\"blue\",\"blue\",\"blue\",\"blue\",\"blue\",\"blue\",\"blue\",\"blue\",\"blue\",\"blue\",\"blue\",\"blue\",\"blue\",\"blue\",\"blue\",\"blue\",\"blue\",\"blue\",\"blue\",\"blue\",\"blue\",\"blue\",\"blue\",\"blue\",\"blue\",\"blue\",\"blue\",\"blue\",\"blue\",\"blue\",\"blue\",\"blue\",\"blue\",\"blue\",\"blue\",\"blue\",\"blue\",\"blue\",\"blue\",\"blue\",\"blue\",\"blue\",\"blue\",\"blue\",\"blue\",\"blue\",\"blue\",\"blue\",\"blue\"]],[\"token\",[\"verified\",\"2gb\",\"illinois\",\"jazz\",\"checking\",\"telescope\",\"seasons\",\"astrologer\",\"contribution\",\"homemade\",\"heroes\",\"warcraft\",\"kumar\",\"tester\",\"politically\",\"conquer\",\"columbia\",\"quiet\",\"repeat\",\"kapil\",\"involve\",\"mckinsey\",\"switched\",\"att\",\"instance\",\"innocent\",\"portuguese\",\"subscribers\",\"cabinet\",\"terror\",\"85\",\"rotation\",\"shirts\",\"drawn\",\"bi\",\"aspergers\",\"inspiration\",\"beats\",\"\\u00a3\",\"approximately\",\"asset\",\"empathy\",\"rooting\",\"ia\",\"dandruff\",\"slab\",\"operator\",\"horrible\",\"dominant\",\"ocd\",\"spacetime\",\"blow\",\"installing\",\"learnt\",\"separation\",\"institution\",\"temples\",\"hons\",\"pound\",\"removing\",\"unemployment\",\"greenlit\",\"audit\",\"supplement\",\"roller\",\"dota\",\"tiny\",\"equally\",\"braces\",\"aggressive\",\"corn\",\"camps\",\"additional\",\"consent\",\"granted\",\"welfare\",\"myths\",\"stations\",\"timeline\",\"psychologist\",\"nagpur\",\"herself\",\"cooper\",\"exgirlfriend\",\"intercourse\",\"flip\",\"hurts\",\"lpa\",\"nerve\",\"tvs\",\"halloween\",\"screenshot\",\"biomedical\",\"covered\",\"milky\",\"onsite\",\"aside\",\"meaningful\",\"stretch\",\"joker\",\"encounter\",\"tone\",\"founders\",\"talked\",\"respectively\",\"downloads\",\"cocaine\",\"toxic\",\"sword\",\"fuck\",\"trainer\",\"partition\",\"boxing\",\"grid\",\"practicing\",\"menu\",\"cms\",\"indore\",\"ate\",\"volunteer\",\"misconceptions\",\"pics\",\"flies\",\"instantly\",\"trans\",\"friday\",\"sociopaths\",\"ctc\",\"hoax\",\"detailed\",\"sizes\",\"rejection\",\"limitations\",\"bharat\",\"kissing\",\"renewable\",\"oriented\",\"countrys\",\"dumps\",\"spiders\",\"technological\",\"advertisement\",\"headache\",\"zodiac\",\"accommodation\",\"venus\",\"calcium\",\"passenger\",\"falls\",\"overnight\",\"pickup\",\"gary\",\"transportation\",\"odds\",\"jupiter\",\"purchasing\",\"fluently\",\"flu\",\"photons\",\"conductor\",\"ohio\",\"balaji\",\"mcdonalds\",\"betting\",\"irrational\",\"sachin\",\"deactivate\",\"estimate\",\"hairs\",\"fluent\",\"errors\",\"remaining\",\"marriages\",\"medieval\",\"charles\",\"spider\",\"oxford\",\"gita\",\"races\",\"liquor\",\"poland\",\"lease\",\"co2\",\"selenium\",\"attempts\",\"crystal\",\"manaphy\",\"knight\",\"collapsed\",\"wheels\",\"behaviour\",\"bitcoins\",\"parliament\",\"himher\",\"handsome\",\"thousands\",\"caring\",\"kings\",\"lucky\",\"workplace\",\"condom\",\"intuitive\",\"chronic\",\"eyesight\",\"simulation\",\"prank\",\"quickest\",\"concert\",\"popularity\",\"connections\",\"disorders\",\"scripting\",\"appearance\",\"js\",\"depth\",\"cheque\",\"longterm\",\"documentaries\",\"dioxide\",\"bright\",\"info\",\"diseases\",\"appeal\",\"snap\",\"smoked\",\"singers\",\"boil\",\"probably\",\"temperatures\",\"appearing\",\"olive\",\"ntse\",\"telecom\",\"brief\",\"discrimination\",\"ethnic\",\"cache\",\"passionate\",\"shoulder\",\"assault\",\"marshmallow\",\"momentum\",\"yr\",\"migrate\",\"retire\",\"cet\",\"canvas\",\"vietnamese\",\"institutions\",\"meter\",\"roots\",\"integer\",\"imported\",\"ants\",\"lyft\",\"piercing\",\"il\",\"poop\",\"organisms\",\"ve\",\"entropy\",\"calm\",\"saddest\",\"toward\",\"myth\",\"sight\",\"filling\",\"hdmi\",\"satisfied\",\"transactions\",\"pharmacy\",\"nursing\",\"correlation\",\"regression\",\"awake\",\"md\",\"nri\",\"recommendations\",\"bin\",\"finland\",\"multi\",\"voted\",\"discovery\",\"edward\",\"touching\",\"immigrant\",\"geometry\",\"indicate\",\"ourselves\",\"texting\",\"seek\",\"expecting\",\"dj\",\"brake\",\"helicopter\",\"blonde\",\"triple\",\"ladies\",\"vivekananda\",\"switching\",\"prostitution\",\"banana\",\"magazines\",\"shippuden\",\"lucknow\",\"2019\",\"failing\",\"elizabeth\",\"irish\",\"ebook\",\"temporary\",\"governor\",\"wasting\",\"weekends\",\"cpt\",\"wax\",\"labor\",\"instruments\",\"instrumentation\",\"hates\",\"hip\",\"arnab\",\"bubble\",\"employers\",\"aadhaar\",\"boyfriends\",\"jake\",\"explained\",\"yesterday\",\"beta\",\"extrovert\",\"andhra\",\"micromax\",\"vertical\",\"lay\",\"nonprofit\",\"dubbed\",\"typing\",\"automotive\",\"thomas\",\"procedures\",\"priority\",\"funded\",\"arabs\",\"siblings\",\"guinea\",\"missile\",\"luck\",\"strategic\",\"defend\",\"module\",\"tuition\",\"acids\",\"controller\",\"committee\",\"housing\",\"integral\",\"peaceful\",\"refugees\",\"prescription\",\"interns\",\"supported\",\"womans\",\"dentist\",\"wives\",\"village\",\"affecting\",\"lte\",\"beaches\",\"austin\",\"substance\",\"engagement\",\"trainee\",\"measures\",\"trailer\",\"purchased\",\"15000\",\"uttar\",\"glue\",\"dtu\",\"medal\",\"photon\",\"engg\",\"violin\",\"column\",\"somehow\",\"rotate\",\"3000\",\"virat\",\"forgotten\",\"fingers\",\"slim\",\"arrest\",\"covalent\",\"ncert\",\"kernel\",\"da\",\"alarm\",\"ngo\",\"4gb\",\"productivity\",\"planned\",\"district\",\"berlin\",\"lists\",\"leads\",\"slang\",\"defence\",\"aspiring\",\"56\",\"enemy\",\"farming\",\"muller\",\"pays\",\"liver\",\"membrane\",\"secretly\",\"plug\",\"gum\",\"eclipse\",\"chewing\",\"labs\",\"zombie\",\"authority\",\"males\",\"argentina\",\"tasks\",\"fell\",\"nails\",\"palestine\",\"tanks\",\"identical\",\"deck\",\"qualification\",\"leadership\",\"kohli\",\"pronunciation\",\"hello\",\"violent\",\"sabha\",\"respiration\",\"transform\",\"warranty\",\"faculty\",\"adolf\",\"expenses\",\"jersey\",\"mercury\",\"whiskey\",\"tackle\",\"tweet\",\"blame\",\"cruise\",\"mahindra\",\"discharge\",\"reduced\",\"vodka\",\"mahatma\",\"bass\",\"compete\",\"stains\",\"pill\",\"swim\",\"ali\",\"gf\",\"ford\",\"prince\",\"sweat\",\"performing\",\"limits\",\"leonardo\",\"cow\",\"resolve\",\"matters\",\"pharmaceutical\",\"ray\",\"remotely\",\"pf\",\"clinical\",\"bpo\",\"homeless\",\"husbands\",\"rising\",\"newtons\",\"outcome\",\"derivative\",\"alpha\",\"grown\",\"capitalism\",\"astronaut\",\"hybrid\",\"palm\",\"teens\",\"hits\",\"airplanes\",\"none\",\"admin\",\"applicable\",\"amcat\",\"spam\",\"neutrality\",\"pixel\",\"festival\",\"faces\",\"molar\",\"snakes\",\"sip\",\"kik\",\"farm\",\"ltd\",\"votes\",\"publishing\",\"comfort\",\"frontend\",\"spin\",\"diagnosed\",\"buildings\",\"\\u00b0\",\"cashless\",\"addictive\",\"extinct\",\"ugc\",\"coke\",\"llb\",\"phrases\",\"struggle\",\"drives\",\"fiber\",\"grocery\",\"achieved\",\"penny\",\"bath\",\"allies\",\"uninstall\",\"ny\",\"appears\",\"effort\",\"satellites\",\"confirmed\",\"loneliness\",\"illuminati\",\"uri\",\"lucid\",\"preferably\",\"neither\",\"\\u221a\",\"pacific\",\"americas\",\"bs\",\"graduated\",\"bills\",\"tube\",\"germans\",\"assume\",\"cleared\",\"mate\",\"divide\",\"versions\",\"fallen\",\"journey\",\"anthem\",\"certificates\",\"looked\",\"sponsor\",\"useless\",\"dependent\",\"invite\",\"guru\",\"keyword\",\"aipmt\",\"clone\",\"kgs\",\"chip\",\"origins\",\"wide\",\"motivational\",\"elite\",\"wanna\",\"unity\",\"cough\",\"connecting\",\"mystery\",\"kim\",\"syrian\",\"voldemort\",\"responsibilities\",\"molecules\",\"boobs\",\"holidays\",\"tutorial\",\"circumstances\",\"fiitjee\",\"islands\",\"bypass\",\"slowly\",\"mixture\",\"aluminum\",\"salesforce\",\"twin\",\"iot\",\"remedy\",\"sheets\",\"pole\",\"hated\",\"females\",\"protected\",\"irs\",\"insecure\",\"entering\",\"neuroscience\",\"offices\",\"delta\",\"suggestion\",\"snapdeal\",\"backstory\",\"periodic\",\"cancelled\",\"mans\",\"complicated\",\"bitsat\",\"pleasure\",\"loop\",\"dropbox\",\"selfish\",\"nude\",\"20000\",\"voter\",\"variables\",\"victory\",\"closest\",\"compensation\",\"extended\",\"locations\",\"cracked\",\"perks\",\"ended\",\"exit\",\"awareness\",\"pakistanis\",\"ebooks\",\"bull\",\"unblock\",\"100000\",\"entrepreneurship\",\"infrastructure\",\"scotland\",\"guest\",\"attacked\",\"hurting\",\"lion\",\"reject\",\"purposes\",\"knife\",\"thai\",\"ipl\",\"knee\",\"accepting\",\"spent\",\"punjabi\",\"tab\",\"quoras\",\"caffeine\",\"athletes\",\"ink\",\"cooked\",\"improving\",\"invaded\",\"allah\",\"thermodynamics\",\"mortgage\",\"firsttime\",\"achievements\",\"issued\",\"breath\",\"award\",\"llc\",\"legends\",\"mood\",\"influenced\",\"proteins\",\"holy\",\"performed\",\"pee\",\"blocks\",\"molecule\",\"interests\",\"imei\",\"requires\",\"cisco\",\"moves\",\"marrying\",\"mca\",\"perfectly\",\"iisc\",\"corporation\",\"shiva\",\"viruses\",\"difficulty\",\"50000\",\"volte\",\"shampoo\",\"secular\",\"transplant\",\"ghz\",\"ahead\",\"crew\",\"interact\",\"depend\",\"hawaii\",\"hiv\",\"evening\",\"vegetable\",\"revenge\",\"suppose\",\"busy\",\"label\",\"rogue\",\"rational\",\"hillstation\",\"brains\",\"urdu\",\"imagine\",\"salaries\",\"survey\",\"g4\",\"butt\",\"manufacturers\",\"saas\",\"residency\",\"recommendation\",\"purple\",\"fault\",\"aadhar\",\"aging\",\"bhopal\",\"conducted\",\"loses\",\"infection\",\"forest\",\"impacts\",\"collection\",\"fridge\",\"diamond\",\"mis\",\"recorded\",\"march\",\"conditioner\",\"signature\",\"listed\",\"branches\",\"manchester\",\"wanting\",\"perception\",\"absolutely\",\"servers\",\"soluble\",\"swami\",\"lumia\",\"directors\",\"52\",\"2008\",\"gaining\",\"stereotypes\",\"homes\",\"vegas\",\"jam\",\"behave\",\"relatively\",\"forum\",\"ib\",\"earphones\",\"facilities\",\"april\",\"finally\",\"tail\",\"capacitor\",\"tiger\",\"deaf\",\"deliver\",\"django\",\"expand\",\"skip\",\"nearly\",\"maybe\",\"task\",\"gateway\",\"strangest\",\"abstract\",\"adding\",\"suck\",\"tim\",\"printed\",\"sigma\",\"immigrate\",\"decline\",\"arrested\",\"95\",\"narcissistic\",\"freelancing\",\"patterns\",\"expired\",\"casual\",\"tablets\",\"patients\",\"lean\",\"pieces\",\"laymans\",\"whatever\",\"polish\",\"lemon\",\"abortion\",\"i3\",\"theorem\",\"h\",\"compulsory\",\"helped\",\"sons\",\"feminism\",\"compiler\",\"tested\",\"enhance\",\"adhd\",\"manhattan\",\"iii\",\"nail\",\"eee\",\"deals\",\"excellent\",\"ipo\",\"folder\",\"sand\",\"continuous\",\"capable\",\"libraries\",\"aggregate\",\"64\",\"bsnl\",\"profiles\",\"spirit\",\"pulled\",\"owns\",\"deloitte\",\"therapist\",\"acts\",\"millions\",\"authors\",\"marathi\",\"dvd\",\"coconut\",\"swiss\",\"interaction\",\"ncr\",\"kannada\",\"smallest\",\"advisable\",\"smartest\",\"sorry\",\"normally\",\"ends\",\"rome\",\"spectrum\",\"cousin\",\"75\",\"suzuki\",\"nights\",\"cap\",\"enable\",\"counselling\",\"proxy\",\"margin\",\"shops\",\"hackers\",\"tatkal\",\"opened\",\"cinema\",\"consumption\",\"coal\",\"silent\",\"choosing\",\"introduction\",\"electromagnetic\",\"hcl\",\"complaint\",\"puppies\",\"vc\",\"symbols\",\"lenses\",\"username\",\"arrow\",\"adopted\",\"affects\",\"sudden\",\"pcm\",\"gel\",\"affair\",\"pinterest\",\"statements\",\"supplements\",\"justified\",\"turns\",\"santa\",\"shoe\",\"trek\",\"headphone\",\"girlfriends\",\"verizon\",\"rocket\",\"conference\",\"ego\",\"srm\",\"afghanistan\",\"nucleus\",\"generated\",\"chinas\",\"ww1\",\"consultancy\",\"socially\",\"allen\",\"berkeley\",\"missed\",\"crying\",\"introduced\",\"ps3\",\"flour\",\"brought\",\"elder\",\"minecraft\",\"9th\",\"freelancer\",\"circles\",\"scars\",\"entertainment\",\"turbine\",\"deeply\",\"rom\",\"evolved\",\"nato\",\"strengths\",\"ide\",\"tweets\",\"scholarships\",\"mentor\",\"collect\",\"hdfc\",\"mandarin\",\"solo\",\"terrible\",\"influential\",\"professionals\",\"65\",\"recognition\",\"nvidia\",\"cia\",\"designs\",\"10k\",\"creation\",\"tom\",\"rated\",\"introverts\",\"boiling\",\"communism\",\"treaty\",\"whereas\",\"thanks\",\"cigarette\",\"bengaluru\",\"oneplus\",\"reserve\",\"advertise\",\"nits\",\"helping\",\"bruce\",\"mp3\",\"severe\",\"proposal\",\"cultures\",\"tap\",\"animated\",\"planes\",\"hall\",\"cognitive\",\"supports\",\"keys\",\"gotten\",\"feedback\",\"recording\",\"proceed\",\"membership\",\"console\",\"overseas\",\"hows\",\"william\",\"billionaires\",\"updated\",\"pre\",\"organizations\",\"messi\",\"unexpected\",\"nitrogen\",\"hungry\",\"nigeria\",\"sync\",\"arduino\",\"gross\",\"outer\",\"searching\",\"workers\",\"outlook\",\"europeans\",\"founder\",\"lectures\",\"legitimate\",\"camp\",\"ordinary\",\"investments\",\"bone\",\"raising\",\"quite\",\"ages\",\"joint\",\"johnson\",\"destination\",\"concerned\",\"belief\",\"refrigerator\",\"implications\",\"manga\",\"mandatory\",\"obamas\",\"lawyers\",\"bedroom\",\"icon\",\"qualifications\",\"qa\",\"bikes\",\"boston\",\"holding\",\"session\",\"appointment\",\"weaknesses\",\"iphones\",\"motorcycle\",\"schizophrenia\",\"5th\",\"intellectual\",\"eaten\",\"attending\",\"medals\",\"adsense\",\"nda\",\"6th\",\"kali\",\"georgia\",\"wechat\",\"earlier\",\"drone\",\"truck\",\"horse\",\"merchant\",\"torque\",\"seed\",\"backend\",\"holmes\",\"graduating\",\"400\",\"bones\",\"sufficient\",\"participate\",\"rifle\",\"shock\",\"downloaded\",\"earthquake\",\"breasts\",\"secretary\",\"insert\",\"damaged\",\"massive\",\"standing\",\"remainder\",\"programme\",\"holocaust\",\"totally\",\"belt\",\"affairs\",\"nokia\",\"mechanism\",\"pin\",\"scan\",\"fought\",\"superpower\",\"poetry\",\"signals\",\"educated\",\"scariest\",\"trains\",\"closer\",\"weapon\",\"icici\",\"serial\",\"bicycle\",\"terminal\",\"finished\",\"stolen\",\"inspiring\",\"cuisine\",\"spark\",\"sounds\",\"pricing\",\"click\",\"underwear\",\"kidney\",\"bengal\",\"invention\",\"discount\",\"chase\",\"evaluate\",\"distributed\",\"themes\",\"amd\",\"stem\",\"st\",\"genre\",\"vegetables\",\"council\",\"bihar\",\"thick\",\"mouse\",\"worry\",\"newly\",\"updates\",\"candy\",\"prepaid\",\"wet\",\"rap\",\"motors\",\"implemented\",\"theoretical\",\"fabric\",\"mexican\",\"portfolio\",\"technique\",\"icse\",\"expansion\",\"evolutionary\",\"justify\",\"trick\",\"attached\",\"lightning\",\"pitch\",\"armed\",\"einstein\",\"conversion\",\"iitjee\",\"declared\",\"admit\",\"acquisition\",\"innovation\",\"runs\",\"wwe\",\"trial\",\"memories\",\"refuse\",\"netherlands\",\"committed\",\"fraud\",\"jailbreak\",\"settle\",\"badly\",\"approved\",\"eligibility\",\"trend\",\"increases\",\"comic\",\"quorans\",\"cellular\",\"matches\",\"receiving\",\"bmw\",\"vlsi\",\"signed\",\"lakes\",\"350\",\"communications\",\"pork\",\"joined\",\"anyway\",\"differentiate\",\"actresses\",\"29\",\"ethics\",\"premier\",\"hearing\",\"vehicles\",\"drama\",\"instant\",\"lips\",\"dates\",\"july\",\"holiday\",\"coach\",\"malayalam\",\"superior\",\"soviet\",\"plate\",\"throw\",\"worship\",\"bars\",\"sharma\",\"mothers\",\"integrated\",\"clubs\",\"bug\",\"melbourne\",\"co\",\"bisexual\",\"regions\",\"lesson\",\"heads\",\"reader\",\"snake\",\"qualify\",\"paul\",\"causing\",\"disappear\",\"era\",\"lets\",\"qualified\",\"spiritual\",\"wolf\",\"requirement\",\"journalism\",\"studied\",\"lowest\",\"vader\",\"coursera\",\"stark\",\"configuration\",\"verbal\",\"undergrad\",\"dimensions\",\"transition\",\"efficiently\",\"interstellar\",\"locked\",\"summary\",\"chandigarh\",\"ghosts\",\"included\",\"operate\",\"dimension\",\"mount\",\"noticed\",\"rating\",\"somewhere\",\"martin\",\"bra\",\"bird\",\"zuckerberg\",\"sensor\",\"audience\",\"dirty\",\"starbucks\",\"permission\",\"residential\",\"wholesale\",\"assets\",\"clearly\",\"km\",\"invade\",\"ipcc\",\"fb\",\"shell\",\"shave\",\"loud\",\"tip\",\"seeds\",\"sets\",\"polar\",\"although\",\"june\",\"judaism\",\"anti\",\"instrument\",\"seven\",\"shooting\",\"j\",\"portal\",\"tower\",\"github\",\"linked\",\"admitted\",\"punishment\",\"mid\",\"micro\",\"cured\",\"lifestyle\",\"nor\",\"upset\",\"challenge\",\"soap\",\"standards\",\"integration\",\"lottery\",\"lab\",\"williams\",\"odd\",\"soil\",\"sensitive\",\"route\",\"tattoos\",\"coin\",\"declare\",\"frame\",\"differential\",\"bowl\",\"softwares\",\"notifications\",\"maintenance\",\"inner\",\"apples\",\"converted\",\"recruiter\",\"bombay\",\"command\",\"posting\",\"controlled\",\"balls\",\"personally\",\"poker\",\"extract\",\"hired\",\"bugs\",\"providers\",\"loans\",\"calculator\",\"attractions\",\"torrents\",\"keywords\",\"profession\",\"blogging\",\"transport\",\"sue\",\"anonymously\",\"compounds\",\"robot\",\"buddhism\",\"sweet\",\"defense\",\"nobody\",\"uc\",\"defined\",\"division\",\"bags\",\"epic\",\"unhealthy\",\"craziest\",\"urban\",\"combination\",\"pair\",\"laugh\",\"cv\",\"usd\",\"launched\",\"usps\",\"visited\",\"nexus\",\"regularly\",\"brothers\",\"broker\",\"concentrate\",\"agreement\",\"nervous\",\"frozen\",\"detail\",\"sir\",\"situations\",\"borderline\",\"angularjs\",\"abusive\",\"tourism\",\"relate\",\"august\",\"communist\",\"accountant\",\"dumb\",\"arab\",\"b2b\",\"du\",\"thermal\",\"asians\",\"threat\",\"karma\",\"passive\",\"homosexuality\",\"putting\",\"quantitative\",\"relativity\",\"sanskrit\",\"opinions\",\"verify\",\"bear\",\"roll\",\"expanding\",\"teenage\",\"jeans\",\"providing\",\"shared\",\"extreme\",\"mi\",\"vr\",\"progress\",\"greece\",\"cpu\",\"ips\",\"merge\",\"reputation\",\"loving\",\"salman\",\"iss\",\"warm\",\"dental\",\"extension\",\"attraction\",\"fictional\",\"journal\",\"login\",\"secondary\",\"recognize\",\"southern\",\"ph\",\"lunch\",\"wallet\",\"ronaldo\",\"larger\",\"actions\",\"fathers\",\"adopt\",\"claims\",\"bottom\",\"therapy\",\"patient\",\"described\",\"virginity\",\"functional\",\"ionic\",\"chartered\",\"discover\",\"55\",\"21st\",\"biased\",\"mad\",\"northern\",\"onto\",\"liberals\",\"premium\",\"neutral\",\"detect\",\"diagram\",\"sperm\",\"ga\",\"bleach\",\"spread\",\"contributions\",\"activate\",\"prior\",\"safest\",\"holder\",\"360\",\"aim\",\"rental\",\"families\",\"everybody\",\"shut\",\"payments\",\"150\",\"cube\",\"vegan\",\"newspaper\",\"beef\",\"houses\",\"preferred\",\"simultaneously\",\"marked\",\"reactions\",\"emergency\",\"protection\",\"cab\",\"forex\",\"norway\",\"immigrants\",\"googles\",\"ssb\",\"wing\",\"yrs\",\"ensure\",\"spy\",\"reasoning\",\"strange\",\"forgive\",\"turkish\",\"tag\",\"ranking\",\"platforms\",\"fox\",\"existed\",\"walmart\",\"lazy\",\"ears\",\"clock\",\"beam\",\"rare\",\"bush\",\"2011\",\"stops\",\"batteries\",\"certified\",\"naked\",\"worldwide\",\"staying\",\"lifetime\",\"ted\",\"lake\",\"wealthy\",\"transit\",\"stephen\",\"rural\",\"versa\",\"pets\",\"commonly\",\"adults\",\"ultimate\",\"genius\",\"vinegar\",\"allows\",\"aid\",\"retirement\",\"airtel\",\"sciences\",\"mountain\",\"drinks\",\"tour\",\"wind\",\"seattle\",\"disabled\",\"bodies\",\"lesbian\",\"governments\",\"kinetic\",\"tumblr\",\"absolute\",\"author\",\"toilet\",\"whey\",\"sleepy\",\"molecular\",\"watches\",\"inventions\",\"rain\",\"34\",\"angular\",\"o\",\"dish\",\"however\",\"agents\",\"abs\",\"switzerland\",\"transformer\",\"clearing\",\"consciousness\",\"broadband\",\"uae\",\"automatic\",\"opposed\",\"geography\",\"astronauts\",\"decisions\",\"cement\",\"induction\",\"luxury\",\"upvotes\",\"politicians\",\"posted\",\"toefl\",\"kitchen\",\"noise\",\"radius\",\"dye\",\"miles\",\"risks\",\"scientifically\",\"mnc\",\"propose\",\"prepared\",\"iiit\",\"mention\",\"equipment\",\"darth\",\"january\",\"surname\",\"raised\",\"attitude\",\"gta\",\"david\",\"hike\",\"awkward\",\"proven\",\"productive\",\"lg\",\"filled\",\"atmosphere\",\"lee\",\"irctc\",\"addicted\",\"dynamic\",\"employment\",\"weekend\",\"replacement\",\"singing\",\"owners\",\"bipolar\",\"tomorrow\",\"poems\",\"default\",\"kvpy\",\"sauce\",\"competitors\",\"russians\",\"sample\",\"crimes\",\"hang\",\"inspired\",\"furniture\",\"throughout\",\"presence\",\"efficiency\",\"leg\",\"biological\",\"pilani\",\"conversations\",\"inspirational\",\"bachelor\",\"centers\",\"withdraw\",\"fundamental\",\"comparison\",\"november\",\"fifa\",\"penalty\",\"algebra\",\"joke\",\"htc\",\"pilots\",\"collapse\",\"texts\",\"vocabulary\",\"moved\",\"sc\",\"smile\",\"october\",\"dot\",\"genetic\",\"architect\",\"url\",\"51\",\"sore\",\"uniform\",\"re\",\"rails\",\"smaller\",\"marine\",\"terrorists\",\"nazi\",\"breast\",\"politician\",\"subtitles\",\"chosen\",\"egypt\",\"thin\",\"packages\",\"editor\",\"bands\",\"mythology\",\"reasonable\",\"permit\",\"acceptable\",\"seriously\",\"iraq\",\"fever\",\"visitor\",\"honest\",\"friction\",\"offering\",\"smarter\",\"ahmedabad\",\"replaced\",\"resolution\",\"burning\",\"bridge\",\"catholic\",\"calendar\",\"resident\",\"policies\",\"forced\",\"leading\",\"arm\",\"deserve\",\"context\",\"coolest\",\"arranged\",\"arizona\",\"comics\",\"harm\",\"democrats\",\"jail\",\"breed\",\"anywhere\",\"psu\",\"christ\",\"violence\",\"agriculture\",\"objective\",\"moments\",\"infinity\",\"supporting\",\"critical\",\"trees\",\"beyond\",\"bag\",\"vitamin\",\"assembly\",\"solved\",\"array\",\"perspective\",\"pas\",\"wwii\",\"skinny\",\"contains\",\"lift\",\"cleaning\",\"peter\",\"aap\",\"pimples\",\"initial\",\"lesserknown\",\"sights\",\"principles\",\"realize\",\"millionaire\",\"faux\",\"orbit\",\"desire\",\"hi\",\"prophet\",\"suits\",\"careers\",\"thinks\",\"quantity\",\"spots\",\"wage\",\"asleep\",\"sociology\",\"guard\",\"units\",\"structural\",\"operation\",\"pants\",\"w\",\"bulk\",\"possibly\",\"drunk\",\"fired\",\"accident\",\"inch\",\"bottle\",\"aerospace\",\"narcissist\",\"ux\",\"angeles\",\"wood\",\"index\",\"safely\",\"robotics\",\"edition\",\"metals\",\"practices\",\"scheme\",\"interior\",\"diabetes\",\"nobel\",\"youth\",\"lived\",\"september\",\"chief\",\"proposed\",\"assuming\",\"sin\",\"counter\",\"disable\",\"introduce\",\"restore\",\"swimming\",\"intern\",\"answering\",\"mentioned\",\"crash\",\"laser\",\"teenagers\",\"presentation\",\"quran\",\"classified\",\"demonetisation\",\"communicate\",\"cotton\",\"autism\",\"anger\",\"environmental\",\"stable\",\"7th\",\"bread\",\"invited\",\"wisdom\",\"wrote\",\"widely\",\"minor\",\"formal\",\"dreaming\",\"managers\",\"escape\",\"pollution\",\"taiwan\",\"verification\",\"los\",\"figures\",\"26\",\"illness\",\"sides\",\"compatible\",\"pack\",\"conspiracy\",\"hedge\",\"flights\",\"dropped\",\"former\",\"suffer\",\"aware\",\"designers\",\"mahabharata\",\"evolve\",\"weigh\",\"dies\",\"fruits\",\"cc\",\"butter\",\"sharing\",\"atoms\",\"tongue\",\"transaction\",\"poverty\",\"suffering\",\"presidents\",\"resistance\",\"adam\",\"civilization\",\"mining\",\"toronto\",\"stick\",\"increased\",\"wild\",\"freelance\",\"removal\",\"aws\",\"rio\",\"principle\",\"asus\",\"cute\",\"consumer\",\"pool\",\"variable\",\"tutorials\",\"advance\",\"keeping\",\"visible\",\"cognizant\",\"equations\",\"rooms\",\"krishna\",\"printer\",\"tooth\",\"mentally\",\"realistic\",\"automobile\",\"cake\",\"tie\",\"beach\",\"ghost\",\"comfortable\",\"mysql\",\"oral\",\"closed\",\"helps\",\"maharashtra\",\"admissions\",\"i5\",\"partners\",\"axis\",\"beliefs\",\"neck\",\"clans\",\"hidden\",\"cyber\",\"voting\",\"bacteria\",\"layer\",\"chhattisgarh\",\"5000\",\"sitting\",\"murder\",\"argument\",\"f\",\"privacy\",\"syndrome\",\"2010\",\"bite\",\"vacation\",\"isro\",\"trouble\",\"records\",\"answered\",\"digit\",\"defeat\",\"childhood\",\"5s\",\"gates\",\"f1\",\"town\",\"anal\",\"copper\",\"talks\",\"affiliate\",\"sociopath\",\"installed\",\"static\",\"copyright\",\"animation\",\"donate\",\"stranger\",\"bcom\",\"destroyed\",\"gujarat\",\"foundation\",\"prize\",\"components\",\"foreigner\",\"arms\",\"unlimited\",\"needing\",\"settings\",\"item\",\"eve\",\"competition\",\"landing\",\"beard\",\"patent\",\"ending\",\"2020\",\"incident\",\"petroleum\",\"florida\",\"particularly\",\"ups\",\"generator\",\"leather\",\"heal\",\"experiment\",\"28\",\"passing\",\"talent\",\"remote\",\"300\",\"published\",\"impossible\",\"steam\",\"80\",\"washing\",\"guilty\",\"punjab\",\"70\",\"album\",\"bullet\",\"paris\",\"interface\",\"agencies\",\"mission\",\"digits\",\"modis\",\"recruitment\",\"manipal\",\"telling\",\"meal\",\"orange\",\"stone\",\"links\",\"ab\",\"upper\",\"cameras\",\"p\",\"combat\",\"passion\",\"shower\",\"thailand\",\"beings\",\"grad\",\"27\",\"finger\",\"jump\",\"lights\",\"ui\",\"bba\",\"sweden\",\"arrive\",\"4th\",\"amendment\",\"window\",\"satellite\",\"al\",\"matlab\",\"jokes\",\"muhammad\",\"expression\",\"booking\",\"dinner\",\"skype\",\"lots\",\"2018\",\"teen\",\"finish\",\"dslr\",\"mens\",\"proud\",\"entrepreneurs\",\"ukraine\",\"coins\",\"scenario\",\"transmission\",\"ignore\",\"pride\",\"contribute\",\"grand\",\"curve\",\"false\",\"operations\",\"breakup\",\"eventually\",\"acquire\",\"commission\",\"lies\",\"spoken\",\"pills\",\"masturbating\",\"jackson\",\"airbnb\",\"delivered\",\"disk\",\"radiation\",\"plays\",\"marvel\",\"particle\",\"breakfast\",\"smartphones\",\"relevant\",\"quota\",\"refund\",\"inches\",\"telugu\",\"angel\",\"eastern\",\"inflation\",\"predict\",\"annoying\",\"obc\",\"tough\",\"conduct\",\"originate\",\"notification\",\"backup\",\"harder\",\"richest\",\"pronounce\",\"sri\",\"wheel\",\"wasnt\",\"oldest\",\"sheet\",\"soda\",\"20s\",\"wipro\",\"awesome\",\"facial\",\"z\",\"noida\",\"confident\",\"fbi\",\"corrupt\",\"succeed\",\"reddit\",\"associate\",\"input\",\"guns\",\"rahul\",\"baking\",\"description\",\"musical\",\"apache\",\"nowadays\",\"fluid\",\"capacity\",\"loose\",\"freshman\",\"cfa\",\"optional\",\"theres\",\"ps4\",\"trends\",\"jon\",\"richard\",\"legit\",\"nodejs\",\"document\",\"sexually\",\"particles\",\"singer\",\"printing\",\"captain\",\"valuable\",\"several\",\"aiims\",\"boot\",\"sit\",\"zone\",\"billionaire\",\"floor\",\"gravitational\",\"export\",\"motivation\",\"golden\",\"transgender\",\"healthcare\",\"heaven\",\"81\",\"leaves\",\"listening\",\"overall\",\"press\",\"dishes\",\"railways\",\"warming\",\"enfield\",\"extent\",\"acceleration\",\"afford\",\"bonds\",\"border\",\"registration\",\"cast\",\"hope\",\"shipping\",\"karnataka\",\"specifically\",\"opportunity\",\"arabia\",\"pump\",\"pg\",\"carrier\",\"plot\",\"kingdom\",\"contract\",\"painful\",\"kindle\",\"boring\",\"essential\",\"disney\",\"charger\",\"seconds\",\"measured\",\"honda\",\"ba\",\"makeup\",\"\\u2013\",\"mini\",\"annual\",\"traits\",\"retrieve\",\"willing\",\"swift\",\"consume\",\"hindus\",\"psychopath\",\"tells\",\"solving\",\"conditions\",\"artists\",\"spotify\",\"bomb\",\"integrate\",\"stuck\",\"nikon\",\"gadgets\",\"womens\",\"judge\",\"republicans\",\"vacuum\",\"felt\",\"putin\",\"tennis\",\"concentration\",\"fans\",\"constantly\",\"matrix\",\"secrets\",\"spot\",\"soft\",\"stored\",\"neural\",\"submit\",\"scores\",\"ola\",\"wire\",\"gdp\",\"jaipur\",\"typically\",\"airline\",\"roles\",\"cheaper\",\"machines\",\"shift\",\"impress\",\"basics\",\"32\",\"conservative\",\"birds\",\"tend\",\"duty\",\"setup\",\"rude\",\"pink\",\"church\",\"mine\",\"jack\",\"sending\",\"cooking\",\"versus\",\"expert\",\"olympic\",\"biotechnology\",\"gurgaon\",\"worked\",\"codes\",\"successfully\",\"hardware\",\"faith\",\"pr\",\"television\",\"compound\",\"vit\",\"universal\",\"thank\",\"grammatically\",\"chicago\",\"ivy\",\"worried\",\"enterprise\",\"sodium\",\"railway\",\"remedies\",\"racism\",\"tracking\",\"psychological\",\"apartment\",\"magazine\",\"martial\",\"beauty\",\"waiting\",\"attacks\",\"horror\",\"fantasy\",\"ma\",\"select\",\"increasing\",\"metro\",\"opt\",\"map\",\"watched\",\"gear\",\"icloud\",\"james\",\"comedy\",\"lollipop\",\"ireland\",\"upcoming\",\"italian\",\"oven\",\"emotionally\",\"decided\",\"lakh\",\"grey\",\"kept\",\"produced\",\"mouth\",\"manual\",\"dhoni\",\"fill\",\"throat\",\"shoot\",\"liked\",\"innovative\",\"immediately\",\"lonely\",\"fighting\",\"max\",\"accidentally\",\"schedule\",\"orgasm\",\"rape\",\"ride\",\"muscles\",\"graduates\",\"taller\",\"boost\",\"lakhs\",\"microwave\",\"electrons\",\"upon\",\"attract\",\"ap\",\"abuse\",\"earths\",\"forever\",\"underrated\",\"facing\",\"terrorist\",\"alien\",\"celebrity\",\"frequently\",\"vpn\",\"wales\",\"powder\",\"superman\",\"mixed\",\"caught\",\"goods\",\"beginning\",\"starts\",\"atomic\",\"associated\",\"triangle\",\"parties\",\"banning\",\"k\",\"honey\",\"monitor\",\"graph\",\"leaders\",\"embedded\",\"juice\",\"split\",\"lady\",\"sequence\",\"911\",\"harassment\",\"nepal\",\"pop\",\"habit\",\"setting\",\"edge\",\"ww2\",\"gps\",\"federal\",\"charged\",\"lying\",\"empty\",\"whenever\",\"airplane\",\"jet\",\"destroy\",\"ies\",\"wouldnt\",\"quick\",\"decrease\",\"robert\",\"pradesh\",\"professors\",\"massage\",\"held\",\"spending\",\"markets\",\"objects\",\"chart\",\"mechanics\",\"silver\",\"usage\",\"basketball\",\"gen\",\"periods\",\"identity\",\"individuals\",\"css\",\"soul\",\"ipod\",\"chest\",\"understanding\",\"coast\",\"classic\",\"spain\",\"babies\",\"sd\",\"hostel\",\"shirt\",\"further\",\"logical\",\"franchise\",\"obtain\",\"foreigners\",\"fully\",\"region\",\"designed\",\"cheated\",\"beneficial\",\"shes\",\"accent\",\"couldnt\",\"queen\",\"sick\",\"blowing\",\"properly\",\"stronger\",\"returns\",\"condition\",\"musk\",\"ugly\",\"teams\",\"filter\",\"snow\",\"glasses\",\"employer\",\"solid\",\"followed\",\"embarrassing\",\"auto\",\"meeting\",\"belong\",\"strike\",\"internships\",\"bachelors\",\"administration\",\"temple\",\"wealth\",\"retail\",\"speakers\",\"electoral\",\"headphones\",\"streaming\",\"mirror\",\"diesel\",\"republic\",\"antivirus\",\"customers\",\"atm\",\"vagina\",\"cigarettes\",\"aptitude\",\"lewis\",\"saudi\",\"puppy\",\"recovery\",\"jimmy\",\"obsessed\",\"domestic\",\"pen\",\"batch\",\"de\",\"drawing\",\"ai\",\"medium\",\"simply\",\"photoshop\",\"sms\",\"turning\",\"nadu\",\"appropriate\",\"adobe\",\"substitute\",\"fruit\",\"recipes\",\"fighter\",\"saving\",\"greater\",\"cheat\",\"routine\",\"push\",\"sherlock\",\"arguments\",\"sony\",\"import\",\"soldiers\",\"charges\",\"emotions\",\"ibm\",\"un\",\"innovations\",\"itunes\",\"consultant\",\"iims\",\"relations\",\"psychopaths\",\"existing\",\"angle\",\"clash\",\"bus\",\"australian\",\"crazy\",\"pull\",\"theories\",\"savings\",\"suit\",\"contrast\",\"calculus\",\"pi\",\"credits\",\"bluetooth\",\"himself\",\"traveling\",\"criminal\",\"xiaomi\",\"zealand\",\"seats\",\"electron\",\"script\",\"11th\",\"lessons\",\"programmers\",\"december\",\"flag\",\"singh\",\"arabic\",\"sale\",\"nfl\",\"grammar\",\"killing\",\"virgin\",\"differently\",\"poem\",\"provided\",\"automation\",\"shy\",\"translation\",\"mathematical\",\"45\",\"celebrities\",\"spring\",\"downloading\",\"dr\",\"organization\",\"majority\",\"clients\",\"hd\",\"motivate\",\"thats\",\"thesis\",\"door\",\"weakest\",\"saw\",\"canon\",\"younger\",\"costs\",\"river\",\"rings\",\"factory\",\"decent\",\"clintons\",\"holes\",\"desert\",\"divorce\",\"sold\",\"cheese\",\"atom\",\"taught\",\"minute\",\"ocean\",\"crisis\",\"represent\",\"surgical\",\"parent\",\"brexit\",\"possibility\",\"longest\",\"edit\",\"scholarship\",\"motivated\",\"chocolate\",\"faced\",\"90\",\"parallel\",\"foot\",\"examination\",\"friendly\",\"kinds\",\"wins\",\"islamic\",\"degrees\",\"registered\",\"distribution\",\"junior\",\"gave\",\"sing\",\"articles\",\"hadoop\",\"saved\",\"hero\",\"ear\",\"asks\",\"improved\",\"teenager\",\"forms\",\"wash\",\"provides\",\"washington\",\"strikes\",\"binary\",\"syria\",\"indonesia\",\"powers\",\"highly\",\"heshe\",\"happiness\",\"director\",\"citizenship\",\"knew\",\"humanity\",\"translate\",\"nba\",\"permanently\",\"soccer\",\"todays\",\"challenges\",\"barack\",\"title\",\"latin\",\"fitness\",\"genuine\",\"investor\",\"dislike\",\"scenes\",\"hacker\",\"bangladesh\",\"ebay\",\"earning\",\"dell\",\"paytm\",\"spouse\",\"bored\",\"roman\",\"official\",\"dragon\",\"park\",\"except\",\"habits\",\"quote\",\"astrology\",\"congress\",\"automatically\",\"island\",\"religions\",\"christianity\",\"supreme\",\"owner\",\"hell\",\"wikipedia\",\"cancel\",\"industries\",\"actress\",\"client\",\"visual\",\"michael\",\"remain\",\"ability\",\"concrete\",\"conflict\",\"string\",\"linear\",\"supposed\",\"engines\",\"2012\",\"\\u2018\",\"lesser\",\"traditional\",\"episodes\",\"goals\",\"tata\",\"opening\",\"target\",\"weak\",\"anonymous\",\"bjp\",\"resource\",\"concepts\",\"ruby\",\"friendship\",\"nyc\",\"pretty\",\"implement\",\"painting\",\"ill\",\"agency\",\"reverse\",\"confused\",\"italy\",\"response\",\"yellow\",\"dance\",\"contain\",\"vice\",\"editing\",\"acting\",\"weirdest\",\"feels\",\"govt\",\"accounting\",\"rise\",\"wise\",\"leaving\",\"lens\",\"artist\",\"arvind\",\"pattern\",\"scared\",\"attention\",\"airlines\",\"sky\",\"malaysia\",\"port\",\"attempt\",\"element\",\"classical\",\"shown\",\"safety\",\"including\",\"tablet\",\"la\",\"terrorism\",\"commit\",\"maps\",\"african\",\"viewed\",\"calling\",\"6s\",\"agent\",\"output\",\"justice\",\"don\",\"addiction\",\"lock\",\"vegetarian\",\"britain\",\"percent\",\"meditation\",\"ibps\",\"monthly\",\"writers\",\"forward\",\"stuff\",\"mr\",\"ready\",\"forgot\",\"flying\",\"recommended\",\"fields\",\"blind\",\"l\",\"hinduism\",\"desktop\",\"host\",\"tattoo\",\"maintain\",\"boards\",\"helpful\",\"semester\",\"load\",\"tier\",\"agree\",\"factor\",\"elon\",\"freshers\",\"sql\",\"cases\",\"exact\",\"confidence\",\"behavior\",\"hacked\",\"quotes\",\"hydrogen\",\"pakistani\",\"masturbate\",\"divided\",\"skill\",\"fine\",\"falling\",\"chess\",\"charging\",\"pages\",\"vector\",\"supporters\",\"waste\",\"sanders\",\"affordable\",\"unlock\",\"techniques\",\"wine\",\"keyboard\",\"cm\",\"wireless\",\"lawyer\",\"egg\",\"cope\",\"mindblowing\",\"recipe\",\"corruption\",\"scored\",\"secure\",\"teaching\",\"opposite\",\"educational\",\"bernie\",\"y\",\"library\",\"models\",\"kid\",\"stack\",\"separate\",\"19\",\"extremely\",\"properties\",\"cable\",\"magic\",\"removed\",\"computing\",\"hospital\",\"beer\",\"christians\",\"twice\",\"kg\",\"consulting\",\"whose\",\"serious\",\"petrol\",\"travelling\",\"revolution\",\"custom\",\"structures\",\"guide\",\"celebrate\",\"lenovo\",\"turned\",\"ielts\",\"grades\",\"fuel\",\"relative\",\"oracle\",\"academy\",\"lack\",\"passed\",\"relation\",\"values\",\"movement\",\"strategies\",\"eu\",\"emotional\",\"legs\",\"pokemon\",\"3g\",\"iran\",\"mostly\",\"jewish\",\"offered\",\"log\",\"hasnt\",\"explanation\",\"signal\",\"stores\",\"syllabus\",\"bits\",\"yoga\",\"weapons\",\"gods\",\"10000\",\"delivery\",\"gb\",\"sum\",\"letters\",\"venture\",\"selection\",\"winning\",\"35\",\"comment\",\"consequences\",\"sport\",\"items\",\"seems\",\"ring\",\"jealous\",\"laptops\",\"criteria\",\"fresh\",\"reference\",\"bitcoin\",\"infinite\",\"perform\",\"brazil\",\"density\",\"plans\",\"hosting\",\"clothing\",\"hong\",\"dying\",\"heavy\",\"steve\",\"gone\",\"damage\",\"missing\",\"ethical\",\"republican\",\"contacts\",\"activity\",\"electronic\",\"qualities\",\"piano\",\"hisher\",\"repair\",\"posts\",\"disease\",\"winter\",\"ten\",\"publish\",\"paint\",\"physically\",\"executive\",\"deposit\",\"elements\",\"xbox\",\"ceo\",\"visitors\",\"discovered\",\"tickets\",\"literature\",\"primary\",\"naturally\",\"senior\",\"u\",\"hardest\",\"debate\",\"frequency\",\"vietnam\",\"cry\",\"assistant\",\"gifts\",\"practical\",\"funny\",\"valid\",\"liberal\",\"refer\",\"beat\",\"shape\",\"institutes\",\"msc\",\"internal\",\"located\",\"significant\",\"scientists\",\"g\",\"ship\",\"proper\",\"independence\",\"added\",\"hes\",\"catch\",\"urine\",\"effectively\",\"named\",\"responsible\",\"strength\",\"whos\",\"immigration\",\"vehicle\",\"tesla\",\"kong\",\"meth\",\"england\",\"huge\",\"pizza\",\"rejected\",\"george\",\"fan\",\"salt\",\"browser\",\"sat\",\"loved\",\"fees\",\"walking\",\"symbol\",\"equity\",\"ubuntu\",\"alternatives\",\"theme\",\"virus\",\"manufacturing\",\"cutoff\",\"pure\",\"22\",\"introvert\",\"unable\",\"greek\",\"rice\",\"gst\",\"happening\",\"centre\",\"kiss\",\"prison\",\"bigger\",\"font\",\"construction\",\"exercises\",\"keeps\",\"gmat\",\"offers\",\"cross\",\"nasa\",\"unit\",\"advertising\",\"cup\",\"fixed\",\"limited\",\"billion\",\"subjects\",\"arts\",\"worlds\",\"stupid\",\"breaking\",\"funding\",\"tank\",\"generate\",\"efficient\",\"exists\",\"atheist\",\"entrepreneur\",\"direction\",\"broken\",\"offline\",\"firms\",\"station\",\"magnetic\",\"include\",\"aliens\",\"tinder\",\"logo\",\"photography\",\"worse\",\"besides\",\"path\",\"somebody\",\"interviews\",\"persons\",\"figure\",\"placed\",\"nation\",\"knows\",\"unmarried\",\"hp\",\"profitable\",\"tricks\",\"boss\",\"reply\",\"scam\",\"circle\",\"processor\",\"debt\",\"growing\",\"royal\",\"fiction\",\"department\",\"mistake\",\"weird\",\"graphics\",\"external\",\"article\",\"volume\",\"scratch\",\"chain\",\"protect\",\"storage\",\"texas\",\"liquid\",\"circuit\",\"graphic\",\"tired\",\"weather\",\"oxygen\",\"velocity\",\"dad\",\"band\",\"teachers\",\"drugs\",\"complex\",\"studio\",\"accenture\",\"leader\",\"levels\",\"goal\",\"logic\",\"acne\",\"plastic\",\"motion\",\"button\",\"peoples\",\"vision\",\"gap\",\"dollar\",\"computers\",\"stomach\",\"sources\",\"constant\",\"draw\",\"dress\",\"calculated\",\"sort\",\"3rd\",\"club\",\"channels\",\"creating\",\"candidates\",\"kejriwal\",\"broke\",\"sentences\",\"format\",\"emails\",\"raw\",\"stanford\",\"completed\",\"documents\",\"pan\",\"showing\",\"enter\",\"unknown\",\"bought\",\"router\",\"claim\",\"six\",\"technologies\",\"\\u20b9\",\"flipkart\",\"infosys\",\"mutual\",\"angry\",\"iits\",\"affected\",\"prices\",\"shares\",\"naruto\",\"processing\",\"finding\",\"democratic\",\"evolution\",\"harmful\",\"dual\",\"virtual\",\"member\",\"wave\",\"actual\",\"extra\",\"radio\",\"citizens\",\"e\",\"hr\",\"previous\",\"stopped\",\"walk\",\"redmi\",\"speaker\",\"torrent\",\"smoke\",\"mistakes\",\"flash\",\"iron\",\"entire\",\"individual\",\"express\",\"flow\",\"mode\",\"aircraft\",\"section\",\"planets\",\"10th\",\"respond\",\"easier\",\"evil\",\"percentile\",\"seeing\",\"calories\",\"upgrade\",\"professor\",\"v\",\"launch\",\"staff\",\"till\",\"silicon\",\"entry\",\"constitution\",\"century\",\"notice\",\"ie\",\"atheists\",\"tests\",\"21\",\"became\",\"kerala\",\"truly\",\"count\",\"essay\",\"papers\",\"accurate\",\"colors\",\"respect\",\"ideal\",\"rock\",\"reliance\",\"peace\",\"masturbation\",\"audio\",\"random\",\"independent\",\"colour\",\"hotels\",\"presidency\",\"generation\",\"paypal\",\"shot\",\"central\",\"released\",\"occur\",\"display\",\"industrial\",\"particular\",\"risk\",\"eg\",\"belly\",\"pet\",\"similarities\",\"organic\",\"marijuana\",\"networks\",\"aspects\",\"flat\",\"d\",\"comments\",\"nose\",\"identify\",\"rbi\",\"improvement\",\"directly\",\"framework\",\"suggestions\",\"designing\",\"brands\",\"religious\",\"influence\",\"novels\",\"statistics\",\"historical\",\"ground\",\"commerce\",\"pregnancy\",\"romantic\",\"failure\",\"wearing\",\"john\",\"apart\",\"bay\",\"symptoms\",\"200\",\"couple\",\"60\",\"canadian\",\"lie\",\"print\",\"carry\",\"gender\",\"experienced\",\"pounds\",\"reservation\",\"either\",\"stage\",\"artificial\",\"fit\",\"blogs\",\"developing\",\"environment\",\"learned\",\"copy\",\"phase\",\"bond\",\"democracy\",\"cgpa\",\"operating\",\"surface\",\"officers\",\"h1b\",\"ip\",\"workout\",\"fee\",\"elected\",\"hands\",\"largest\",\"sad\",\"shouldnt\",\"seat\",\"sister\",\"developers\",\"despite\",\"scene\",\"po\",\"diploma\",\"request\",\"empire\",\"ratio\",\"considering\",\"academic\",\"tree\",\"register\",\"advantage\",\"eligible\",\"nit\",\"shop\",\"intel\",\"funniest\",\"alternative\",\"fail\",\"ads\",\"nature\",\"miss\",\"involved\",\"overrated\",\"attend\",\"freedom\",\"dna\",\"beginners\",\"raise\",\"dry\",\"failed\",\"legally\",\"batman\",\"upload\",\"carbon\",\"regret\",\"applied\",\"points\",\"investors\",\"pick\",\"equivalent\",\"connected\",\"christmas\",\"lyrics\",\"nations\",\"caused\",\"bsc\",\"1st\",\"action\",\"activities\",\"biology\",\"hide\",\"asia\",\"takes\",\"require\",\"alive\",\"mom\",\"cycle\",\"generally\",\"campaign\",\"fair\",\"wake\",\"bit\",\"rules\",\"olympics\",\"racist\",\"areas\",\"eggs\",\"feature\",\"sap\",\"taxes\",\"ad\",\"shall\",\"theyre\",\"species\",\"pilot\",\"firm\",\"fish\",\"define\",\"doctors\",\"piece\",\"itself\",\"bang\",\"solutions\",\"iim\",\"2013\",\"wanted\",\"length\",\"burn\",\"waves\",\"bar\",\"gives\",\"forces\",\"christian\",\"anybody\",\"relationships\",\"nice\",\"wedding\",\"various\",\"brother\",\"films\",\"cream\",\"suddenly\",\"philippines\",\"fashion\",\"truth\",\"gpa\",\"cgl\",\"tall\",\"goa\",\"hacking\",\"statement\",\"reset\",\"materials\",\"played\",\"match\",\"usb\",\"novel\",\"unusual\",\"knowing\",\"selected\",\"valley\",\"chrome\",\"couples\",\"becomes\",\"died\",\"cheating\",\"community\",\"groups\",\"category\",\"pursuing\",\"writer\",\"mexico\",\"anymore\",\"sugar\",\"climate\",\"brown\",\"players\",\"ii\",\"reviews\",\"took\",\"led\",\"connection\",\"begin\",\"html\",\"changing\",\"received\",\"plants\",\"debit\",\"record\",\"revenue\",\"mars\",\"strongest\",\"members\",\"formed\",\"union\",\"thought\",\"existence\",\"kashmir\",\"gandhi\",\"pdf\",\"banned\",\"0\",\"plane\",\"treated\",\"electricity\",\"scale\",\"basis\",\"moral\",\"images\",\"methods\",\"certification\",\"voltage\",\"style\",\"base\",\"excel\",\"amazing\",\"regarding\",\"result\",\"rates\",\"hold\",\"indias\",\"airport\",\"businesses\",\"feet\",\"built\",\"linkedin\",\"signs\",\"above\",\"networking\",\"r\",\"shopping\",\"looks\",\"went\",\"placements\",\"bed\",\"experiences\",\"daughter\",\"tourist\",\"employee\",\"caste\",\"wait\",\"direct\",\"especially\",\"feed\",\"continue\",\"expected\",\"algorithm\",\"depressed\",\"shoes\",\"soon\",\"supply\",\"stress\",\"24\",\"inr\",\"foods\",\"rent\",\"architecture\",\"ban\",\"entrance\",\"actors\",\"messenger\",\"unique\",\"kolkata\",\"funds\",\"rupee\",\"promote\",\"rupees\",\"jews\",\"23\",\"cook\",\"cultural\",\"accepted\",\"hear\",\"glass\",\"road\",\"joining\",\"measure\",\"havent\",\"metal\",\"resume\",\"afraid\",\"turkey\",\"meat\",\"goes\",\"installation\",\"netflix\",\"benefit\",\"demand\",\"release\",\"produce\",\"report\",\"cover\",\"changes\",\"double\",\"2nd\",\"reaction\",\"killed\",\"steel\",\"requirements\",\"france\",\"exchange\",\"ac\",\"quantum\",\"reliable\",\"box\",\"results\",\"lives\",\"treatment\",\"4g\",\"ece\",\"probability\",\"sleeping\",\"philosophy\",\"handle\",\"forget\",\"driver\",\"demonetization\",\"algorithms\",\"trade\",\"rule\",\"muscle\",\"calls\",\"tried\",\"mental\",\"sure\",\"quit\",\"navy\",\"achieve\",\"francisco\",\"location\",\"until\",\"sense\",\"anxiety\",\"wordpress\",\"focus\",\"fact\",\"production\",\"conversation\",\"motor\",\"five\",\"attracted\",\"hit\",\"analyst\",\"moto\",\"isis\",\"chicken\",\"sector\",\"permanent\",\"along\",\"king\",\"slow\",\"candidate\",\"minutes\",\"purchase\",\"gun\",\"selling\",\"usually\",\"\\u2026\",\"fly\",\"round\",\"panel\",\"error\",\"stocks\",\"api\",\"remember\",\"africa\",\"paying\",\"hitler\",\"3d\",\"regular\",\"losing\",\"mail\",\"yahoo\",\"cheapest\",\"older\",\"concept\",\"characters\",\"definition\",\"lines\",\"pm\",\"cloud\",\"cats\",\"russian\",\"ipad\",\"korean\",\"proof\",\"battle\",\"stars\",\"stream\",\"recent\",\"typical\",\"performance\",\"harvard\",\"restaurant\",\"origin\",\"listen\",\"smell\",\"decide\",\"serve\",\"undergraduate\",\"profit\",\"situation\",\"surgery\",\"asking\",\"plant\",\"link\",\"square\",\"completing\",\"four\",\"trust\",\"payment\",\"gym\",\"andor\",\"worklife\",\"guitar\",\"elections\",\"half\",\"investing\",\"scientist\",\"street\",\"needs\",\"native\",\"thoughts\",\"reality\",\"40\",\"medicine\",\"race\",\"choice\",\"longer\",\"came\",\"applying\",\"hiring\",\"west\",\"weed\",\"hacks\",\"step\",\"sea\",\"crime\",\"devices\",\"event\",\"citizen\",\"14\",\"17\",\"ticket\",\"fund\",\"equation\",\"suicide\",\"whom\",\"met\",\"almost\",\"designer\",\"local\",\"departments\",\"khan\",\"customer\",\"banking\",\"javascript\",\"trip\",\"issue\",\"react\",\"cannot\",\"dubai\",\"wall\",\"touch\",\"parts\",\"loves\",\"clothes\",\"straight\",\"sexual\",\"active\",\"inpatient\",\"dreams\",\"protein\",\"table\",\"exercise\",\"lord\",\"mtech\",\"creative\",\"ball\",\"speaking\",\"son\",\"receive\",\"dollars\",\"domain\",\"prospects\",\"hour\",\"graduation\",\"commercial\",\"themselves\",\"factors\",\"jesus\",\"programmer\",\"recommend\",\"replace\",\"chat\",\"placement\",\"episode\",\"fastest\",\"restaurants\",\"object\",\"drivers\",\"gaming\",\"mark\",\"taste\",\"seem\",\"perfect\",\"potential\",\"trumps\",\"appear\",\"rights\",\"equal\",\"rest\",\"package\",\"meant\",\"drop\",\"cool\",\"material\",\"potter\",\"events\",\"convince\",\"completely\",\"n\",\"zero\",\"significance\",\"lower\",\"feelings\",\"followers\",\"evidence\",\"certain\",\"later\",\"original\",\"bible\",\"disorder\",\"testing\",\"via\",\"stand\",\"actor\",\"characteristics\",\"cities\",\"reach\",\"ago\",\"mbbs\",\"speech\",\"electric\",\"approach\",\"scientific\",\"root\",\"analytics\",\"below\",\"grade\",\"mains\",\"topic\",\"fun\",\"ancient\",\"adult\",\"standard\",\"ice\",\"everyday\",\"population\",\"invented\",\"european\",\"intelligent\",\"11\",\"subject\",\"rehab\",\"background\",\"giving\",\"platform\",\"flight\",\"thrones\",\"maths\",\"dc\",\"teeth\",\"mit\",\"weeks\",\"east\",\"means\",\"programs\",\"beginner\",\"heat\",\"third\",\"tea\",\"range\",\"london\",\"maximum\",\"enjoy\",\"2000\",\"cells\",\"quickly\",\"here\",\"expensive\",\"phrase\",\"partner\",\"league\",\"anime\",\"latest\",\"specific\",\"whether\",\"functions\",\"os\",\"fire\",\"saying\",\"secret\",\"13\",\"planet\",\"hole\",\"super\",\"teacher\",\"strong\",\"accounts\",\"minister\",\"database\",\"economic\",\"channel\",\"estate\",\"ram\",\"switch\",\"asian\",\"smoking\",\"branch\",\"israel\",\"18\",\"features\",\"success\",\"lead\",\"total\",\"key\",\"master\",\"ok\",\"favourite\",\"psychology\",\"pok\\u00e9mon\",\"nothing\",\"clean\",\"25\",\"politics\",\"drinking\",\"sometimes\",\"recently\",\"korea\",\"sent\",\"poor\",\"hindu\",\"hollywood\",\"survive\",\"cure\",\"property\",\"return\",\"narendra\",\"budget\",\"sports\",\"limit\",\"arent\",\"boys\",\"driving\",\"whole\",\"cash\",\"smartphone\",\"php\",\"developed\",\"ssc\",\"hot\",\"attractive\",\"tool\",\"physical\",\"ecommerce\",\"sbi\",\"morning\",\"animal\",\"multiple\",\"loan\",\"acid\",\"fresher\",\"spanish\",\"moving\",\"decision\",\"county\",\"determined\",\"becoming\",\"seo\",\"summer\",\"manage\",\"server\",\"competitive\",\"milk\",\"importance\",\"banks\",\"cheap\",\"powerful\",\"issues\",\"penis\",\"according\",\"analysis\",\"bike\",\"position\",\"western\",\"advanced\",\"campus\",\"highest\",\"front\",\"court\",\"status\",\"gravity\",\"positions\",\"comes\",\"steps\",\"complete\",\"electronics\",\"won\",\"hurt\",\"certificate\",\"temperature\",\"player\",\"someones\",\"communication\",\"million\",\"talking\",\"preparing\",\"finance\",\"cancer\",\"9\",\"harry\",\"accept\",\"2014\",\"plus\",\"born\",\"tcs\",\"license\",\"bring\",\"teach\",\"practice\",\"trading\",\"m\",\"might\",\"opportunities\",\"global\",\"wish\",\"outside\",\"attack\",\"procedure\",\"needed\",\"update\",\"coffee\",\"provider\",\"rather\",\"16\",\"allow\",\"tamil\",\"mix\",\"connect\",\"room\",\"watching\",\"deep\",\"york\",\"image\",\"birth\",\"sign\",\"birthday\",\"playing\",\"wars\",\"grads\",\"hire\",\"phones\",\"cbse\",\"details\",\"clear\",\"cricket\",\"dangerous\",\"track\",\"corporate\",\"voice\",\"upsc\",\"content\",\"okay\",\"san\",\"heart\",\"far\",\"heard\",\"prove\",\"positive\",\"moment\",\"sales\",\"opinion\",\"engineers\",\"block\",\"diet\",\"coding\",\"core\",\"baby\",\"father\",\"little\",\"large\",\"blocked\",\"distance\",\"land\",\"simple\",\"husband\",\"told\",\"traffic\",\"prevent\",\"pictures\",\"planning\",\"fear\",\"classes\",\"towards\",\"technical\",\"building\",\"trying\",\"photo\",\"early\",\"uses\",\"sydney\",\"startups\",\"act\",\"id\",\"describe\",\"12th\",\"may\",\"formula\",\"gets\",\"present\",\"wont\",\"cut\",\"treat\",\"mathematics\",\"visiting\",\"eye\",\"policy\",\"close\",\"cse\",\"suitable\",\"version\",\"tools\",\"head\",\"minimum\",\"chennai\",\"easily\",\"method\",\"intelligence\",\"gre\",\"mother\",\"doctor\",\"macbook\",\"deleted\",\"gas\",\"suggest\",\"cards\",\"files\",\"loss\",\"art\",\"easiest\",\"late\",\"among\",\"together\",\"depression\",\"higher\",\"alone\",\"economics\",\"dead\",\"growth\",\"insurance\",\"gold\",\"necessary\",\"neet\",\"blog\",\"example\",\"memory\",\"crack\",\"consider\",\"works\",\"currency\",\"recruit\",\"pursue\",\"strategy\",\"young\",\"cs\",\"projects\",\"50\",\"manager\",\"abroad\",\"schools\",\"illegal\",\"inside\",\"stories\",\"hand\",\"t\",\"greatest\",\"personality\",\"galaxy\",\"device\",\"views\",\"user\",\"chemistry\",\"cars\",\"iq\",\"prefer\",\"picture\",\"nuclear\",\"middle\",\"applications\",\"gmail\",\"laws\",\"final\",\"capital\",\"kids\",\"society\",\"fake\",\"bill\",\"save\",\"though\",\"likely\",\"determine\",\"shows\",\"character\",\"snapchat\",\"youre\",\"eyes\",\"islam\",\"marry\",\"brand\",\"yet\",\"impact\",\"speak\",\"within\",\"rich\",\"resources\",\"net\",\"non\",\"pressure\",\"changed\",\"allowed\",\"obama\",\"cold\",\"running\",\"feeling\",\"jio\",\"football\",\"gift\",\"written\",\"buying\",\"mac\",\"spend\",\"prime\",\"blue\",\"train\",\"studies\",\"negative\",\"thinking\",\"solution\",\"sun\",\"least\",\"following\",\"install\",\"else\",\"muslims\",\"camera\",\"vote\",\"linux\",\"expect\",\"german\",\"recover\",\"starting\",\"crush\",\"coming\",\"muslim\",\"modern\",\"battery\",\"provide\",\"access\",\"presidential\",\"interest\",\"dating\",\"pro\",\"likes\",\"french\",\"singapore\",\"useful\",\"already\",\"professional\",\"percentage\",\"drink\",\"created\",\"board\",\"passport\",\"structure\",\"case\",\"height\",\"microsoft\",\"break\",\"screen\",\"names\",\"chance\",\"special\",\"30\",\"skin\",\"natural\",\"color\",\"interested\",\"amount\",\"pain\",\"healthy\",\"hack\",\"messages\",\"ias\",\"gay\",\"disadvantages\",\"pass\",\"moon\",\"systems\",\"hindi\",\"financial\",\"taken\",\"yes\",\"sim\",\"pregnant\",\"faster\",\"animals\",\"internship\",\"let\",\"photos\",\"balance\",\"sound\",\"due\",\"knowledge\",\"charge\",\"message\",\"officer\",\"solar\",\"military\",\"meet\",\"option\",\"reading\",\"across\",\"overcome\",\"everyone\",\"everything\",\"wife\",\"reduce\",\"chances\",\"samsung\",\"income\",\"bollywood\",\"season\",\"europe\",\"boy\",\"currently\",\"ex\",\"smart\",\"california\",\"engine\",\"paid\",\"army\",\"contact\",\"address\",\"wants\",\"ones\",\"gain\",\"reasons\",\"avoid\",\"please\",\"note\",\"known\",\"pune\",\"film\",\"national\",\"once\",\"users\",\"porn\",\"scope\",\"twitter\",\"drug\",\"rank\",\"japan\",\"fight\",\"transfer\",\"political\",\"green\",\"news\",\"self\",\"uber\",\"basic\",\"british\",\"religion\",\"hyderabad\",\"topics\",\"explain\",\"phd\",\"eating\",\"letter\",\"calculate\",\"ive\",\"tech\",\"personal\",\"japanese\",\"check\",\"hotel\",\"wifi\",\"beautiful\",\"difficult\",\"paper\",\"languages\",\"investment\",\"develop\",\"north\",\"electrical\",\"ios\",\"alcohol\",\"exactly\",\"profile\",\"past\",\"exams\",\"ca\",\"convert\",\"vs\",\"understand\",\"care\",\"dream\",\"try\",\"americans\",\"lost\",\"chemical\",\"source\",\"b\",\"admission\",\"easy\",\"must\",\"three\",\"effect\",\"view\",\"options\",\"page\",\"away\",\"red\",\"said\",\"line\",\"short\",\"happy\",\"security\",\"dark\",\"preparation\",\"second\",\"fat\",\"matter\",\"few\",\"since\",\"role\",\"pc\",\"office\",\"team\",\"delete\",\"cell\",\"election\",\"economy\",\"term\",\"dogs\",\"text\",\"female\",\"effective\",\"brain\",\"share\",\"digital\",\"btech\",\"russia\",\"\\u201c\",\"party\",\"numbers\",\"20\",\"store\",\"male\",\"mass\",\"turn\",\"left\",\"married\",\"rs\",\"taking\",\"those\",\"password\",\"follow\",\"advice\",\"isnt\",\"15\",\"types\",\"network\",\"\\u201d\",\"week\",\"purpose\",\"related\",\"fix\",\"started\",\"courses\",\"masters\",\"grow\",\"8\",\"fast\",\"leave\",\"100\",\"often\",\"found\",\"pros\",\"marriage\",\"cons\",\"quality\",\"words\",\"kill\",\"price\",\"near\",\"modi\",\"enough\",\"search\",\"python\",\"x\",\"blood\",\"math\",\"yourself\",\"drive\",\"size\",\"star\",\"graduate\",\"majors\",\"500\",\"model\",\"studying\",\"general\",\"oil\",\"colleges\",\"area\",\"developer\",\"germany\",\"industry\",\"full\",\"training\",\"says\",\"period\",\"videos\",\"universe\",\"fall\",\"daily\",\"information\",\"foreign\",\"credit\",\"force\",\"12\",\"youve\",\"south\",\"offer\",\"set\",\"add\",\"send\",\"australia\",\"center\",\"1000\",\"famous\",\"2015\",\"lot\",\"function\",\"tax\",\"correct\",\"solve\",\"advantages\",\"coaching\",\"institute\",\"effects\",\"guys\",\"again\",\"group\",\"hours\",\"side\",\"sentence\",\"low\",\"similar\",\"plan\",\"children\",\"answers\",\"talk\",\"marks\",\"ideas\",\"theory\",\"death\",\"compared\",\"night\",\"remove\",\"dog\",\"anything\",\"single\",\"successful\",\"gate\",\"indians\",\"put\",\"problems\",\"move\",\"writing\",\"point\",\"invest\",\"asked\",\"biggest\",\"others\",\"stock\",\"notes\",\"story\",\"machine\",\"private\",\"sell\",\"seen\",\"required\",\"field\",\"file\",\"rate\",\"humans\",\"application\",\"face\",\"sites\",\"mind\",\"facts\",\"mumbai\",\"post\",\"stay\",\"child\",\"terms\",\"products\",\"control\",\"legal\",\"police\",\"didnt\",\"level\",\"worst\",\"hate\",\"visit\",\"called\",\"amazon\",\"causes\",\"health\",\"form\",\"physics\",\"iit\",\"skills\",\"times\",\"medical\",\"based\",\"list\",\"websites\",\"die\",\"part\",\"less\",\"benefits\",\"apple\",\"instead\",\"these\",\"boyfriend\",\"sleep\",\"canada\",\"reason\",\"education\",\"cause\",\"jee\",\"value\",\"today\",\"media\",\"public\",\"happened\",\"product\",\"research\",\"main\",\"behind\",\"international\",\"project\",\"uk\",\"differ\",\"7\",\"places\",\"wear\",\"order\",\"date\",\"etc\",\"small\",\"songs\",\"apps\",\"email\",\"given\",\"wrong\",\"site\",\"normal\",\"culture\",\"also\",\"civil\",\"city\",\"available\",\"house\",\"exist\",\"startup\",\"services\",\"ms\",\"both\",\"down\",\"2017\",\"run\",\"cat\",\"well\",\"space\",\"join\",\"deal\",\"games\",\"visa\",\"rid\",\"air\",\"speed\",\"popular\",\"problem\",\"support\",\"current\",\"pakistan\",\"choose\",\"build\",\"idea\",\"america\",\"whatsapp\",\"affect\",\"law\",\"technology\",\"call\",\"6\",\"universities\",\"family\",\"marketing\",\"major\",\"actually\",\"favorite\",\"light\",\"bangalore\",\"woman\",\"because\",\"type\",\"program\",\"looking\",\"living\",\"open\",\"believe\",\"month\",\"able\",\"management\",\"travel\",\"degree\",\"show\",\"interesting\",\"score\",\"months\",\"series\",\"chinese\",\"development\",\"end\",\"code\",\"design\",\"per\",\"employees\",\"review\",\"clinton\",\"common\",\"kind\",\"internet\",\"song\",\"download\",\"course\",\"parents\",\"jobs\",\"such\",\"increase\",\"java\",\"god\",\"another\",\"united\",\"girlfriend\",\"mechanical\",\"always\",\"next\",\"never\",\"around\",\"tips\",\"mba\",\"myself\",\"hillary\",\"apply\",\"answer\",\"something\",\"considered\",\"making\",\"differences\",\"market\",\"compare\",\"great\",\"keep\",\"test\",\"s\",\"win\",\"against\",\"states\",\"earn\",\"youtube\",\"worth\",\"delhi\",\"energy\",\"laptop\",\"american\",\"lose\",\"each\",\"hard\",\"makes\",\"age\",\"ask\",\"safe\",\"body\",\"power\",\"salary\",\"4\",\"watch\",\"white\",\"windows\",\"instagram\",\"history\",\"pay\",\"every\",\"last\",\"create\",\"relationship\",\"music\",\"too\",\"meaning\",\"state\",\"average\",\"earth\",\"got\",\"process\",\"class\",\"tv\",\"eat\",\"done\",\"happens\",\"days\",\"big\",\"off\",\"improve\",\"future\",\"place\",\"man\",\"human\",\"government\",\"play\",\"countries\",\"food\",\"service\",\"students\",\"weight\",\"game\",\"engineer\",\"write\",\"very\",\"interview\",\"web\",\"tell\",\"social\",\"girls\",\"video\",\"look\",\"having\",\"guy\",\"home\",\"hair\",\"usa\",\"doesnt\",\"word\",\"bank\",\"friend\",\"true\",\"experience\",\"career\",\"president\",\"question\",\"own\",\"china\",\"come\",\"under\",\"working\",\"him\",\"doing\",\"donald\",\"friends\",\"right\",\"5\",\"cost\",\"mobile\",\"even\",\"movies\",\"then\",\"c\",\"\\u2019\",\"exam\",\"men\",\"learning\",\"card\",\"war\",\"read\",\"programming\",\"black\",\"anyone\",\"high\",\"10\",\"companies\",\"car\",\"getting\",\"give\",\"important\",\"questions\",\"cant\",\"iphone\",\"website\",\"top\",\"water\",\"prepare\",\"during\",\"real\",\"say\",\"system\",\"name\",\"through\",\"two\",\"1\",\"our\",\"study\",\"3\",\"university\",\"made\",\"back\",\"happen\",\"stop\",\"student\",\"sex\",\"bad\",\"language\",\"going\",\"same\",\"before\",\"software\",\"school\",\"live\",\"country\",\"android\",\"science\",\"help\",\"she\",\"see\",\"thing\",\"women\",\"over\",\"data\",\"examples\",\"computer\",\"had\",\"ways\",\"change\",\"while\",\"book\",\"english\",\"account\",\"still\",\"movie\",\"books\",\"2016\",\"facebook\",\"free\",\"number\",\"college\",\"app\",\"2\",\"just\",\"now\",\"no\",\"trump\",\"company\",\"only\",\"old\",\"been\",\"google\",\"phone\",\"long\",\"different\",\"girl\",\"his\",\"her\",\"years\",\"really\",\"them\",\"using\",\"business\",\"need\",\"being\",\"buy\",\"day\",\"person\",\"things\",\"possible\",\"could\",\"were\",\"its\",\"love\",\"engineering\",\"im\",\"used\",\"online\",\"go\",\"year\",\"he\",\"into\",\"feel\",\"dont\",\"first\",\"up\"]]]}}},\"view\":{\"type\":\"object\",\"name\":\"CDSView\",\"id\":\"p1198\",\"attributes\":{\"filter\":{\"type\":\"object\",\"name\":\"AllIndices\",\"id\":\"p1199\"}}},\"glyph\":{\"type\":\"object\",\"name\":\"Scatter\",\"id\":\"p1194\",\"attributes\":{\"x\":{\"type\":\"field\",\"field\":\"x\"},\"y\":{\"type\":\"field\",\"field\":\"y\"},\"size\":{\"type\":\"value\",\"value\":10},\"line_color\":{\"type\":\"field\",\"field\":\"color\"},\"line_alpha\":{\"type\":\"value\",\"value\":0.25},\"fill_color\":{\"type\":\"field\",\"field\":\"color\"},\"fill_alpha\":{\"type\":\"value\",\"value\":0.25},\"hatch_color\":{\"type\":\"field\",\"field\":\"color\"},\"hatch_alpha\":{\"type\":\"value\",\"value\":0.25}}},\"nonselection_glyph\":{\"type\":\"object\",\"name\":\"Scatter\",\"id\":\"p1195\",\"attributes\":{\"x\":{\"type\":\"field\",\"field\":\"x\"},\"y\":{\"type\":\"field\",\"field\":\"y\"},\"size\":{\"type\":\"value\",\"value\":10},\"line_color\":{\"type\":\"field\",\"field\":\"color\"},\"line_alpha\":{\"type\":\"value\",\"value\":0.1},\"fill_color\":{\"type\":\"field\",\"field\":\"color\"},\"fill_alpha\":{\"type\":\"value\",\"value\":0.1},\"hatch_color\":{\"type\":\"field\",\"field\":\"color\"},\"hatch_alpha\":{\"type\":\"value\",\"value\":0.1}}},\"muted_glyph\":{\"type\":\"object\",\"name\":\"Scatter\",\"id\":\"p1196\",\"attributes\":{\"x\":{\"type\":\"field\",\"field\":\"x\"},\"y\":{\"type\":\"field\",\"field\":\"y\"},\"size\":{\"type\":\"value\",\"value\":10},\"line_color\":{\"type\":\"field\",\"field\":\"color\"},\"line_alpha\":{\"type\":\"value\",\"value\":0.2},\"fill_color\":{\"type\":\"field\",\"field\":\"color\"},\"fill_alpha\":{\"type\":\"value\",\"value\":0.2},\"hatch_color\":{\"type\":\"field\",\"field\":\"color\"},\"hatch_alpha\":{\"type\":\"value\",\"value\":0.2}}}}}],\"toolbar\":{\"type\":\"object\",\"name\":\"Toolbar\",\"id\":\"p1165\",\"attributes\":{\"tools\":[{\"type\":\"object\",\"name\":\"PanTool\",\"id\":\"p1178\"},{\"type\":\"object\",\"name\":\"WheelZoomTool\",\"id\":\"p1179\",\"attributes\":{\"renderers\":\"auto\"}},{\"type\":\"object\",\"name\":\"BoxZoomTool\",\"id\":\"p1180\",\"attributes\":{\"overlay\":{\"type\":\"object\",\"name\":\"BoxAnnotation\",\"id\":\"p1181\",\"attributes\":{\"syncable\":false,\"line_color\":\"black\",\"line_alpha\":1.0,\"line_width\":2,\"line_dash\":[4,4],\"fill_color\":\"lightgrey\",\"fill_alpha\":0.5,\"level\":\"overlay\",\"visible\":false,\"left\":{\"type\":\"number\",\"value\":\"nan\"},\"right\":{\"type\":\"number\",\"value\":\"nan\"},\"top\":{\"type\":\"number\",\"value\":\"nan\"},\"bottom\":{\"type\":\"number\",\"value\":\"nan\"},\"left_units\":\"canvas\",\"right_units\":\"canvas\",\"top_units\":\"canvas\",\"bottom_units\":\"canvas\",\"handles\":{\"type\":\"object\",\"name\":\"BoxInteractionHandles\",\"id\":\"p1187\",\"attributes\":{\"all\":{\"type\":\"object\",\"name\":\"AreaVisuals\",\"id\":\"p1186\",\"attributes\":{\"fill_color\":\"white\",\"hover_fill_color\":\"lightgray\"}}}}}}}},{\"type\":\"object\",\"name\":\"SaveTool\",\"id\":\"p1188\"},{\"type\":\"object\",\"name\":\"ResetTool\",\"id\":\"p1189\"},{\"type\":\"object\",\"name\":\"HelpTool\",\"id\":\"p1190\"},{\"type\":\"object\",\"name\":\"HoverTool\",\"id\":\"p1200\",\"attributes\":{\"renderers\":\"auto\",\"tooltips\":[[\"token\",\"@token\"]]}}],\"active_scroll\":{\"id\":\"p1179\"}}},\"left\":[{\"type\":\"object\",\"name\":\"LinearAxis\",\"id\":\"p1173\",\"attributes\":{\"ticker\":{\"type\":\"object\",\"name\":\"BasicTicker\",\"id\":\"p1174\",\"attributes\":{\"mantissas\":[1,2,5]}},\"formatter\":{\"type\":\"object\",\"name\":\"BasicTickFormatter\",\"id\":\"p1175\"},\"major_label_policy\":{\"type\":\"object\",\"name\":\"AllLabels\",\"id\":\"p1176\"}}}],\"below\":[{\"type\":\"object\",\"name\":\"LinearAxis\",\"id\":\"p1168\",\"attributes\":{\"ticker\":{\"type\":\"object\",\"name\":\"BasicTicker\",\"id\":\"p1169\",\"attributes\":{\"mantissas\":[1,2,5]}},\"formatter\":{\"type\":\"object\",\"name\":\"BasicTickFormatter\",\"id\":\"p1170\"},\"major_label_policy\":{\"type\":\"object\",\"name\":\"AllLabels\",\"id\":\"p1171\"}}}],\"center\":[{\"type\":\"object\",\"name\":\"Grid\",\"id\":\"p1172\",\"attributes\":{\"axis\":{\"id\":\"p1168\"}}},{\"type\":\"object\",\"name\":\"Grid\",\"id\":\"p1177\",\"attributes\":{\"dimension\":1,\"axis\":{\"id\":\"p1173\"}}}]}}]}};\n  const render_items = [{\"docid\":\"21a96a6a-9131-42fc-bf25-b44595334bea\",\"roots\":{\"p1157\":\"e68a5e7d-2765-4b72-bf61-4f96253a1a79\"},\"root_ids\":[\"p1157\"]}];\n  void root.Bokeh.embed.embed_items_notebook(docs_json, render_items);\n  }\n  if (root.Bokeh !== undefined) {\n    embed_document(root);\n  } else {\n    let attempts = 0;\n    const timer = setInterval(function(root) {\n      if (root.Bokeh !== undefined) {\n        clearInterval(timer);\n        embed_document(root);\n      } else {\n        attempts++;\n        if (attempts > 100) {\n          clearInterval(timer);\n          console.log(\"Bokeh: ERROR: Unable to run BokehJS code because BokehJS library is missing\");\n        }\n      }\n    }, 10, root)\n  }\n})(window);",
      "application/vnd.bokehjs_exec.v0+json": ""
     },
     "metadata": {
      "application/vnd.bokehjs_exec.v0+json": {
       "id": "p1157"
      }
     },
     "output_type": "display_data"
    },
    {
     "data": {
      "text/html": [
       "<div style=\"display: table;\"><div style=\"display: table-row;\"><div style=\"display: table-cell;\"><b title=\"bokeh.plotting._figure.figure\">figure</b>(</div><div style=\"display: table-cell;\">id&nbsp;=&nbsp;'p1157', <span id=\"p1204\" style=\"cursor: pointer;\">&hellip;)</span></div></div><div class=\"p1203\" style=\"display: none;\"><div style=\"display: table-cell;\"></div><div style=\"display: table-cell;\">above&nbsp;=&nbsp;[],</div></div><div class=\"p1203\" style=\"display: none;\"><div style=\"display: table-cell;\"></div><div style=\"display: table-cell;\">align&nbsp;=&nbsp;'auto',</div></div><div class=\"p1203\" style=\"display: none;\"><div style=\"display: table-cell;\"></div><div style=\"display: table-cell;\">aspect_ratio&nbsp;=&nbsp;None,</div></div><div class=\"p1203\" style=\"display: none;\"><div style=\"display: table-cell;\"></div><div style=\"display: table-cell;\">aspect_scale&nbsp;=&nbsp;1,</div></div><div class=\"p1203\" style=\"display: none;\"><div style=\"display: table-cell;\"></div><div style=\"display: table-cell;\">attribution&nbsp;=&nbsp;[],</div></div><div class=\"p1203\" style=\"display: none;\"><div style=\"display: table-cell;\"></div><div style=\"display: table-cell;\">background_fill_alpha&nbsp;=&nbsp;1.0,</div></div><div class=\"p1203\" style=\"display: none;\"><div style=\"display: table-cell;\"></div><div style=\"display: table-cell;\">background_fill_color&nbsp;=&nbsp;'#ffffff',</div></div><div class=\"p1203\" style=\"display: none;\"><div style=\"display: table-cell;\"></div><div style=\"display: table-cell;\">below&nbsp;=&nbsp;[LinearAxis(id='p1168', ...)],</div></div><div class=\"p1203\" style=\"display: none;\"><div style=\"display: table-cell;\"></div><div style=\"display: table-cell;\">border_fill_alpha&nbsp;=&nbsp;1.0,</div></div><div class=\"p1203\" style=\"display: none;\"><div style=\"display: table-cell;\"></div><div style=\"display: table-cell;\">border_fill_color&nbsp;=&nbsp;'#ffffff',</div></div><div class=\"p1203\" style=\"display: none;\"><div style=\"display: table-cell;\"></div><div style=\"display: table-cell;\">center&nbsp;=&nbsp;[Grid(id='p1172', ...), Grid(id='p1177', ...)],</div></div><div class=\"p1203\" style=\"display: none;\"><div style=\"display: table-cell;\"></div><div style=\"display: table-cell;\">context_menu&nbsp;=&nbsp;None,</div></div><div class=\"p1203\" style=\"display: none;\"><div style=\"display: table-cell;\"></div><div style=\"display: table-cell;\">css_classes&nbsp;=&nbsp;[],</div></div><div class=\"p1203\" style=\"display: none;\"><div style=\"display: table-cell;\"></div><div style=\"display: table-cell;\">css_variables&nbsp;=&nbsp;{},</div></div><div class=\"p1203\" style=\"display: none;\"><div style=\"display: table-cell;\"></div><div style=\"display: table-cell;\">disabled&nbsp;=&nbsp;False,</div></div><div class=\"p1203\" style=\"display: none;\"><div style=\"display: table-cell;\"></div><div style=\"display: table-cell;\">elements&nbsp;=&nbsp;[],</div></div><div class=\"p1203\" style=\"display: none;\"><div style=\"display: table-cell;\"></div><div style=\"display: table-cell;\">extra_x_ranges&nbsp;=&nbsp;{},</div></div><div class=\"p1203\" style=\"display: none;\"><div style=\"display: table-cell;\"></div><div style=\"display: table-cell;\">extra_x_scales&nbsp;=&nbsp;{},</div></div><div class=\"p1203\" style=\"display: none;\"><div style=\"display: table-cell;\"></div><div style=\"display: table-cell;\">extra_y_ranges&nbsp;=&nbsp;{},</div></div><div class=\"p1203\" style=\"display: none;\"><div style=\"display: table-cell;\"></div><div style=\"display: table-cell;\">extra_y_scales&nbsp;=&nbsp;{},</div></div><div class=\"p1203\" style=\"display: none;\"><div style=\"display: table-cell;\"></div><div style=\"display: table-cell;\">flow_mode&nbsp;=&nbsp;'block',</div></div><div class=\"p1203\" style=\"display: none;\"><div style=\"display: table-cell;\"></div><div style=\"display: table-cell;\">frame_align&nbsp;=&nbsp;True,</div></div><div class=\"p1203\" style=\"display: none;\"><div style=\"display: table-cell;\"></div><div style=\"display: table-cell;\">frame_height&nbsp;=&nbsp;None,</div></div><div class=\"p1203\" style=\"display: none;\"><div style=\"display: table-cell;\"></div><div style=\"display: table-cell;\">frame_width&nbsp;=&nbsp;None,</div></div><div class=\"p1203\" style=\"display: none;\"><div style=\"display: table-cell;\"></div><div style=\"display: table-cell;\">height&nbsp;=&nbsp;400,</div></div><div class=\"p1203\" style=\"display: none;\"><div style=\"display: table-cell;\"></div><div style=\"display: table-cell;\">height_policy&nbsp;=&nbsp;'auto',</div></div><div class=\"p1203\" style=\"display: none;\"><div style=\"display: table-cell;\"></div><div style=\"display: table-cell;\">hidpi&nbsp;=&nbsp;True,</div></div><div class=\"p1203\" style=\"display: none;\"><div style=\"display: table-cell;\"></div><div style=\"display: table-cell;\">hold_render&nbsp;=&nbsp;False,</div></div><div class=\"p1203\" style=\"display: none;\"><div style=\"display: table-cell;\"></div><div style=\"display: table-cell;\">js_event_callbacks&nbsp;=&nbsp;{},</div></div><div class=\"p1203\" style=\"display: none;\"><div style=\"display: table-cell;\"></div><div style=\"display: table-cell;\">js_property_callbacks&nbsp;=&nbsp;{},</div></div><div class=\"p1203\" style=\"display: none;\"><div style=\"display: table-cell;\"></div><div style=\"display: table-cell;\">left&nbsp;=&nbsp;[LinearAxis(id='p1173', ...)],</div></div><div class=\"p1203\" style=\"display: none;\"><div style=\"display: table-cell;\"></div><div style=\"display: table-cell;\">lod_factor&nbsp;=&nbsp;10,</div></div><div class=\"p1203\" style=\"display: none;\"><div style=\"display: table-cell;\"></div><div style=\"display: table-cell;\">lod_interval&nbsp;=&nbsp;300,</div></div><div class=\"p1203\" style=\"display: none;\"><div style=\"display: table-cell;\"></div><div style=\"display: table-cell;\">lod_threshold&nbsp;=&nbsp;2000,</div></div><div class=\"p1203\" style=\"display: none;\"><div style=\"display: table-cell;\"></div><div style=\"display: table-cell;\">lod_timeout&nbsp;=&nbsp;500,</div></div><div class=\"p1203\" style=\"display: none;\"><div style=\"display: table-cell;\"></div><div style=\"display: table-cell;\">margin&nbsp;=&nbsp;None,</div></div><div class=\"p1203\" style=\"display: none;\"><div style=\"display: table-cell;\"></div><div style=\"display: table-cell;\">match_aspect&nbsp;=&nbsp;False,</div></div><div class=\"p1203\" style=\"display: none;\"><div style=\"display: table-cell;\"></div><div style=\"display: table-cell;\">max_height&nbsp;=&nbsp;None,</div></div><div class=\"p1203\" style=\"display: none;\"><div style=\"display: table-cell;\"></div><div style=\"display: table-cell;\">max_width&nbsp;=&nbsp;None,</div></div><div class=\"p1203\" style=\"display: none;\"><div style=\"display: table-cell;\"></div><div style=\"display: table-cell;\">min_border&nbsp;=&nbsp;5,</div></div><div class=\"p1203\" style=\"display: none;\"><div style=\"display: table-cell;\"></div><div style=\"display: table-cell;\">min_border_bottom&nbsp;=&nbsp;None,</div></div><div class=\"p1203\" style=\"display: none;\"><div style=\"display: table-cell;\"></div><div style=\"display: table-cell;\">min_border_left&nbsp;=&nbsp;None,</div></div><div class=\"p1203\" style=\"display: none;\"><div style=\"display: table-cell;\"></div><div style=\"display: table-cell;\">min_border_right&nbsp;=&nbsp;None,</div></div><div class=\"p1203\" style=\"display: none;\"><div style=\"display: table-cell;\"></div><div style=\"display: table-cell;\">min_border_top&nbsp;=&nbsp;None,</div></div><div class=\"p1203\" style=\"display: none;\"><div style=\"display: table-cell;\"></div><div style=\"display: table-cell;\">min_height&nbsp;=&nbsp;None,</div></div><div class=\"p1203\" style=\"display: none;\"><div style=\"display: table-cell;\"></div><div style=\"display: table-cell;\">min_width&nbsp;=&nbsp;None,</div></div><div class=\"p1203\" style=\"display: none;\"><div style=\"display: table-cell;\"></div><div style=\"display: table-cell;\">name&nbsp;=&nbsp;None,</div></div><div class=\"p1203\" style=\"display: none;\"><div style=\"display: table-cell;\"></div><div style=\"display: table-cell;\">outline_line_alpha&nbsp;=&nbsp;1.0,</div></div><div class=\"p1203\" style=\"display: none;\"><div style=\"display: table-cell;\"></div><div style=\"display: table-cell;\">outline_line_cap&nbsp;=&nbsp;'butt',</div></div><div class=\"p1203\" style=\"display: none;\"><div style=\"display: table-cell;\"></div><div style=\"display: table-cell;\">outline_line_color&nbsp;=&nbsp;'#e5e5e5',</div></div><div class=\"p1203\" style=\"display: none;\"><div style=\"display: table-cell;\"></div><div style=\"display: table-cell;\">outline_line_dash&nbsp;=&nbsp;[],</div></div><div class=\"p1203\" style=\"display: none;\"><div style=\"display: table-cell;\"></div><div style=\"display: table-cell;\">outline_line_dash_offset&nbsp;=&nbsp;0,</div></div><div class=\"p1203\" style=\"display: none;\"><div style=\"display: table-cell;\"></div><div style=\"display: table-cell;\">outline_line_join&nbsp;=&nbsp;'bevel',</div></div><div class=\"p1203\" style=\"display: none;\"><div style=\"display: table-cell;\"></div><div style=\"display: table-cell;\">outline_line_width&nbsp;=&nbsp;1,</div></div><div class=\"p1203\" style=\"display: none;\"><div style=\"display: table-cell;\"></div><div style=\"display: table-cell;\">output_backend&nbsp;=&nbsp;'canvas',</div></div><div class=\"p1203\" style=\"display: none;\"><div style=\"display: table-cell;\"></div><div style=\"display: table-cell;\">renderers&nbsp;=&nbsp;[GlyphRenderer(id='p1197', ...)],</div></div><div class=\"p1203\" style=\"display: none;\"><div style=\"display: table-cell;\"></div><div style=\"display: table-cell;\">reset_policy&nbsp;=&nbsp;'standard',</div></div><div class=\"p1203\" style=\"display: none;\"><div style=\"display: table-cell;\"></div><div style=\"display: table-cell;\">resizable&nbsp;=&nbsp;False,</div></div><div class=\"p1203\" style=\"display: none;\"><div style=\"display: table-cell;\"></div><div style=\"display: table-cell;\">right&nbsp;=&nbsp;[],</div></div><div class=\"p1203\" style=\"display: none;\"><div style=\"display: table-cell;\"></div><div style=\"display: table-cell;\">sizing_mode&nbsp;=&nbsp;None,</div></div><div class=\"p1203\" style=\"display: none;\"><div style=\"display: table-cell;\"></div><div style=\"display: table-cell;\">styles&nbsp;=&nbsp;{},</div></div><div class=\"p1203\" style=\"display: none;\"><div style=\"display: table-cell;\"></div><div style=\"display: table-cell;\">stylesheets&nbsp;=&nbsp;[],</div></div><div class=\"p1203\" style=\"display: none;\"><div style=\"display: table-cell;\"></div><div style=\"display: table-cell;\">subscribed_events&nbsp;=&nbsp;PropertyValueSet(),</div></div><div class=\"p1203\" style=\"display: none;\"><div style=\"display: table-cell;\"></div><div style=\"display: table-cell;\">syncable&nbsp;=&nbsp;True,</div></div><div class=\"p1203\" style=\"display: none;\"><div style=\"display: table-cell;\"></div><div style=\"display: table-cell;\">tags&nbsp;=&nbsp;[],</div></div><div class=\"p1203\" style=\"display: none;\"><div style=\"display: table-cell;\"></div><div style=\"display: table-cell;\">title&nbsp;=&nbsp;Title(id='p1164', ...),</div></div><div class=\"p1203\" style=\"display: none;\"><div style=\"display: table-cell;\"></div><div style=\"display: table-cell;\">title_location&nbsp;=&nbsp;'above',</div></div><div class=\"p1203\" style=\"display: none;\"><div style=\"display: table-cell;\"></div><div style=\"display: table-cell;\">toolbar&nbsp;=&nbsp;Toolbar(id='p1165', ...),</div></div><div class=\"p1203\" style=\"display: none;\"><div style=\"display: table-cell;\"></div><div style=\"display: table-cell;\">toolbar_inner&nbsp;=&nbsp;False,</div></div><div class=\"p1203\" style=\"display: none;\"><div style=\"display: table-cell;\"></div><div style=\"display: table-cell;\">toolbar_location&nbsp;=&nbsp;'right',</div></div><div class=\"p1203\" style=\"display: none;\"><div style=\"display: table-cell;\"></div><div style=\"display: table-cell;\">toolbar_sticky&nbsp;=&nbsp;True,</div></div><div class=\"p1203\" style=\"display: none;\"><div style=\"display: table-cell;\"></div><div style=\"display: table-cell;\">visible&nbsp;=&nbsp;True,</div></div><div class=\"p1203\" style=\"display: none;\"><div style=\"display: table-cell;\"></div><div style=\"display: table-cell;\">width&nbsp;=&nbsp;600,</div></div><div class=\"p1203\" style=\"display: none;\"><div style=\"display: table-cell;\"></div><div style=\"display: table-cell;\">width_policy&nbsp;=&nbsp;'auto',</div></div><div class=\"p1203\" style=\"display: none;\"><div style=\"display: table-cell;\"></div><div style=\"display: table-cell;\">x_range&nbsp;=&nbsp;DataRange1d(id='p1158', ...),</div></div><div class=\"p1203\" style=\"display: none;\"><div style=\"display: table-cell;\"></div><div style=\"display: table-cell;\">x_scale&nbsp;=&nbsp;LinearScale(id='p1166', ...),</div></div><div class=\"p1203\" style=\"display: none;\"><div style=\"display: table-cell;\"></div><div style=\"display: table-cell;\">y_range&nbsp;=&nbsp;DataRange1d(id='p1159', ...),</div></div><div class=\"p1203\" style=\"display: none;\"><div style=\"display: table-cell;\"></div><div style=\"display: table-cell;\">y_scale&nbsp;=&nbsp;LinearScale(id='p1167', ...))</div></div></div>\n",
       "<script>\n",
       "(function() {\n",
       "  let expanded = false;\n",
       "  const ellipsis = document.getElementById(\"p1204\");\n",
       "  ellipsis.addEventListener(\"click\", function() {\n",
       "    const rows = document.getElementsByClassName(\"p1203\");\n",
       "    for (let i = 0; i < rows.length; i++) {\n",
       "      const el = rows[i];\n",
       "      el.style.display = expanded ? \"none\" : \"table-row\";\n",
       "    }\n",
       "    ellipsis.innerHTML = expanded ? \"&hellip;)\" : \"&lsaquo;&lsaquo;&lsaquo;\";\n",
       "    expanded = !expanded;\n",
       "  });\n",
       "})();\n",
       "</script>\n"
      ],
      "text/plain": [
       "figure(id='p1157', ...)"
      ]
     },
     "execution_count": 130,
     "metadata": {},
     "output_type": "execute_result"
    }
   ],
   "source": [
    "draw_vectors(embedding[:, 0], embedding[:, 1], token=top_words)"
   ]
  },
  {
   "cell_type": "markdown",
   "metadata": {},
   "source": [
    "Для сдачи задания необходимо загрузить функции `subsample_frequent_words` и `get_negative_sampling_prob`, а также сгенерировать файл для посылки ниже и приложить в соответствующую задачу. Успехов!"
   ]
  },
  {
   "cell_type": "code",
   "execution_count": 131,
   "metadata": {},
   "outputs": [
    {
     "name": "stdout",
     "output_type": "stream",
     "text": [
      "File saved to `submission_dict.json`\n"
     ]
    }
   ],
   "source": [
    "# do not change the code in the block below\n",
    "# __________start of block__________\n",
    "import os\n",
    "import json\n",
    "\n",
    "assert os.path.exists(\n",
    "    \"words_subset.txt\"\n",
    "), \"Please, download `words_subset.txt` and place it in the working directory\"\n",
    "\n",
    "with open(\"words_subset.txt\") as iofile:\n",
    "    selected_words = iofile.read().split(\"\\n\")\n",
    "\n",
    "\n",
    "def get_matrix_for_selected_words(selected_words, embedding_matrix, word_to_index):\n",
    "    word_vectors = []\n",
    "    for word in selected_words:\n",
    "        index = word_to_index.get(word, None)\n",
    "        vector = [0.0] * embedding_matrix.shape[1]\n",
    "        if index is not None:\n",
    "            vector = embedding_matrix[index].numpy().tolist()\n",
    "        word_vectors.append(vector)\n",
    "    return word_vectors\n",
    "\n",
    "\n",
    "word_vectors = get_matrix_for_selected_words(\n",
    "    selected_words, embedding_matrix_context, word_to_index\n",
    ")\n",
    "\n",
    "with open(\"submission_dict.json\", \"w\") as iofile:\n",
    "    json.dump(word_vectors, iofile)\n",
    "print(\"File saved to `submission_dict.json`\")\n",
    "# __________end of block__________"
   ]
  }
 ],
 "metadata": {
  "colab": {
   "provenance": []
  },
  "kernelspec": {
   "display_name": "nlp_env",
   "language": "python",
   "name": "python3"
  },
  "language_info": {
   "codemirror_mode": {
    "name": "ipython",
    "version": 3
   },
   "file_extension": ".py",
   "mimetype": "text/x-python",
   "name": "python",
   "nbconvert_exporter": "python",
   "pygments_lexer": "ipython3",
   "version": "3.12.5"
  }
 },
 "nbformat": 4,
 "nbformat_minor": 0
}
